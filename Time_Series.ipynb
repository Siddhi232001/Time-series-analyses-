{
  "cells": [
    {
      "cell_type": "markdown",
      "source": [
        "## Time Series"
      ],
      "metadata": {
        "id": "v_6_h34BRndW"
      },
      "id": "v_6_h34BRndW"
    },
    {
      "cell_type": "code",
      "execution_count": 1,
      "id": "1e234b66",
      "metadata": {
        "execution": {
          "iopub.execute_input": "2021-09-23T06:58:31.961686Z",
          "iopub.status.busy": "2021-09-23T06:58:31.960882Z",
          "iopub.status.idle": "2021-09-23T06:58:31.966317Z",
          "shell.execute_reply": "2021-09-23T06:58:31.965462Z",
          "shell.execute_reply.started": "2021-09-23T06:52:30.024040Z"
        },
        "papermill": {
          "duration": 0.069753,
          "end_time": "2021-09-23T06:58:31.966490",
          "exception": false,
          "start_time": "2021-09-23T06:58:31.896737",
          "status": "completed"
        },
        "tags": [],
        "id": "1e234b66"
      },
      "outputs": [],
      "source": [
        "import numpy as np\n",
        "import pandas as pd\n",
        "\n",
        "import matplotlib.pyplot as plt\n",
        "%matplotlib inline\n",
        "\n",
        "from statsmodels.tsa.arima.model import ARIMA\n",
        "\n",
        "from sklearn.metrics import mean_absolute_error, mean_squared_error, r2_score, mean_absolute_percentage_error"
      ]
    },
    {
      "cell_type": "code",
      "execution_count": 2,
      "id": "e9d7de29",
      "metadata": {
        "execution": {
          "iopub.execute_input": "2021-09-23T06:58:32.178301Z",
          "iopub.status.busy": "2021-09-23T06:58:32.177596Z",
          "iopub.status.idle": "2021-09-23T06:58:32.196725Z",
          "shell.execute_reply": "2021-09-23T06:58:32.196152Z",
          "shell.execute_reply.started": "2021-09-23T06:52:30.059383Z"
        },
        "papermill": {
          "duration": 0.072747,
          "end_time": "2021-09-23T06:58:32.196888",
          "exception": false,
          "start_time": "2021-09-23T06:58:32.124141",
          "status": "completed"
        },
        "tags": [],
        "id": "e9d7de29"
      },
      "outputs": [],
      "source": [
        "df=pd.read_csv('/content/infy_stock.csv')"
      ]
    },
    {
      "cell_type": "code",
      "execution_count": 3,
      "id": "5bfb4a60",
      "metadata": {
        "execution": {
          "iopub.execute_input": "2021-09-23T06:58:32.318234Z",
          "iopub.status.busy": "2021-09-23T06:58:32.317204Z",
          "iopub.status.idle": "2021-09-23T06:58:32.330353Z",
          "shell.execute_reply": "2021-09-23T06:58:32.330929Z",
          "shell.execute_reply.started": "2021-09-23T06:52:30.084472Z"
        },
        "papermill": {
          "duration": 0.082805,
          "end_time": "2021-09-23T06:58:32.331133",
          "exception": false,
          "start_time": "2021-09-23T06:58:32.248328",
          "status": "completed"
        },
        "tags": [],
        "colab": {
          "base_uri": "https://localhost:8080/",
          "height": 206
        },
        "id": "5bfb4a60",
        "outputId": "ee64d237-7984-4bd4-b6fd-77e13b23853f"
      },
      "outputs": [
        {
          "output_type": "execute_result",
          "data": {
            "text/plain": [
              "         Date     VWAP\n",
              "0  01/01/2015  1971.34\n",
              "1  02/01/2015  2003.25\n",
              "2  05/01/2015  2004.59\n",
              "3  06/01/2015  1954.82\n",
              "4  07/01/2015  1962.59"
            ],
            "text/html": [
              "\n",
              "  <div id=\"df-d07d70d4-0ef3-4357-baee-a8b8865bf687\">\n",
              "    <div class=\"colab-df-container\">\n",
              "      <div>\n",
              "<style scoped>\n",
              "    .dataframe tbody tr th:only-of-type {\n",
              "        vertical-align: middle;\n",
              "    }\n",
              "\n",
              "    .dataframe tbody tr th {\n",
              "        vertical-align: top;\n",
              "    }\n",
              "\n",
              "    .dataframe thead th {\n",
              "        text-align: right;\n",
              "    }\n",
              "</style>\n",
              "<table border=\"1\" class=\"dataframe\">\n",
              "  <thead>\n",
              "    <tr style=\"text-align: right;\">\n",
              "      <th></th>\n",
              "      <th>Date</th>\n",
              "      <th>VWAP</th>\n",
              "    </tr>\n",
              "  </thead>\n",
              "  <tbody>\n",
              "    <tr>\n",
              "      <th>0</th>\n",
              "      <td>01/01/2015</td>\n",
              "      <td>1971.34</td>\n",
              "    </tr>\n",
              "    <tr>\n",
              "      <th>1</th>\n",
              "      <td>02/01/2015</td>\n",
              "      <td>2003.25</td>\n",
              "    </tr>\n",
              "    <tr>\n",
              "      <th>2</th>\n",
              "      <td>05/01/2015</td>\n",
              "      <td>2004.59</td>\n",
              "    </tr>\n",
              "    <tr>\n",
              "      <th>3</th>\n",
              "      <td>06/01/2015</td>\n",
              "      <td>1954.82</td>\n",
              "    </tr>\n",
              "    <tr>\n",
              "      <th>4</th>\n",
              "      <td>07/01/2015</td>\n",
              "      <td>1962.59</td>\n",
              "    </tr>\n",
              "  </tbody>\n",
              "</table>\n",
              "</div>\n",
              "      <button class=\"colab-df-convert\" onclick=\"convertToInteractive('df-d07d70d4-0ef3-4357-baee-a8b8865bf687')\"\n",
              "              title=\"Convert this dataframe to an interactive table.\"\n",
              "              style=\"display:none;\">\n",
              "        \n",
              "  <svg xmlns=\"http://www.w3.org/2000/svg\" height=\"24px\"viewBox=\"0 0 24 24\"\n",
              "       width=\"24px\">\n",
              "    <path d=\"M0 0h24v24H0V0z\" fill=\"none\"/>\n",
              "    <path d=\"M18.56 5.44l.94 2.06.94-2.06 2.06-.94-2.06-.94-.94-2.06-.94 2.06-2.06.94zm-11 1L8.5 8.5l.94-2.06 2.06-.94-2.06-.94L8.5 2.5l-.94 2.06-2.06.94zm10 10l.94 2.06.94-2.06 2.06-.94-2.06-.94-.94-2.06-.94 2.06-2.06.94z\"/><path d=\"M17.41 7.96l-1.37-1.37c-.4-.4-.92-.59-1.43-.59-.52 0-1.04.2-1.43.59L10.3 9.45l-7.72 7.72c-.78.78-.78 2.05 0 2.83L4 21.41c.39.39.9.59 1.41.59.51 0 1.02-.2 1.41-.59l7.78-7.78 2.81-2.81c.8-.78.8-2.07 0-2.86zM5.41 20L4 18.59l7.72-7.72 1.47 1.35L5.41 20z\"/>\n",
              "  </svg>\n",
              "      </button>\n",
              "      \n",
              "  <style>\n",
              "    .colab-df-container {\n",
              "      display:flex;\n",
              "      flex-wrap:wrap;\n",
              "      gap: 12px;\n",
              "    }\n",
              "\n",
              "    .colab-df-convert {\n",
              "      background-color: #E8F0FE;\n",
              "      border: none;\n",
              "      border-radius: 50%;\n",
              "      cursor: pointer;\n",
              "      display: none;\n",
              "      fill: #1967D2;\n",
              "      height: 32px;\n",
              "      padding: 0 0 0 0;\n",
              "      width: 32px;\n",
              "    }\n",
              "\n",
              "    .colab-df-convert:hover {\n",
              "      background-color: #E2EBFA;\n",
              "      box-shadow: 0px 1px 2px rgba(60, 64, 67, 0.3), 0px 1px 3px 1px rgba(60, 64, 67, 0.15);\n",
              "      fill: #174EA6;\n",
              "    }\n",
              "\n",
              "    [theme=dark] .colab-df-convert {\n",
              "      background-color: #3B4455;\n",
              "      fill: #D2E3FC;\n",
              "    }\n",
              "\n",
              "    [theme=dark] .colab-df-convert:hover {\n",
              "      background-color: #434B5C;\n",
              "      box-shadow: 0px 1px 3px 1px rgba(0, 0, 0, 0.15);\n",
              "      filter: drop-shadow(0px 1px 2px rgba(0, 0, 0, 0.3));\n",
              "      fill: #FFFFFF;\n",
              "    }\n",
              "  </style>\n",
              "\n",
              "      <script>\n",
              "        const buttonEl =\n",
              "          document.querySelector('#df-d07d70d4-0ef3-4357-baee-a8b8865bf687 button.colab-df-convert');\n",
              "        buttonEl.style.display =\n",
              "          google.colab.kernel.accessAllowed ? 'block' : 'none';\n",
              "\n",
              "        async function convertToInteractive(key) {\n",
              "          const element = document.querySelector('#df-d07d70d4-0ef3-4357-baee-a8b8865bf687');\n",
              "          const dataTable =\n",
              "            await google.colab.kernel.invokeFunction('convertToInteractive',\n",
              "                                                     [key], {});\n",
              "          if (!dataTable) return;\n",
              "\n",
              "          const docLinkHtml = 'Like what you see? Visit the ' +\n",
              "            '<a target=\"_blank\" href=https://colab.research.google.com/notebooks/data_table.ipynb>data table notebook</a>'\n",
              "            + ' to learn more about interactive tables.';\n",
              "          element.innerHTML = '';\n",
              "          dataTable['output_type'] = 'display_data';\n",
              "          await google.colab.output.renderOutput(dataTable, element);\n",
              "          const docLink = document.createElement('div');\n",
              "          docLink.innerHTML = docLinkHtml;\n",
              "          element.appendChild(docLink);\n",
              "        }\n",
              "      </script>\n",
              "    </div>\n",
              "  </div>\n",
              "  "
            ]
          },
          "metadata": {},
          "execution_count": 3
        }
      ],
      "source": [
        "df.head()"
      ]
    },
    {
      "cell_type": "code",
      "execution_count": 4,
      "id": "114a8e74",
      "metadata": {
        "execution": {
          "iopub.execute_input": "2021-09-23T06:58:32.443299Z",
          "iopub.status.busy": "2021-09-23T06:58:32.442308Z",
          "iopub.status.idle": "2021-09-23T06:58:32.453372Z",
          "shell.execute_reply": "2021-09-23T06:58:32.452694Z",
          "shell.execute_reply.started": "2021-09-23T06:52:30.107452Z"
        },
        "papermill": {
          "duration": 0.063387,
          "end_time": "2021-09-23T06:58:32.453528",
          "exception": false,
          "start_time": "2021-09-23T06:58:32.390141",
          "status": "completed"
        },
        "tags": [],
        "colab": {
          "base_uri": "https://localhost:8080/",
          "height": 206
        },
        "id": "114a8e74",
        "outputId": "fb0e5169-d60a-4b20-9c38-a5988074d3a3"
      },
      "outputs": [
        {
          "output_type": "execute_result",
          "data": {
            "text/plain": [
              "           Date     VWAP\n",
              "243  24/12/2015  1095.84\n",
              "244  28/12/2015  1105.51\n",
              "245  29/12/2015  1104.14\n",
              "246  30/12/2015  1094.45\n",
              "247  31/12/2015  1102.09"
            ],
            "text/html": [
              "\n",
              "  <div id=\"df-ca085ec3-648a-47ab-ad86-2a0ffdd697ab\">\n",
              "    <div class=\"colab-df-container\">\n",
              "      <div>\n",
              "<style scoped>\n",
              "    .dataframe tbody tr th:only-of-type {\n",
              "        vertical-align: middle;\n",
              "    }\n",
              "\n",
              "    .dataframe tbody tr th {\n",
              "        vertical-align: top;\n",
              "    }\n",
              "\n",
              "    .dataframe thead th {\n",
              "        text-align: right;\n",
              "    }\n",
              "</style>\n",
              "<table border=\"1\" class=\"dataframe\">\n",
              "  <thead>\n",
              "    <tr style=\"text-align: right;\">\n",
              "      <th></th>\n",
              "      <th>Date</th>\n",
              "      <th>VWAP</th>\n",
              "    </tr>\n",
              "  </thead>\n",
              "  <tbody>\n",
              "    <tr>\n",
              "      <th>243</th>\n",
              "      <td>24/12/2015</td>\n",
              "      <td>1095.84</td>\n",
              "    </tr>\n",
              "    <tr>\n",
              "      <th>244</th>\n",
              "      <td>28/12/2015</td>\n",
              "      <td>1105.51</td>\n",
              "    </tr>\n",
              "    <tr>\n",
              "      <th>245</th>\n",
              "      <td>29/12/2015</td>\n",
              "      <td>1104.14</td>\n",
              "    </tr>\n",
              "    <tr>\n",
              "      <th>246</th>\n",
              "      <td>30/12/2015</td>\n",
              "      <td>1094.45</td>\n",
              "    </tr>\n",
              "    <tr>\n",
              "      <th>247</th>\n",
              "      <td>31/12/2015</td>\n",
              "      <td>1102.09</td>\n",
              "    </tr>\n",
              "  </tbody>\n",
              "</table>\n",
              "</div>\n",
              "      <button class=\"colab-df-convert\" onclick=\"convertToInteractive('df-ca085ec3-648a-47ab-ad86-2a0ffdd697ab')\"\n",
              "              title=\"Convert this dataframe to an interactive table.\"\n",
              "              style=\"display:none;\">\n",
              "        \n",
              "  <svg xmlns=\"http://www.w3.org/2000/svg\" height=\"24px\"viewBox=\"0 0 24 24\"\n",
              "       width=\"24px\">\n",
              "    <path d=\"M0 0h24v24H0V0z\" fill=\"none\"/>\n",
              "    <path d=\"M18.56 5.44l.94 2.06.94-2.06 2.06-.94-2.06-.94-.94-2.06-.94 2.06-2.06.94zm-11 1L8.5 8.5l.94-2.06 2.06-.94-2.06-.94L8.5 2.5l-.94 2.06-2.06.94zm10 10l.94 2.06.94-2.06 2.06-.94-2.06-.94-.94-2.06-.94 2.06-2.06.94z\"/><path d=\"M17.41 7.96l-1.37-1.37c-.4-.4-.92-.59-1.43-.59-.52 0-1.04.2-1.43.59L10.3 9.45l-7.72 7.72c-.78.78-.78 2.05 0 2.83L4 21.41c.39.39.9.59 1.41.59.51 0 1.02-.2 1.41-.59l7.78-7.78 2.81-2.81c.8-.78.8-2.07 0-2.86zM5.41 20L4 18.59l7.72-7.72 1.47 1.35L5.41 20z\"/>\n",
              "  </svg>\n",
              "      </button>\n",
              "      \n",
              "  <style>\n",
              "    .colab-df-container {\n",
              "      display:flex;\n",
              "      flex-wrap:wrap;\n",
              "      gap: 12px;\n",
              "    }\n",
              "\n",
              "    .colab-df-convert {\n",
              "      background-color: #E8F0FE;\n",
              "      border: none;\n",
              "      border-radius: 50%;\n",
              "      cursor: pointer;\n",
              "      display: none;\n",
              "      fill: #1967D2;\n",
              "      height: 32px;\n",
              "      padding: 0 0 0 0;\n",
              "      width: 32px;\n",
              "    }\n",
              "\n",
              "    .colab-df-convert:hover {\n",
              "      background-color: #E2EBFA;\n",
              "      box-shadow: 0px 1px 2px rgba(60, 64, 67, 0.3), 0px 1px 3px 1px rgba(60, 64, 67, 0.15);\n",
              "      fill: #174EA6;\n",
              "    }\n",
              "\n",
              "    [theme=dark] .colab-df-convert {\n",
              "      background-color: #3B4455;\n",
              "      fill: #D2E3FC;\n",
              "    }\n",
              "\n",
              "    [theme=dark] .colab-df-convert:hover {\n",
              "      background-color: #434B5C;\n",
              "      box-shadow: 0px 1px 3px 1px rgba(0, 0, 0, 0.15);\n",
              "      filter: drop-shadow(0px 1px 2px rgba(0, 0, 0, 0.3));\n",
              "      fill: #FFFFFF;\n",
              "    }\n",
              "  </style>\n",
              "\n",
              "      <script>\n",
              "        const buttonEl =\n",
              "          document.querySelector('#df-ca085ec3-648a-47ab-ad86-2a0ffdd697ab button.colab-df-convert');\n",
              "        buttonEl.style.display =\n",
              "          google.colab.kernel.accessAllowed ? 'block' : 'none';\n",
              "\n",
              "        async function convertToInteractive(key) {\n",
              "          const element = document.querySelector('#df-ca085ec3-648a-47ab-ad86-2a0ffdd697ab');\n",
              "          const dataTable =\n",
              "            await google.colab.kernel.invokeFunction('convertToInteractive',\n",
              "                                                     [key], {});\n",
              "          if (!dataTable) return;\n",
              "\n",
              "          const docLinkHtml = 'Like what you see? Visit the ' +\n",
              "            '<a target=\"_blank\" href=https://colab.research.google.com/notebooks/data_table.ipynb>data table notebook</a>'\n",
              "            + ' to learn more about interactive tables.';\n",
              "          element.innerHTML = '';\n",
              "          dataTable['output_type'] = 'display_data';\n",
              "          await google.colab.output.renderOutput(dataTable, element);\n",
              "          const docLink = document.createElement('div');\n",
              "          docLink.innerHTML = docLinkHtml;\n",
              "          element.appendChild(docLink);\n",
              "        }\n",
              "      </script>\n",
              "    </div>\n",
              "  </div>\n",
              "  "
            ]
          },
          "metadata": {},
          "execution_count": 4
        }
      ],
      "source": [
        "df.tail()"
      ]
    },
    {
      "cell_type": "code",
      "execution_count": 5,
      "id": "f11dc9ea",
      "metadata": {
        "execution": {
          "iopub.execute_input": "2021-09-23T06:58:32.559218Z",
          "iopub.status.busy": "2021-09-23T06:58:32.558460Z",
          "iopub.status.idle": "2021-09-23T06:58:32.562475Z",
          "shell.execute_reply": "2021-09-23T06:58:32.561947Z",
          "shell.execute_reply.started": "2021-09-23T06:52:30.119132Z"
        },
        "papermill": {
          "duration": 0.059011,
          "end_time": "2021-09-23T06:58:32.562630",
          "exception": false,
          "start_time": "2021-09-23T06:58:32.503619",
          "status": "completed"
        },
        "tags": [],
        "colab": {
          "base_uri": "https://localhost:8080/"
        },
        "id": "f11dc9ea",
        "outputId": "f6d4f198-5292-465c-e5cb-77b02b618a45"
      },
      "outputs": [
        {
          "output_type": "execute_result",
          "data": {
            "text/plain": [
              "(248, 2)"
            ]
          },
          "metadata": {},
          "execution_count": 5
        }
      ],
      "source": [
        "df.shape"
      ]
    },
    {
      "cell_type": "code",
      "execution_count": 6,
      "id": "a090e4d8",
      "metadata": {
        "execution": {
          "iopub.execute_input": "2021-09-23T06:58:32.674053Z",
          "iopub.status.busy": "2021-09-23T06:58:32.673022Z",
          "iopub.status.idle": "2021-09-23T06:58:32.677217Z",
          "shell.execute_reply": "2021-09-23T06:58:32.676648Z",
          "shell.execute_reply.started": "2021-09-23T06:52:30.133475Z"
        },
        "papermill": {
          "duration": 0.064366,
          "end_time": "2021-09-23T06:58:32.677363",
          "exception": false,
          "start_time": "2021-09-23T06:58:32.612997",
          "status": "completed"
        },
        "tags": [],
        "colab": {
          "base_uri": "https://localhost:8080/",
          "height": 206
        },
        "id": "a090e4d8",
        "outputId": "312fe2e9-44bc-4b62-a9a1-c25078fd8078"
      },
      "outputs": [
        {
          "output_type": "execute_result",
          "data": {
            "text/plain": [
              "         Date  Stock Price\n",
              "0  01/01/2015      1971.34\n",
              "1  02/01/2015      2003.25\n",
              "2  05/01/2015      2004.59\n",
              "3  06/01/2015      1954.82\n",
              "4  07/01/2015      1962.59"
            ],
            "text/html": [
              "\n",
              "  <div id=\"df-55de8118-9647-490c-8c86-9f05ccfdb2a1\">\n",
              "    <div class=\"colab-df-container\">\n",
              "      <div>\n",
              "<style scoped>\n",
              "    .dataframe tbody tr th:only-of-type {\n",
              "        vertical-align: middle;\n",
              "    }\n",
              "\n",
              "    .dataframe tbody tr th {\n",
              "        vertical-align: top;\n",
              "    }\n",
              "\n",
              "    .dataframe thead th {\n",
              "        text-align: right;\n",
              "    }\n",
              "</style>\n",
              "<table border=\"1\" class=\"dataframe\">\n",
              "  <thead>\n",
              "    <tr style=\"text-align: right;\">\n",
              "      <th></th>\n",
              "      <th>Date</th>\n",
              "      <th>Stock Price</th>\n",
              "    </tr>\n",
              "  </thead>\n",
              "  <tbody>\n",
              "    <tr>\n",
              "      <th>0</th>\n",
              "      <td>01/01/2015</td>\n",
              "      <td>1971.34</td>\n",
              "    </tr>\n",
              "    <tr>\n",
              "      <th>1</th>\n",
              "      <td>02/01/2015</td>\n",
              "      <td>2003.25</td>\n",
              "    </tr>\n",
              "    <tr>\n",
              "      <th>2</th>\n",
              "      <td>05/01/2015</td>\n",
              "      <td>2004.59</td>\n",
              "    </tr>\n",
              "    <tr>\n",
              "      <th>3</th>\n",
              "      <td>06/01/2015</td>\n",
              "      <td>1954.82</td>\n",
              "    </tr>\n",
              "    <tr>\n",
              "      <th>4</th>\n",
              "      <td>07/01/2015</td>\n",
              "      <td>1962.59</td>\n",
              "    </tr>\n",
              "  </tbody>\n",
              "</table>\n",
              "</div>\n",
              "      <button class=\"colab-df-convert\" onclick=\"convertToInteractive('df-55de8118-9647-490c-8c86-9f05ccfdb2a1')\"\n",
              "              title=\"Convert this dataframe to an interactive table.\"\n",
              "              style=\"display:none;\">\n",
              "        \n",
              "  <svg xmlns=\"http://www.w3.org/2000/svg\" height=\"24px\"viewBox=\"0 0 24 24\"\n",
              "       width=\"24px\">\n",
              "    <path d=\"M0 0h24v24H0V0z\" fill=\"none\"/>\n",
              "    <path d=\"M18.56 5.44l.94 2.06.94-2.06 2.06-.94-2.06-.94-.94-2.06-.94 2.06-2.06.94zm-11 1L8.5 8.5l.94-2.06 2.06-.94-2.06-.94L8.5 2.5l-.94 2.06-2.06.94zm10 10l.94 2.06.94-2.06 2.06-.94-2.06-.94-.94-2.06-.94 2.06-2.06.94z\"/><path d=\"M17.41 7.96l-1.37-1.37c-.4-.4-.92-.59-1.43-.59-.52 0-1.04.2-1.43.59L10.3 9.45l-7.72 7.72c-.78.78-.78 2.05 0 2.83L4 21.41c.39.39.9.59 1.41.59.51 0 1.02-.2 1.41-.59l7.78-7.78 2.81-2.81c.8-.78.8-2.07 0-2.86zM5.41 20L4 18.59l7.72-7.72 1.47 1.35L5.41 20z\"/>\n",
              "  </svg>\n",
              "      </button>\n",
              "      \n",
              "  <style>\n",
              "    .colab-df-container {\n",
              "      display:flex;\n",
              "      flex-wrap:wrap;\n",
              "      gap: 12px;\n",
              "    }\n",
              "\n",
              "    .colab-df-convert {\n",
              "      background-color: #E8F0FE;\n",
              "      border: none;\n",
              "      border-radius: 50%;\n",
              "      cursor: pointer;\n",
              "      display: none;\n",
              "      fill: #1967D2;\n",
              "      height: 32px;\n",
              "      padding: 0 0 0 0;\n",
              "      width: 32px;\n",
              "    }\n",
              "\n",
              "    .colab-df-convert:hover {\n",
              "      background-color: #E2EBFA;\n",
              "      box-shadow: 0px 1px 2px rgba(60, 64, 67, 0.3), 0px 1px 3px 1px rgba(60, 64, 67, 0.15);\n",
              "      fill: #174EA6;\n",
              "    }\n",
              "\n",
              "    [theme=dark] .colab-df-convert {\n",
              "      background-color: #3B4455;\n",
              "      fill: #D2E3FC;\n",
              "    }\n",
              "\n",
              "    [theme=dark] .colab-df-convert:hover {\n",
              "      background-color: #434B5C;\n",
              "      box-shadow: 0px 1px 3px 1px rgba(0, 0, 0, 0.15);\n",
              "      filter: drop-shadow(0px 1px 2px rgba(0, 0, 0, 0.3));\n",
              "      fill: #FFFFFF;\n",
              "    }\n",
              "  </style>\n",
              "\n",
              "      <script>\n",
              "        const buttonEl =\n",
              "          document.querySelector('#df-55de8118-9647-490c-8c86-9f05ccfdb2a1 button.colab-df-convert');\n",
              "        buttonEl.style.display =\n",
              "          google.colab.kernel.accessAllowed ? 'block' : 'none';\n",
              "\n",
              "        async function convertToInteractive(key) {\n",
              "          const element = document.querySelector('#df-55de8118-9647-490c-8c86-9f05ccfdb2a1');\n",
              "          const dataTable =\n",
              "            await google.colab.kernel.invokeFunction('convertToInteractive',\n",
              "                                                     [key], {});\n",
              "          if (!dataTable) return;\n",
              "\n",
              "          const docLinkHtml = 'Like what you see? Visit the ' +\n",
              "            '<a target=\"_blank\" href=https://colab.research.google.com/notebooks/data_table.ipynb>data table notebook</a>'\n",
              "            + ' to learn more about interactive tables.';\n",
              "          element.innerHTML = '';\n",
              "          dataTable['output_type'] = 'display_data';\n",
              "          await google.colab.output.renderOutput(dataTable, element);\n",
              "          const docLink = document.createElement('div');\n",
              "          docLink.innerHTML = docLinkHtml;\n",
              "          element.appendChild(docLink);\n",
              "        }\n",
              "      </script>\n",
              "    </div>\n",
              "  </div>\n",
              "  "
            ]
          },
          "metadata": {},
          "execution_count": 6
        }
      ],
      "source": [
        "## Cleaning up the data\n",
        "df.columns=[\"Date\",\"Stock Price\"]\n",
        "df.head()"
      ]
    },
    {
      "cell_type": "code",
      "execution_count": 7,
      "id": "e8493e4d",
      "metadata": {
        "execution": {
          "iopub.execute_input": "2021-09-23T06:58:32.921173Z",
          "iopub.status.busy": "2021-09-23T06:58:32.920105Z",
          "iopub.status.idle": "2021-09-23T06:58:32.924813Z",
          "shell.execute_reply": "2021-09-23T06:58:32.924143Z",
          "shell.execute_reply.started": "2021-09-23T06:52:30.163962Z"
        },
        "papermill": {
          "duration": 0.065238,
          "end_time": "2021-09-23T06:58:32.924957",
          "exception": false,
          "start_time": "2021-09-23T06:58:32.859719",
          "status": "completed"
        },
        "tags": [],
        "colab": {
          "base_uri": "https://localhost:8080/",
          "height": 206
        },
        "id": "e8493e4d",
        "outputId": "b1c913e2-1629-4515-f08f-f03ad31a9eea"
      },
      "outputs": [
        {
          "output_type": "execute_result",
          "data": {
            "text/plain": [
              "           Date  Stock Price\n",
              "243  24/12/2015      1095.84\n",
              "244  28/12/2015      1105.51\n",
              "245  29/12/2015      1104.14\n",
              "246  30/12/2015      1094.45\n",
              "247  31/12/2015      1102.09"
            ],
            "text/html": [
              "\n",
              "  <div id=\"df-408be7e2-7c16-45f9-8eca-7fa1d6b07de0\">\n",
              "    <div class=\"colab-df-container\">\n",
              "      <div>\n",
              "<style scoped>\n",
              "    .dataframe tbody tr th:only-of-type {\n",
              "        vertical-align: middle;\n",
              "    }\n",
              "\n",
              "    .dataframe tbody tr th {\n",
              "        vertical-align: top;\n",
              "    }\n",
              "\n",
              "    .dataframe thead th {\n",
              "        text-align: right;\n",
              "    }\n",
              "</style>\n",
              "<table border=\"1\" class=\"dataframe\">\n",
              "  <thead>\n",
              "    <tr style=\"text-align: right;\">\n",
              "      <th></th>\n",
              "      <th>Date</th>\n",
              "      <th>Stock Price</th>\n",
              "    </tr>\n",
              "  </thead>\n",
              "  <tbody>\n",
              "    <tr>\n",
              "      <th>243</th>\n",
              "      <td>24/12/2015</td>\n",
              "      <td>1095.84</td>\n",
              "    </tr>\n",
              "    <tr>\n",
              "      <th>244</th>\n",
              "      <td>28/12/2015</td>\n",
              "      <td>1105.51</td>\n",
              "    </tr>\n",
              "    <tr>\n",
              "      <th>245</th>\n",
              "      <td>29/12/2015</td>\n",
              "      <td>1104.14</td>\n",
              "    </tr>\n",
              "    <tr>\n",
              "      <th>246</th>\n",
              "      <td>30/12/2015</td>\n",
              "      <td>1094.45</td>\n",
              "    </tr>\n",
              "    <tr>\n",
              "      <th>247</th>\n",
              "      <td>31/12/2015</td>\n",
              "      <td>1102.09</td>\n",
              "    </tr>\n",
              "  </tbody>\n",
              "</table>\n",
              "</div>\n",
              "      <button class=\"colab-df-convert\" onclick=\"convertToInteractive('df-408be7e2-7c16-45f9-8eca-7fa1d6b07de0')\"\n",
              "              title=\"Convert this dataframe to an interactive table.\"\n",
              "              style=\"display:none;\">\n",
              "        \n",
              "  <svg xmlns=\"http://www.w3.org/2000/svg\" height=\"24px\"viewBox=\"0 0 24 24\"\n",
              "       width=\"24px\">\n",
              "    <path d=\"M0 0h24v24H0V0z\" fill=\"none\"/>\n",
              "    <path d=\"M18.56 5.44l.94 2.06.94-2.06 2.06-.94-2.06-.94-.94-2.06-.94 2.06-2.06.94zm-11 1L8.5 8.5l.94-2.06 2.06-.94-2.06-.94L8.5 2.5l-.94 2.06-2.06.94zm10 10l.94 2.06.94-2.06 2.06-.94-2.06-.94-.94-2.06-.94 2.06-2.06.94z\"/><path d=\"M17.41 7.96l-1.37-1.37c-.4-.4-.92-.59-1.43-.59-.52 0-1.04.2-1.43.59L10.3 9.45l-7.72 7.72c-.78.78-.78 2.05 0 2.83L4 21.41c.39.39.9.59 1.41.59.51 0 1.02-.2 1.41-.59l7.78-7.78 2.81-2.81c.8-.78.8-2.07 0-2.86zM5.41 20L4 18.59l7.72-7.72 1.47 1.35L5.41 20z\"/>\n",
              "  </svg>\n",
              "      </button>\n",
              "      \n",
              "  <style>\n",
              "    .colab-df-container {\n",
              "      display:flex;\n",
              "      flex-wrap:wrap;\n",
              "      gap: 12px;\n",
              "    }\n",
              "\n",
              "    .colab-df-convert {\n",
              "      background-color: #E8F0FE;\n",
              "      border: none;\n",
              "      border-radius: 50%;\n",
              "      cursor: pointer;\n",
              "      display: none;\n",
              "      fill: #1967D2;\n",
              "      height: 32px;\n",
              "      padding: 0 0 0 0;\n",
              "      width: 32px;\n",
              "    }\n",
              "\n",
              "    .colab-df-convert:hover {\n",
              "      background-color: #E2EBFA;\n",
              "      box-shadow: 0px 1px 2px rgba(60, 64, 67, 0.3), 0px 1px 3px 1px rgba(60, 64, 67, 0.15);\n",
              "      fill: #174EA6;\n",
              "    }\n",
              "\n",
              "    [theme=dark] .colab-df-convert {\n",
              "      background-color: #3B4455;\n",
              "      fill: #D2E3FC;\n",
              "    }\n",
              "\n",
              "    [theme=dark] .colab-df-convert:hover {\n",
              "      background-color: #434B5C;\n",
              "      box-shadow: 0px 1px 3px 1px rgba(0, 0, 0, 0.15);\n",
              "      filter: drop-shadow(0px 1px 2px rgba(0, 0, 0, 0.3));\n",
              "      fill: #FFFFFF;\n",
              "    }\n",
              "  </style>\n",
              "\n",
              "      <script>\n",
              "        const buttonEl =\n",
              "          document.querySelector('#df-408be7e2-7c16-45f9-8eca-7fa1d6b07de0 button.colab-df-convert');\n",
              "        buttonEl.style.display =\n",
              "          google.colab.kernel.accessAllowed ? 'block' : 'none';\n",
              "\n",
              "        async function convertToInteractive(key) {\n",
              "          const element = document.querySelector('#df-408be7e2-7c16-45f9-8eca-7fa1d6b07de0');\n",
              "          const dataTable =\n",
              "            await google.colab.kernel.invokeFunction('convertToInteractive',\n",
              "                                                     [key], {});\n",
              "          if (!dataTable) return;\n",
              "\n",
              "          const docLinkHtml = 'Like what you see? Visit the ' +\n",
              "            '<a target=\"_blank\" href=https://colab.research.google.com/notebooks/data_table.ipynb>data table notebook</a>'\n",
              "            + ' to learn more about interactive tables.';\n",
              "          element.innerHTML = '';\n",
              "          dataTable['output_type'] = 'display_data';\n",
              "          await google.colab.output.renderOutput(dataTable, element);\n",
              "          const docLink = document.createElement('div');\n",
              "          docLink.innerHTML = docLinkHtml;\n",
              "          element.appendChild(docLink);\n",
              "        }\n",
              "      </script>\n",
              "    </div>\n",
              "  </div>\n",
              "  "
            ]
          },
          "metadata": {},
          "execution_count": 7
        }
      ],
      "source": [
        "df.tail()"
      ]
    },
    {
      "cell_type": "code",
      "source": [
        "df.info()"
      ],
      "metadata": {
        "colab": {
          "base_uri": "https://localhost:8080/"
        },
        "id": "N1OEWZcIODlP",
        "outputId": "120fc0b5-476c-4aad-b016-c93bb21fbb8b"
      },
      "id": "N1OEWZcIODlP",
      "execution_count": 8,
      "outputs": [
        {
          "output_type": "stream",
          "name": "stdout",
          "text": [
            "<class 'pandas.core.frame.DataFrame'>\n",
            "RangeIndex: 248 entries, 0 to 247\n",
            "Data columns (total 2 columns):\n",
            " #   Column       Non-Null Count  Dtype  \n",
            "---  ------       --------------  -----  \n",
            " 0   Date         248 non-null    object \n",
            " 1   Stock Price  248 non-null    float64\n",
            "dtypes: float64(1), object(1)\n",
            "memory usage: 4.0+ KB\n"
          ]
        }
      ]
    },
    {
      "cell_type": "code",
      "execution_count": 9,
      "id": "3e200838",
      "metadata": {
        "execution": {
          "iopub.execute_input": "2021-09-23T06:58:33.279468Z",
          "iopub.status.busy": "2021-09-23T06:58:33.278462Z",
          "iopub.status.idle": "2021-09-23T06:58:33.281716Z",
          "shell.execute_reply": "2021-09-23T06:58:33.281100Z",
          "shell.execute_reply.started": "2021-09-23T06:52:30.214744Z"
        },
        "papermill": {
          "duration": 0.070559,
          "end_time": "2021-09-23T06:58:33.281854",
          "exception": false,
          "start_time": "2021-09-23T06:58:33.211295",
          "status": "completed"
        },
        "tags": [],
        "id": "3e200838",
        "colab": {
          "base_uri": "https://localhost:8080/"
        },
        "outputId": "6211f805-7149-430b-8099-bf4ef72c2bf9"
      },
      "outputs": [
        {
          "output_type": "stream",
          "name": "stderr",
          "text": [
            "<ipython-input-9-02a7971ad980>:2: UserWarning: Parsing dates in DD/MM/YYYY format when dayfirst=False (the default) was specified. This may lead to inconsistently parsed dates! Specify a format to ensure consistent parsing.\n",
            "  df['Date']=pd.to_datetime(df['Date'])\n"
          ]
        }
      ],
      "source": [
        "# Convert Month into Datetime\n",
        "df['Date']=pd.to_datetime(df['Date'])"
      ]
    },
    {
      "cell_type": "code",
      "execution_count": 10,
      "id": "8d69b296",
      "metadata": {
        "execution": {
          "iopub.execute_input": "2021-09-23T06:58:33.394456Z",
          "iopub.status.busy": "2021-09-23T06:58:33.393753Z",
          "iopub.status.idle": "2021-09-23T06:58:33.397586Z",
          "shell.execute_reply": "2021-09-23T06:58:33.397064Z",
          "shell.execute_reply.started": "2021-09-23T06:52:30.230136Z"
        },
        "papermill": {
          "duration": 0.064677,
          "end_time": "2021-09-23T06:58:33.397752",
          "exception": false,
          "start_time": "2021-09-23T06:58:33.333075",
          "status": "completed"
        },
        "tags": [],
        "colab": {
          "base_uri": "https://localhost:8080/",
          "height": 206
        },
        "id": "8d69b296",
        "outputId": "29e5b5b8-bf9c-48a2-f471-1bc7cc719194"
      },
      "outputs": [
        {
          "output_type": "execute_result",
          "data": {
            "text/plain": [
              "        Date  Stock Price\n",
              "0 2015-01-01      1971.34\n",
              "1 2015-02-01      2003.25\n",
              "2 2015-05-01      2004.59\n",
              "3 2015-06-01      1954.82\n",
              "4 2015-07-01      1962.59"
            ],
            "text/html": [
              "\n",
              "  <div id=\"df-64521526-20b3-463f-a28a-9781326883ab\">\n",
              "    <div class=\"colab-df-container\">\n",
              "      <div>\n",
              "<style scoped>\n",
              "    .dataframe tbody tr th:only-of-type {\n",
              "        vertical-align: middle;\n",
              "    }\n",
              "\n",
              "    .dataframe tbody tr th {\n",
              "        vertical-align: top;\n",
              "    }\n",
              "\n",
              "    .dataframe thead th {\n",
              "        text-align: right;\n",
              "    }\n",
              "</style>\n",
              "<table border=\"1\" class=\"dataframe\">\n",
              "  <thead>\n",
              "    <tr style=\"text-align: right;\">\n",
              "      <th></th>\n",
              "      <th>Date</th>\n",
              "      <th>Stock Price</th>\n",
              "    </tr>\n",
              "  </thead>\n",
              "  <tbody>\n",
              "    <tr>\n",
              "      <th>0</th>\n",
              "      <td>2015-01-01</td>\n",
              "      <td>1971.34</td>\n",
              "    </tr>\n",
              "    <tr>\n",
              "      <th>1</th>\n",
              "      <td>2015-02-01</td>\n",
              "      <td>2003.25</td>\n",
              "    </tr>\n",
              "    <tr>\n",
              "      <th>2</th>\n",
              "      <td>2015-05-01</td>\n",
              "      <td>2004.59</td>\n",
              "    </tr>\n",
              "    <tr>\n",
              "      <th>3</th>\n",
              "      <td>2015-06-01</td>\n",
              "      <td>1954.82</td>\n",
              "    </tr>\n",
              "    <tr>\n",
              "      <th>4</th>\n",
              "      <td>2015-07-01</td>\n",
              "      <td>1962.59</td>\n",
              "    </tr>\n",
              "  </tbody>\n",
              "</table>\n",
              "</div>\n",
              "      <button class=\"colab-df-convert\" onclick=\"convertToInteractive('df-64521526-20b3-463f-a28a-9781326883ab')\"\n",
              "              title=\"Convert this dataframe to an interactive table.\"\n",
              "              style=\"display:none;\">\n",
              "        \n",
              "  <svg xmlns=\"http://www.w3.org/2000/svg\" height=\"24px\"viewBox=\"0 0 24 24\"\n",
              "       width=\"24px\">\n",
              "    <path d=\"M0 0h24v24H0V0z\" fill=\"none\"/>\n",
              "    <path d=\"M18.56 5.44l.94 2.06.94-2.06 2.06-.94-2.06-.94-.94-2.06-.94 2.06-2.06.94zm-11 1L8.5 8.5l.94-2.06 2.06-.94-2.06-.94L8.5 2.5l-.94 2.06-2.06.94zm10 10l.94 2.06.94-2.06 2.06-.94-2.06-.94-.94-2.06-.94 2.06-2.06.94z\"/><path d=\"M17.41 7.96l-1.37-1.37c-.4-.4-.92-.59-1.43-.59-.52 0-1.04.2-1.43.59L10.3 9.45l-7.72 7.72c-.78.78-.78 2.05 0 2.83L4 21.41c.39.39.9.59 1.41.59.51 0 1.02-.2 1.41-.59l7.78-7.78 2.81-2.81c.8-.78.8-2.07 0-2.86zM5.41 20L4 18.59l7.72-7.72 1.47 1.35L5.41 20z\"/>\n",
              "  </svg>\n",
              "      </button>\n",
              "      \n",
              "  <style>\n",
              "    .colab-df-container {\n",
              "      display:flex;\n",
              "      flex-wrap:wrap;\n",
              "      gap: 12px;\n",
              "    }\n",
              "\n",
              "    .colab-df-convert {\n",
              "      background-color: #E8F0FE;\n",
              "      border: none;\n",
              "      border-radius: 50%;\n",
              "      cursor: pointer;\n",
              "      display: none;\n",
              "      fill: #1967D2;\n",
              "      height: 32px;\n",
              "      padding: 0 0 0 0;\n",
              "      width: 32px;\n",
              "    }\n",
              "\n",
              "    .colab-df-convert:hover {\n",
              "      background-color: #E2EBFA;\n",
              "      box-shadow: 0px 1px 2px rgba(60, 64, 67, 0.3), 0px 1px 3px 1px rgba(60, 64, 67, 0.15);\n",
              "      fill: #174EA6;\n",
              "    }\n",
              "\n",
              "    [theme=dark] .colab-df-convert {\n",
              "      background-color: #3B4455;\n",
              "      fill: #D2E3FC;\n",
              "    }\n",
              "\n",
              "    [theme=dark] .colab-df-convert:hover {\n",
              "      background-color: #434B5C;\n",
              "      box-shadow: 0px 1px 3px 1px rgba(0, 0, 0, 0.15);\n",
              "      filter: drop-shadow(0px 1px 2px rgba(0, 0, 0, 0.3));\n",
              "      fill: #FFFFFF;\n",
              "    }\n",
              "  </style>\n",
              "\n",
              "      <script>\n",
              "        const buttonEl =\n",
              "          document.querySelector('#df-64521526-20b3-463f-a28a-9781326883ab button.colab-df-convert');\n",
              "        buttonEl.style.display =\n",
              "          google.colab.kernel.accessAllowed ? 'block' : 'none';\n",
              "\n",
              "        async function convertToInteractive(key) {\n",
              "          const element = document.querySelector('#df-64521526-20b3-463f-a28a-9781326883ab');\n",
              "          const dataTable =\n",
              "            await google.colab.kernel.invokeFunction('convertToInteractive',\n",
              "                                                     [key], {});\n",
              "          if (!dataTable) return;\n",
              "\n",
              "          const docLinkHtml = 'Like what you see? Visit the ' +\n",
              "            '<a target=\"_blank\" href=https://colab.research.google.com/notebooks/data_table.ipynb>data table notebook</a>'\n",
              "            + ' to learn more about interactive tables.';\n",
              "          element.innerHTML = '';\n",
              "          dataTable['output_type'] = 'display_data';\n",
              "          await google.colab.output.renderOutput(dataTable, element);\n",
              "          const docLink = document.createElement('div');\n",
              "          docLink.innerHTML = docLinkHtml;\n",
              "          element.appendChild(docLink);\n",
              "        }\n",
              "      </script>\n",
              "    </div>\n",
              "  </div>\n",
              "  "
            ]
          },
          "metadata": {},
          "execution_count": 10
        }
      ],
      "source": [
        "df.head()"
      ]
    },
    {
      "cell_type": "code",
      "execution_count": 11,
      "id": "46650651",
      "metadata": {
        "execution": {
          "iopub.execute_input": "2021-09-23T06:58:33.507571Z",
          "iopub.status.busy": "2021-09-23T06:58:33.505622Z",
          "iopub.status.idle": "2021-09-23T06:58:33.512809Z",
          "shell.execute_reply": "2021-09-23T06:58:33.512251Z",
          "shell.execute_reply.started": "2021-09-23T06:52:30.245483Z"
        },
        "papermill": {
          "duration": 0.063034,
          "end_time": "2021-09-23T06:58:33.512964",
          "exception": false,
          "start_time": "2021-09-23T06:58:33.449930",
          "status": "completed"
        },
        "tags": [],
        "id": "46650651"
      },
      "outputs": [],
      "source": [
        "df.set_index('Date',inplace=True)"
      ]
    },
    {
      "cell_type": "code",
      "execution_count": 12,
      "id": "c941dd8b",
      "metadata": {
        "execution": {
          "iopub.execute_input": "2021-09-23T06:58:33.626373Z",
          "iopub.status.busy": "2021-09-23T06:58:33.625623Z",
          "iopub.status.idle": "2021-09-23T06:58:33.629413Z",
          "shell.execute_reply": "2021-09-23T06:58:33.628872Z",
          "shell.execute_reply.started": "2021-09-23T06:52:30.255324Z"
        },
        "papermill": {
          "duration": 0.064923,
          "end_time": "2021-09-23T06:58:33.629557",
          "exception": false,
          "start_time": "2021-09-23T06:58:33.564634",
          "status": "completed"
        },
        "tags": [],
        "colab": {
          "base_uri": "https://localhost:8080/",
          "height": 237
        },
        "id": "c941dd8b",
        "outputId": "2e9ffae9-6556-45e4-f573-4970aa2d50ba"
      },
      "outputs": [
        {
          "output_type": "execute_result",
          "data": {
            "text/plain": [
              "            Stock Price\n",
              "Date                   \n",
              "2015-01-01      1971.34\n",
              "2015-02-01      2003.25\n",
              "2015-05-01      2004.59\n",
              "2015-06-01      1954.82\n",
              "2015-07-01      1962.59"
            ],
            "text/html": [
              "\n",
              "  <div id=\"df-c84828f8-e9f5-4688-a554-ecd553fcaec7\">\n",
              "    <div class=\"colab-df-container\">\n",
              "      <div>\n",
              "<style scoped>\n",
              "    .dataframe tbody tr th:only-of-type {\n",
              "        vertical-align: middle;\n",
              "    }\n",
              "\n",
              "    .dataframe tbody tr th {\n",
              "        vertical-align: top;\n",
              "    }\n",
              "\n",
              "    .dataframe thead th {\n",
              "        text-align: right;\n",
              "    }\n",
              "</style>\n",
              "<table border=\"1\" class=\"dataframe\">\n",
              "  <thead>\n",
              "    <tr style=\"text-align: right;\">\n",
              "      <th></th>\n",
              "      <th>Stock Price</th>\n",
              "    </tr>\n",
              "    <tr>\n",
              "      <th>Date</th>\n",
              "      <th></th>\n",
              "    </tr>\n",
              "  </thead>\n",
              "  <tbody>\n",
              "    <tr>\n",
              "      <th>2015-01-01</th>\n",
              "      <td>1971.34</td>\n",
              "    </tr>\n",
              "    <tr>\n",
              "      <th>2015-02-01</th>\n",
              "      <td>2003.25</td>\n",
              "    </tr>\n",
              "    <tr>\n",
              "      <th>2015-05-01</th>\n",
              "      <td>2004.59</td>\n",
              "    </tr>\n",
              "    <tr>\n",
              "      <th>2015-06-01</th>\n",
              "      <td>1954.82</td>\n",
              "    </tr>\n",
              "    <tr>\n",
              "      <th>2015-07-01</th>\n",
              "      <td>1962.59</td>\n",
              "    </tr>\n",
              "  </tbody>\n",
              "</table>\n",
              "</div>\n",
              "      <button class=\"colab-df-convert\" onclick=\"convertToInteractive('df-c84828f8-e9f5-4688-a554-ecd553fcaec7')\"\n",
              "              title=\"Convert this dataframe to an interactive table.\"\n",
              "              style=\"display:none;\">\n",
              "        \n",
              "  <svg xmlns=\"http://www.w3.org/2000/svg\" height=\"24px\"viewBox=\"0 0 24 24\"\n",
              "       width=\"24px\">\n",
              "    <path d=\"M0 0h24v24H0V0z\" fill=\"none\"/>\n",
              "    <path d=\"M18.56 5.44l.94 2.06.94-2.06 2.06-.94-2.06-.94-.94-2.06-.94 2.06-2.06.94zm-11 1L8.5 8.5l.94-2.06 2.06-.94-2.06-.94L8.5 2.5l-.94 2.06-2.06.94zm10 10l.94 2.06.94-2.06 2.06-.94-2.06-.94-.94-2.06-.94 2.06-2.06.94z\"/><path d=\"M17.41 7.96l-1.37-1.37c-.4-.4-.92-.59-1.43-.59-.52 0-1.04.2-1.43.59L10.3 9.45l-7.72 7.72c-.78.78-.78 2.05 0 2.83L4 21.41c.39.39.9.59 1.41.59.51 0 1.02-.2 1.41-.59l7.78-7.78 2.81-2.81c.8-.78.8-2.07 0-2.86zM5.41 20L4 18.59l7.72-7.72 1.47 1.35L5.41 20z\"/>\n",
              "  </svg>\n",
              "      </button>\n",
              "      \n",
              "  <style>\n",
              "    .colab-df-container {\n",
              "      display:flex;\n",
              "      flex-wrap:wrap;\n",
              "      gap: 12px;\n",
              "    }\n",
              "\n",
              "    .colab-df-convert {\n",
              "      background-color: #E8F0FE;\n",
              "      border: none;\n",
              "      border-radius: 50%;\n",
              "      cursor: pointer;\n",
              "      display: none;\n",
              "      fill: #1967D2;\n",
              "      height: 32px;\n",
              "      padding: 0 0 0 0;\n",
              "      width: 32px;\n",
              "    }\n",
              "\n",
              "    .colab-df-convert:hover {\n",
              "      background-color: #E2EBFA;\n",
              "      box-shadow: 0px 1px 2px rgba(60, 64, 67, 0.3), 0px 1px 3px 1px rgba(60, 64, 67, 0.15);\n",
              "      fill: #174EA6;\n",
              "    }\n",
              "\n",
              "    [theme=dark] .colab-df-convert {\n",
              "      background-color: #3B4455;\n",
              "      fill: #D2E3FC;\n",
              "    }\n",
              "\n",
              "    [theme=dark] .colab-df-convert:hover {\n",
              "      background-color: #434B5C;\n",
              "      box-shadow: 0px 1px 3px 1px rgba(0, 0, 0, 0.15);\n",
              "      filter: drop-shadow(0px 1px 2px rgba(0, 0, 0, 0.3));\n",
              "      fill: #FFFFFF;\n",
              "    }\n",
              "  </style>\n",
              "\n",
              "      <script>\n",
              "        const buttonEl =\n",
              "          document.querySelector('#df-c84828f8-e9f5-4688-a554-ecd553fcaec7 button.colab-df-convert');\n",
              "        buttonEl.style.display =\n",
              "          google.colab.kernel.accessAllowed ? 'block' : 'none';\n",
              "\n",
              "        async function convertToInteractive(key) {\n",
              "          const element = document.querySelector('#df-c84828f8-e9f5-4688-a554-ecd553fcaec7');\n",
              "          const dataTable =\n",
              "            await google.colab.kernel.invokeFunction('convertToInteractive',\n",
              "                                                     [key], {});\n",
              "          if (!dataTable) return;\n",
              "\n",
              "          const docLinkHtml = 'Like what you see? Visit the ' +\n",
              "            '<a target=\"_blank\" href=https://colab.research.google.com/notebooks/data_table.ipynb>data table notebook</a>'\n",
              "            + ' to learn more about interactive tables.';\n",
              "          element.innerHTML = '';\n",
              "          dataTable['output_type'] = 'display_data';\n",
              "          await google.colab.output.renderOutput(dataTable, element);\n",
              "          const docLink = document.createElement('div');\n",
              "          docLink.innerHTML = docLinkHtml;\n",
              "          element.appendChild(docLink);\n",
              "        }\n",
              "      </script>\n",
              "    </div>\n",
              "  </div>\n",
              "  "
            ]
          },
          "metadata": {},
          "execution_count": 12
        }
      ],
      "source": [
        "df.head()"
      ]
    },
    {
      "cell_type": "code",
      "execution_count": 13,
      "id": "4915352c",
      "metadata": {
        "execution": {
          "iopub.execute_input": "2021-09-23T06:58:33.741883Z",
          "iopub.status.busy": "2021-09-23T06:58:33.741172Z",
          "iopub.status.idle": "2021-09-23T06:58:33.750518Z",
          "shell.execute_reply": "2021-09-23T06:58:33.751068Z",
          "shell.execute_reply.started": "2021-09-23T06:52:30.271074Z"
        },
        "papermill": {
          "duration": 0.069762,
          "end_time": "2021-09-23T06:58:33.751248",
          "exception": false,
          "start_time": "2021-09-23T06:58:33.681486",
          "status": "completed"
        },
        "tags": [],
        "colab": {
          "base_uri": "https://localhost:8080/",
          "height": 300
        },
        "id": "4915352c",
        "outputId": "59cf1b79-2de6-4588-b3d9-461912c08c14"
      },
      "outputs": [
        {
          "output_type": "execute_result",
          "data": {
            "text/plain": [
              "       Stock Price\n",
              "count   248.000000\n",
              "mean   1548.133589\n",
              "std     528.861589\n",
              "min     941.180000\n",
              "25%    1085.907500\n",
              "50%    1146.245000\n",
              "75%    2125.082500\n",
              "max    2322.170000"
            ],
            "text/html": [
              "\n",
              "  <div id=\"df-ecec8deb-7b5e-4d91-8a7e-6257a07f79df\">\n",
              "    <div class=\"colab-df-container\">\n",
              "      <div>\n",
              "<style scoped>\n",
              "    .dataframe tbody tr th:only-of-type {\n",
              "        vertical-align: middle;\n",
              "    }\n",
              "\n",
              "    .dataframe tbody tr th {\n",
              "        vertical-align: top;\n",
              "    }\n",
              "\n",
              "    .dataframe thead th {\n",
              "        text-align: right;\n",
              "    }\n",
              "</style>\n",
              "<table border=\"1\" class=\"dataframe\">\n",
              "  <thead>\n",
              "    <tr style=\"text-align: right;\">\n",
              "      <th></th>\n",
              "      <th>Stock Price</th>\n",
              "    </tr>\n",
              "  </thead>\n",
              "  <tbody>\n",
              "    <tr>\n",
              "      <th>count</th>\n",
              "      <td>248.000000</td>\n",
              "    </tr>\n",
              "    <tr>\n",
              "      <th>mean</th>\n",
              "      <td>1548.133589</td>\n",
              "    </tr>\n",
              "    <tr>\n",
              "      <th>std</th>\n",
              "      <td>528.861589</td>\n",
              "    </tr>\n",
              "    <tr>\n",
              "      <th>min</th>\n",
              "      <td>941.180000</td>\n",
              "    </tr>\n",
              "    <tr>\n",
              "      <th>25%</th>\n",
              "      <td>1085.907500</td>\n",
              "    </tr>\n",
              "    <tr>\n",
              "      <th>50%</th>\n",
              "      <td>1146.245000</td>\n",
              "    </tr>\n",
              "    <tr>\n",
              "      <th>75%</th>\n",
              "      <td>2125.082500</td>\n",
              "    </tr>\n",
              "    <tr>\n",
              "      <th>max</th>\n",
              "      <td>2322.170000</td>\n",
              "    </tr>\n",
              "  </tbody>\n",
              "</table>\n",
              "</div>\n",
              "      <button class=\"colab-df-convert\" onclick=\"convertToInteractive('df-ecec8deb-7b5e-4d91-8a7e-6257a07f79df')\"\n",
              "              title=\"Convert this dataframe to an interactive table.\"\n",
              "              style=\"display:none;\">\n",
              "        \n",
              "  <svg xmlns=\"http://www.w3.org/2000/svg\" height=\"24px\"viewBox=\"0 0 24 24\"\n",
              "       width=\"24px\">\n",
              "    <path d=\"M0 0h24v24H0V0z\" fill=\"none\"/>\n",
              "    <path d=\"M18.56 5.44l.94 2.06.94-2.06 2.06-.94-2.06-.94-.94-2.06-.94 2.06-2.06.94zm-11 1L8.5 8.5l.94-2.06 2.06-.94-2.06-.94L8.5 2.5l-.94 2.06-2.06.94zm10 10l.94 2.06.94-2.06 2.06-.94-2.06-.94-.94-2.06-.94 2.06-2.06.94z\"/><path d=\"M17.41 7.96l-1.37-1.37c-.4-.4-.92-.59-1.43-.59-.52 0-1.04.2-1.43.59L10.3 9.45l-7.72 7.72c-.78.78-.78 2.05 0 2.83L4 21.41c.39.39.9.59 1.41.59.51 0 1.02-.2 1.41-.59l7.78-7.78 2.81-2.81c.8-.78.8-2.07 0-2.86zM5.41 20L4 18.59l7.72-7.72 1.47 1.35L5.41 20z\"/>\n",
              "  </svg>\n",
              "      </button>\n",
              "      \n",
              "  <style>\n",
              "    .colab-df-container {\n",
              "      display:flex;\n",
              "      flex-wrap:wrap;\n",
              "      gap: 12px;\n",
              "    }\n",
              "\n",
              "    .colab-df-convert {\n",
              "      background-color: #E8F0FE;\n",
              "      border: none;\n",
              "      border-radius: 50%;\n",
              "      cursor: pointer;\n",
              "      display: none;\n",
              "      fill: #1967D2;\n",
              "      height: 32px;\n",
              "      padding: 0 0 0 0;\n",
              "      width: 32px;\n",
              "    }\n",
              "\n",
              "    .colab-df-convert:hover {\n",
              "      background-color: #E2EBFA;\n",
              "      box-shadow: 0px 1px 2px rgba(60, 64, 67, 0.3), 0px 1px 3px 1px rgba(60, 64, 67, 0.15);\n",
              "      fill: #174EA6;\n",
              "    }\n",
              "\n",
              "    [theme=dark] .colab-df-convert {\n",
              "      background-color: #3B4455;\n",
              "      fill: #D2E3FC;\n",
              "    }\n",
              "\n",
              "    [theme=dark] .colab-df-convert:hover {\n",
              "      background-color: #434B5C;\n",
              "      box-shadow: 0px 1px 3px 1px rgba(0, 0, 0, 0.15);\n",
              "      filter: drop-shadow(0px 1px 2px rgba(0, 0, 0, 0.3));\n",
              "      fill: #FFFFFF;\n",
              "    }\n",
              "  </style>\n",
              "\n",
              "      <script>\n",
              "        const buttonEl =\n",
              "          document.querySelector('#df-ecec8deb-7b5e-4d91-8a7e-6257a07f79df button.colab-df-convert');\n",
              "        buttonEl.style.display =\n",
              "          google.colab.kernel.accessAllowed ? 'block' : 'none';\n",
              "\n",
              "        async function convertToInteractive(key) {\n",
              "          const element = document.querySelector('#df-ecec8deb-7b5e-4d91-8a7e-6257a07f79df');\n",
              "          const dataTable =\n",
              "            await google.colab.kernel.invokeFunction('convertToInteractive',\n",
              "                                                     [key], {});\n",
              "          if (!dataTable) return;\n",
              "\n",
              "          const docLinkHtml = 'Like what you see? Visit the ' +\n",
              "            '<a target=\"_blank\" href=https://colab.research.google.com/notebooks/data_table.ipynb>data table notebook</a>'\n",
              "            + ' to learn more about interactive tables.';\n",
              "          element.innerHTML = '';\n",
              "          dataTable['output_type'] = 'display_data';\n",
              "          await google.colab.output.renderOutput(dataTable, element);\n",
              "          const docLink = document.createElement('div');\n",
              "          docLink.innerHTML = docLinkHtml;\n",
              "          element.appendChild(docLink);\n",
              "        }\n",
              "      </script>\n",
              "    </div>\n",
              "  </div>\n",
              "  "
            ]
          },
          "metadata": {},
          "execution_count": 13
        }
      ],
      "source": [
        "df.describe()"
      ]
    },
    {
      "cell_type": "markdown",
      "id": "11deb093",
      "metadata": {
        "papermill": {
          "duration": 0.065192,
          "end_time": "2021-09-23T06:58:33.869604",
          "exception": false,
          "start_time": "2021-09-23T06:58:33.804412",
          "status": "completed"
        },
        "tags": [],
        "id": "11deb093"
      },
      "source": [
        "## Visualize the Data"
      ]
    },
    {
      "cell_type": "code",
      "execution_count": 14,
      "id": "215cbbc7",
      "metadata": {
        "execution": {
          "iopub.execute_input": "2021-09-23T06:58:33.996525Z",
          "iopub.status.busy": "2021-09-23T06:58:33.995838Z",
          "iopub.status.idle": "2021-09-23T06:58:34.429502Z",
          "shell.execute_reply": "2021-09-23T06:58:34.430044Z",
          "shell.execute_reply.started": "2021-09-23T06:52:30.294110Z"
        },
        "papermill": {
          "duration": 0.492298,
          "end_time": "2021-09-23T06:58:34.430224",
          "exception": false,
          "start_time": "2021-09-23T06:58:33.937926",
          "status": "completed"
        },
        "tags": [],
        "colab": {
          "base_uri": "https://localhost:8080/",
          "height": 450
        },
        "id": "215cbbc7",
        "outputId": "29a3fc05-5b4c-4aa1-f7df-a752844d4a66"
      },
      "outputs": [
        {
          "output_type": "execute_result",
          "data": {
            "text/plain": [
              "<Axes: xlabel='Date'>"
            ]
          },
          "metadata": {},
          "execution_count": 14
        },
        {
          "output_type": "display_data",
          "data": {
            "text/plain": [
              "<Figure size 640x480 with 1 Axes>"
            ],
            "image/png": "[encoded data removed]"
          },
          "metadata": {}
        }
      ],
      "source": [
        "df.plot()"
      ]
    },
    {
      "cell_type": "code",
      "execution_count": 15,
      "id": "7486d52a",
      "metadata": {
        "execution": {
          "iopub.execute_input": "2021-09-23T06:58:34.543644Z",
          "iopub.status.busy": "2021-09-23T06:58:34.542679Z",
          "iopub.status.idle": "2021-09-23T06:58:34.545841Z",
          "shell.execute_reply": "2021-09-23T06:58:34.545281Z",
          "shell.execute_reply.started": "2021-09-23T06:52:30.733914Z"
        },
        "papermill": {
          "duration": 0.061555,
          "end_time": "2021-09-23T06:58:34.546000",
          "exception": false,
          "start_time": "2021-09-23T06:58:34.484445",
          "status": "completed"
        },
        "tags": [],
        "id": "7486d52a"
      },
      "outputs": [],
      "source": [
        "#looking this graph,we can say this data is seasonal\n",
        "#(seasonal is all about suppose in each month stock price goes up) and then down"
      ]
    },
    {
      "cell_type": "code",
      "execution_count": 16,
      "id": "7175b64b",
      "metadata": {
        "execution": {
          "iopub.execute_input": "2021-09-23T06:58:34.659346Z",
          "iopub.status.busy": "2021-09-23T06:58:34.658302Z",
          "iopub.status.idle": "2021-09-23T06:58:34.661493Z",
          "shell.execute_reply": "2021-09-23T06:58:34.660981Z",
          "shell.execute_reply.started": "2021-09-23T06:52:30.741282Z"
        },
        "papermill": {
          "duration": 0.061602,
          "end_time": "2021-09-23T06:58:34.661653",
          "exception": false,
          "start_time": "2021-09-23T06:58:34.600051",
          "status": "completed"
        },
        "tags": [],
        "id": "7175b64b"
      },
      "outputs": [],
      "source": [
        "# we plot,whether test is stationary or not\n",
        "#if not stationery then how to make it stationery"
      ]
    },
    {
      "cell_type": "code",
      "execution_count": 17,
      "id": "8c1e1d1f",
      "metadata": {
        "execution": {
          "iopub.execute_input": "2021-09-23T06:58:34.776229Z",
          "iopub.status.busy": "2021-09-23T06:58:34.775404Z",
          "iopub.status.idle": "2021-09-23T06:58:35.870102Z",
          "shell.execute_reply": "2021-09-23T06:58:35.869459Z",
          "shell.execute_reply.started": "2021-09-23T06:52:30.753113Z"
        },
        "papermill": {
          "duration": 1.153511,
          "end_time": "2021-09-23T06:58:35.870248",
          "exception": false,
          "start_time": "2021-09-23T06:58:34.716737",
          "status": "completed"
        },
        "tags": [],
        "id": "8c1e1d1f"
      },
      "outputs": [],
      "source": [
        "### Testing For Stationarity\n",
        "\n",
        "from statsmodels.tsa.stattools import adfuller"
      ]
    },
    {
      "cell_type": "code",
      "execution_count": 18,
      "id": "0f932aa7",
      "metadata": {
        "execution": {
          "iopub.execute_input": "2021-09-23T06:58:35.984819Z",
          "iopub.status.busy": "2021-09-23T06:58:35.984054Z",
          "iopub.status.idle": "2021-09-23T06:58:36.005356Z",
          "shell.execute_reply": "2021-09-23T06:58:36.004784Z",
          "shell.execute_reply.started": "2021-09-23T06:52:31.813035Z"
        },
        "papermill": {
          "duration": 0.080612,
          "end_time": "2021-09-23T06:58:36.005515",
          "exception": false,
          "start_time": "2021-09-23T06:58:35.924903",
          "status": "completed"
        },
        "tags": [],
        "id": "0f932aa7"
      },
      "outputs": [],
      "source": [
        "test_result=adfuller(df['Stock Price'])"
      ]
    },
    {
      "cell_type": "code",
      "execution_count": 19,
      "id": "1c393500",
      "metadata": {
        "execution": {
          "iopub.execute_input": "2021-09-23T06:58:36.120180Z",
          "iopub.status.busy": "2021-09-23T06:58:36.119302Z",
          "iopub.status.idle": "2021-09-23T06:58:36.122979Z",
          "shell.execute_reply": "2021-09-23T06:58:36.123463Z",
          "shell.execute_reply.started": "2021-09-23T06:52:31.844473Z"
        },
        "papermill": {
          "duration": 0.062042,
          "end_time": "2021-09-23T06:58:36.123634",
          "exception": false,
          "start_time": "2021-09-23T06:58:36.061592",
          "status": "completed"
        },
        "tags": [],
        "id": "1c393500"
      },
      "outputs": [],
      "source": [
        "#adfuller gives 5 values ['ADF Test Statistic','p-value','#Lags Used','Number of Observations Used']\n",
        "#most imp is p-value\n",
        "#this is almost similar to Hypothesis testing,whereas Null hypo which says Data is not Stationery\n",
        "#whereas Alternate hypo says data is stationery\n",
        "\n"
      ]
    },
    {
      "cell_type": "code",
      "execution_count": 20,
      "id": "60701230",
      "metadata": {
        "execution": {
          "iopub.execute_input": "2021-09-23T06:58:36.236621Z",
          "iopub.status.busy": "2021-09-23T06:58:36.235993Z",
          "iopub.status.idle": "2021-09-23T06:58:36.239757Z",
          "shell.execute_reply": "2021-09-23T06:58:36.239224Z",
          "shell.execute_reply.started": "2021-09-23T06:52:31.850824Z"
        },
        "papermill": {
          "duration": 0.06165,
          "end_time": "2021-09-23T06:58:36.239894",
          "exception": false,
          "start_time": "2021-09-23T06:58:36.178244",
          "status": "completed"
        },
        "tags": [],
        "id": "60701230"
      },
      "outputs": [],
      "source": [
        "###if Pvalue<0.05 ,we reject Null hypo ie alternate hypo is true,ie data is stationery"
      ]
    },
    {
      "cell_type": "code",
      "execution_count": 21,
      "id": "4a370c6b",
      "metadata": {
        "execution": {
          "iopub.execute_input": "2021-09-23T06:58:36.355836Z",
          "iopub.status.busy": "2021-09-23T06:58:36.355134Z",
          "iopub.status.idle": "2021-09-23T06:58:36.357111Z",
          "shell.execute_reply": "2021-09-23T06:58:36.357618Z",
          "shell.execute_reply.started": "2021-09-23T06:52:31.866512Z"
        },
        "papermill": {
          "duration": 0.062746,
          "end_time": "2021-09-23T06:58:36.357806",
          "exception": false,
          "start_time": "2021-09-23T06:58:36.295060",
          "status": "completed"
        },
        "tags": [],
        "id": "4a370c6b"
      },
      "outputs": [],
      "source": [
        "\n",
        "#zip basically combines result,labels\n",
        "\n",
        "def adfuller_test(sales):\n",
        "    result=adfuller(sales)\n",
        "    labels = ['ADF Test Statistic','p-value','#Lags Used','Number of Observations Used']\n",
        "    for value,label in zip(result,labels):\n",
        "        print(label+' : '+str(value) )\n",
        "    if result[1] <= 0.05:\n",
        "        print(\"strong evidence against the null hypothesis(Ho), reject the null hypothesis. Data has no unit root and is stationary\")\n",
        "    else:\n",
        "        print(\"weak evidence against null hypothesis, time series has a unit root, indicating it is non-stationary \")\n",
        "    "
      ]
    },
    {
      "cell_type": "code",
      "execution_count": 22,
      "id": "8d8a057b",
      "metadata": {
        "execution": {
          "iopub.execute_input": "2021-09-23T06:58:36.471017Z",
          "iopub.status.busy": "2021-09-23T06:58:36.470339Z",
          "iopub.status.idle": "2021-09-23T06:58:36.485081Z",
          "shell.execute_reply": "2021-09-23T06:58:36.484369Z",
          "shell.execute_reply.started": "2021-09-23T06:52:31.883242Z"
        },
        "papermill": {
          "duration": 0.071986,
          "end_time": "2021-09-23T06:58:36.485230",
          "exception": false,
          "start_time": "2021-09-23T06:58:36.413244",
          "status": "completed"
        },
        "tags": [],
        "colab": {
          "base_uri": "https://localhost:8080/"
        },
        "id": "8d8a057b",
        "outputId": "809fcadb-7802-442b-f09f-1b490ea04176"
      },
      "outputs": [
        {
          "output_type": "stream",
          "name": "stdout",
          "text": [
            "ADF Test Statistic : -0.9815304352676791\n",
            "p-value : 0.7599409065801572\n",
            "#Lags Used : 0\n",
            "Number of Observations Used : 247\n",
            "weak evidence against null hypothesis, time series has a unit root, indicating it is non-stationary \n"
          ]
        }
      ],
      "source": [
        "adfuller_test(df['Stock Price'])"
      ]
    },
    {
      "cell_type": "code",
      "execution_count": 23,
      "id": "34f6f93f",
      "metadata": {
        "execution": {
          "iopub.execute_input": "2021-09-23T06:58:36.599266Z",
          "iopub.status.busy": "2021-09-23T06:58:36.598506Z",
          "iopub.status.idle": "2021-09-23T06:58:36.601618Z",
          "shell.execute_reply": "2021-09-23T06:58:36.601100Z",
          "shell.execute_reply.started": "2021-09-23T06:52:31.912290Z"
        },
        "papermill": {
          "duration": 0.062311,
          "end_time": "2021-09-23T06:58:36.601820",
          "exception": false,
          "start_time": "2021-09-23T06:58:36.539509",
          "status": "completed"
        },
        "tags": [],
        "id": "34f6f93f"
      },
      "outputs": [],
      "source": [
        "#if our data is non-stationery,we have to make it stationery using various techniques such as Differencing & many more"
      ]
    },
    {
      "cell_type": "markdown",
      "id": "04ca51c8",
      "metadata": {
        "papermill": {
          "duration": 0.055861,
          "end_time": "2021-09-23T06:58:36.712226",
          "exception": false,
          "start_time": "2021-09-23T06:58:36.656365",
          "status": "completed"
        },
        "tags": [],
        "id": "04ca51c8"
      },
      "source": [
        "## Differencing"
      ]
    },
    {
      "cell_type": "code",
      "execution_count": 24,
      "id": "22607ccf",
      "metadata": {
        "execution": {
          "iopub.execute_input": "2021-09-23T06:58:36.836062Z",
          "iopub.status.busy": "2021-09-23T06:58:36.835144Z",
          "iopub.status.idle": "2021-09-23T06:58:36.839420Z",
          "shell.execute_reply": "2021-09-23T06:58:36.838919Z",
          "shell.execute_reply.started": "2021-09-23T06:52:31.918889Z"
        },
        "papermill": {
          "duration": 0.07144,
          "end_time": "2021-09-23T06:58:36.839566",
          "exception": false,
          "start_time": "2021-09-23T06:58:36.768126",
          "status": "completed"
        },
        "tags": [],
        "colab": {
          "base_uri": "https://localhost:8080/",
          "height": 455
        },
        "id": "22607ccf",
        "outputId": "be9b86fa-cd10-406a-fd7c-0180ac94cc14"
      },
      "outputs": [
        {
          "output_type": "execute_result",
          "data": {
            "text/plain": [
              "            Stock Price\n",
              "Date                   \n",
              "2015-01-01      1971.34\n",
              "2015-02-01      2003.25\n",
              "2015-05-01      2004.59\n",
              "2015-06-01      1954.82\n",
              "2015-07-01      1962.59\n",
              "...                 ...\n",
              "2015-12-24      1095.84\n",
              "2015-12-28      1105.51\n",
              "2015-12-29      1104.14\n",
              "2015-12-30      1094.45\n",
              "2015-12-31      1102.09\n",
              "\n",
              "[248 rows x 1 columns]"
            ],
            "text/html": [
              "\n",
              "  <div id=\"df-fb78a1e3-d9cb-484f-88de-d5645f2b240d\">\n",
              "    <div class=\"colab-df-container\">\n",
              "      <div>\n",
              "<style scoped>\n",
              "    .dataframe tbody tr th:only-of-type {\n",
              "        vertical-align: middle;\n",
              "    }\n",
              "\n",
              "    .dataframe tbody tr th {\n",
              "        vertical-align: top;\n",
              "    }\n",
              "\n",
              "    .dataframe thead th {\n",
              "        text-align: right;\n",
              "    }\n",
              "</style>\n",
              "<table border=\"1\" class=\"dataframe\">\n",
              "  <thead>\n",
              "    <tr style=\"text-align: right;\">\n",
              "      <th></th>\n",
              "      <th>Stock Price</th>\n",
              "    </tr>\n",
              "    <tr>\n",
              "      <th>Date</th>\n",
              "      <th></th>\n",
              "    </tr>\n",
              "  </thead>\n",
              "  <tbody>\n",
              "    <tr>\n",
              "      <th>2015-01-01</th>\n",
              "      <td>1971.34</td>\n",
              "    </tr>\n",
              "    <tr>\n",
              "      <th>2015-02-01</th>\n",
              "      <td>2003.25</td>\n",
              "    </tr>\n",
              "    <tr>\n",
              "      <th>2015-05-01</th>\n",
              "      <td>2004.59</td>\n",
              "    </tr>\n",
              "    <tr>\n",
              "      <th>2015-06-01</th>\n",
              "      <td>1954.82</td>\n",
              "    </tr>\n",
              "    <tr>\n",
              "      <th>2015-07-01</th>\n",
              "      <td>1962.59</td>\n",
              "    </tr>\n",
              "    <tr>\n",
              "      <th>...</th>\n",
              "      <td>...</td>\n",
              "    </tr>\n",
              "    <tr>\n",
              "      <th>2015-12-24</th>\n",
              "      <td>1095.84</td>\n",
              "    </tr>\n",
              "    <tr>\n",
              "      <th>2015-12-28</th>\n",
              "      <td>1105.51</td>\n",
              "    </tr>\n",
              "    <tr>\n",
              "      <th>2015-12-29</th>\n",
              "      <td>1104.14</td>\n",
              "    </tr>\n",
              "    <tr>\n",
              "      <th>2015-12-30</th>\n",
              "      <td>1094.45</td>\n",
              "    </tr>\n",
              "    <tr>\n",
              "      <th>2015-12-31</th>\n",
              "      <td>1102.09</td>\n",
              "    </tr>\n",
              "  </tbody>\n",
              "</table>\n",
              "<p>248 rows × 1 columns</p>\n",
              "</div>\n",
              "      <button class=\"colab-df-convert\" onclick=\"convertToInteractive('df-fb78a1e3-d9cb-484f-88de-d5645f2b240d')\"\n",
              "              title=\"Convert this dataframe to an interactive table.\"\n",
              "              style=\"display:none;\">\n",
              "        \n",
              "  <svg xmlns=\"http://www.w3.org/2000/svg\" height=\"24px\"viewBox=\"0 0 24 24\"\n",
              "       width=\"24px\">\n",
              "    <path d=\"M0 0h24v24H0V0z\" fill=\"none\"/>\n",
              "    <path d=\"M18.56 5.44l.94 2.06.94-2.06 2.06-.94-2.06-.94-.94-2.06-.94 2.06-2.06.94zm-11 1L8.5 8.5l.94-2.06 2.06-.94-2.06-.94L8.5 2.5l-.94 2.06-2.06.94zm10 10l.94 2.06.94-2.06 2.06-.94-2.06-.94-.94-2.06-.94 2.06-2.06.94z\"/><path d=\"M17.41 7.96l-1.37-1.37c-.4-.4-.92-.59-1.43-.59-.52 0-1.04.2-1.43.59L10.3 9.45l-7.72 7.72c-.78.78-.78 2.05 0 2.83L4 21.41c.39.39.9.59 1.41.59.51 0 1.02-.2 1.41-.59l7.78-7.78 2.81-2.81c.8-.78.8-2.07 0-2.86zM5.41 20L4 18.59l7.72-7.72 1.47 1.35L5.41 20z\"/>\n",
              "  </svg>\n",
              "      </button>\n",
              "      \n",
              "  <style>\n",
              "    .colab-df-container {\n",
              "      display:flex;\n",
              "      flex-wrap:wrap;\n",
              "      gap: 12px;\n",
              "    }\n",
              "\n",
              "    .colab-df-convert {\n",
              "      background-color: #E8F0FE;\n",
              "      border: none;\n",
              "      border-radius: 50%;\n",
              "      cursor: pointer;\n",
              "      display: none;\n",
              "      fill: #1967D2;\n",
              "      height: 32px;\n",
              "      padding: 0 0 0 0;\n",
              "      width: 32px;\n",
              "    }\n",
              "\n",
              "    .colab-df-convert:hover {\n",
              "      background-color: #E2EBFA;\n",
              "      box-shadow: 0px 1px 2px rgba(60, 64, 67, 0.3), 0px 1px 3px 1px rgba(60, 64, 67, 0.15);\n",
              "      fill: #174EA6;\n",
              "    }\n",
              "\n",
              "    [theme=dark] .colab-df-convert {\n",
              "      background-color: #3B4455;\n",
              "      fill: #D2E3FC;\n",
              "    }\n",
              "\n",
              "    [theme=dark] .colab-df-convert:hover {\n",
              "      background-color: #434B5C;\n",
              "      box-shadow: 0px 1px 3px 1px rgba(0, 0, 0, 0.15);\n",
              "      filter: drop-shadow(0px 1px 2px rgba(0, 0, 0, 0.3));\n",
              "      fill: #FFFFFF;\n",
              "    }\n",
              "  </style>\n",
              "\n",
              "      <script>\n",
              "        const buttonEl =\n",
              "          document.querySelector('#df-fb78a1e3-d9cb-484f-88de-d5645f2b240d button.colab-df-convert');\n",
              "        buttonEl.style.display =\n",
              "          google.colab.kernel.accessAllowed ? 'block' : 'none';\n",
              "\n",
              "        async function convertToInteractive(key) {\n",
              "          const element = document.querySelector('#df-fb78a1e3-d9cb-484f-88de-d5645f2b240d');\n",
              "          const dataTable =\n",
              "            await google.colab.kernel.invokeFunction('convertToInteractive',\n",
              "                                                     [key], {});\n",
              "          if (!dataTable) return;\n",
              "\n",
              "          const docLinkHtml = 'Like what you see? Visit the ' +\n",
              "            '<a target=\"_blank\" href=https://colab.research.google.com/notebooks/data_table.ipynb>data table notebook</a>'\n",
              "            + ' to learn more about interactive tables.';\n",
              "          element.innerHTML = '';\n",
              "          dataTable['output_type'] = 'display_data';\n",
              "          await google.colab.output.renderOutput(dataTable, element);\n",
              "          const docLink = document.createElement('div');\n",
              "          docLink.innerHTML = docLinkHtml;\n",
              "          element.appendChild(docLink);\n",
              "        }\n",
              "      </script>\n",
              "    </div>\n",
              "  </div>\n",
              "  "
            ]
          },
          "metadata": {},
          "execution_count": 24
        }
      ],
      "source": [
        "df"
      ]
    },
    {
      "cell_type": "code",
      "execution_count": 25,
      "id": "5212ae9b",
      "metadata": {
        "execution": {
          "iopub.execute_input": "2021-09-23T06:58:36.956613Z",
          "iopub.status.busy": "2021-09-23T06:58:36.955494Z",
          "iopub.status.idle": "2021-09-23T06:58:36.965401Z",
          "shell.execute_reply": "2021-09-23T06:58:36.964861Z",
          "shell.execute_reply.started": "2021-09-23T06:52:31.950901Z"
        },
        "papermill": {
          "duration": 0.069227,
          "end_time": "2021-09-23T06:58:36.965555",
          "exception": false,
          "start_time": "2021-09-23T06:58:36.896328",
          "status": "completed"
        },
        "tags": [],
        "colab": {
          "base_uri": "https://localhost:8080/"
        },
        "id": "5212ae9b",
        "outputId": "8075bd62-f781-4263-e1b1-b67de6e4d4a8"
      },
      "outputs": [
        {
          "output_type": "execute_result",
          "data": {
            "text/plain": [
              "Date\n",
              "2015-01-01        NaN\n",
              "2015-02-01    1971.34\n",
              "2015-05-01    2003.25\n",
              "2015-06-01    2004.59\n",
              "2015-07-01    1954.82\n",
              "               ...   \n",
              "2015-12-24    1097.35\n",
              "2015-12-28    1095.84\n",
              "2015-12-29    1105.51\n",
              "2015-12-30    1104.14\n",
              "2015-12-31    1094.45\n",
              "Name: Stock Price, Length: 248, dtype: float64"
            ]
          },
          "metadata": {},
          "execution_count": 25
        }
      ],
      "source": [
        "df['Stock Price'].shift(1)"
      ]
    },
    {
      "cell_type": "code",
      "execution_count": 26,
      "id": "a43c88b7",
      "metadata": {
        "execution": {
          "iopub.execute_input": "2021-09-23T06:58:37.088956Z",
          "iopub.status.busy": "2021-09-23T06:58:37.088136Z",
          "iopub.status.idle": "2021-09-23T06:58:37.091851Z",
          "shell.execute_reply": "2021-09-23T06:58:37.091184Z",
          "shell.execute_reply.started": "2021-09-23T06:52:31.967796Z"
        },
        "papermill": {
          "duration": 0.069653,
          "end_time": "2021-09-23T06:58:37.091998",
          "exception": false,
          "start_time": "2021-09-23T06:58:37.022345",
          "status": "completed"
        },
        "tags": [],
        "id": "a43c88b7"
      },
      "outputs": [],
      "source": [
        "df['Stock Price First Difference'] = df['Stock Price'] - df['Stock Price'].shift(1)"
      ]
    },
    {
      "cell_type": "code",
      "execution_count": 27,
      "id": "96288afd",
      "metadata": {
        "execution": {
          "iopub.execute_input": "2021-09-23T06:58:37.211939Z",
          "iopub.status.busy": "2021-09-23T06:58:37.211159Z",
          "iopub.status.idle": "2021-09-23T06:58:37.214226Z",
          "shell.execute_reply": "2021-09-23T06:58:37.213725Z",
          "shell.execute_reply.started": "2021-09-23T06:52:31.983258Z"
        },
        "papermill": {
          "duration": 0.06663,
          "end_time": "2021-09-23T06:58:37.214368",
          "exception": false,
          "start_time": "2021-09-23T06:58:37.147738",
          "status": "completed"
        },
        "tags": [],
        "id": "96288afd"
      },
      "outputs": [],
      "source": [
        "#why taken shift(247),bcz basically year has 247 day cycle in stocks\n",
        "df['Seasonal First Difference']=df['Stock Price']-df['Stock Price'].shift(20)"
      ]
    },
    {
      "cell_type": "code",
      "execution_count": 28,
      "id": "64e56760",
      "metadata": {
        "execution": {
          "iopub.execute_input": "2021-09-23T06:58:37.330544Z",
          "iopub.status.busy": "2021-09-23T06:58:37.329533Z",
          "iopub.status.idle": "2021-09-23T06:58:37.344499Z",
          "shell.execute_reply": "2021-09-23T06:58:37.344977Z",
          "shell.execute_reply.started": "2021-09-23T06:52:31.996916Z"
        },
        "papermill": {
          "duration": 0.07458,
          "end_time": "2021-09-23T06:58:37.345166",
          "exception": false,
          "start_time": "2021-09-23T06:58:37.270586",
          "status": "completed"
        },
        "tags": [],
        "colab": {
          "base_uri": "https://localhost:8080/",
          "height": 519
        },
        "id": "64e56760",
        "outputId": "13107d22-368d-4194-b278-112b733a6b55"
      },
      "outputs": [
        {
          "output_type": "execute_result",
          "data": {
            "text/plain": [
              "            Stock Price  Stock Price First Difference  \\\n",
              "Date                                                    \n",
              "2015-01-01      1971.34                           NaN   \n",
              "2015-02-01      2003.25                         31.91   \n",
              "2015-05-01      2004.59                          1.34   \n",
              "2015-06-01      1954.82                        -49.77   \n",
              "2015-07-01      1962.59                          7.77   \n",
              "2015-08-01      1972.78                         10.19   \n",
              "2015-09-01      2037.69                         64.91   \n",
              "2015-12-01      2099.40                         61.71   \n",
              "2015-01-13      2089.42                         -9.98   \n",
              "2015-01-14      2110.88                         21.46   \n",
              "2015-01-15      2137.46                         26.58   \n",
              "2015-01-16      2125.77                        -11.69   \n",
              "2015-01-19      2104.55                        -21.22   \n",
              "2015-01-20      2118.16                         13.61   \n",
              "\n",
              "            Seasonal First Difference  \n",
              "Date                                   \n",
              "2015-01-01                        NaN  \n",
              "2015-02-01                        NaN  \n",
              "2015-05-01                        NaN  \n",
              "2015-06-01                        NaN  \n",
              "2015-07-01                        NaN  \n",
              "2015-08-01                        NaN  \n",
              "2015-09-01                        NaN  \n",
              "2015-12-01                        NaN  \n",
              "2015-01-13                        NaN  \n",
              "2015-01-14                        NaN  \n",
              "2015-01-15                        NaN  \n",
              "2015-01-16                        NaN  \n",
              "2015-01-19                        NaN  \n",
              "2015-01-20                        NaN  "
            ],
            "text/html": [
              "\n",
              "  <div id=\"df-28c6a754-8f59-4ee8-9b3d-02f67598f307\">\n",
              "    <div class=\"colab-df-container\">\n",
              "      <div>\n",
              "<style scoped>\n",
              "    .dataframe tbody tr th:only-of-type {\n",
              "        vertical-align: middle;\n",
              "    }\n",
              "\n",
              "    .dataframe tbody tr th {\n",
              "        vertical-align: top;\n",
              "    }\n",
              "\n",
              "    .dataframe thead th {\n",
              "        text-align: right;\n",
              "    }\n",
              "</style>\n",
              "<table border=\"1\" class=\"dataframe\">\n",
              "  <thead>\n",
              "    <tr style=\"text-align: right;\">\n",
              "      <th></th>\n",
              "      <th>Stock Price</th>\n",
              "      <th>Stock Price First Difference</th>\n",
              "      <th>Seasonal First Difference</th>\n",
              "    </tr>\n",
              "    <tr>\n",
              "      <th>Date</th>\n",
              "      <th></th>\n",
              "      <th></th>\n",
              "      <th></th>\n",
              "    </tr>\n",
              "  </thead>\n",
              "  <tbody>\n",
              "    <tr>\n",
              "      <th>2015-01-01</th>\n",
              "      <td>1971.34</td>\n",
              "      <td>NaN</td>\n",
              "      <td>NaN</td>\n",
              "    </tr>\n",
              "    <tr>\n",
              "      <th>2015-02-01</th>\n",
              "      <td>2003.25</td>\n",
              "      <td>31.91</td>\n",
              "      <td>NaN</td>\n",
              "    </tr>\n",
              "    <tr>\n",
              "      <th>2015-05-01</th>\n",
              "      <td>2004.59</td>\n",
              "      <td>1.34</td>\n",
              "      <td>NaN</td>\n",
              "    </tr>\n",
              "    <tr>\n",
              "      <th>2015-06-01</th>\n",
              "      <td>1954.82</td>\n",
              "      <td>-49.77</td>\n",
              "      <td>NaN</td>\n",
              "    </tr>\n",
              "    <tr>\n",
              "      <th>2015-07-01</th>\n",
              "      <td>1962.59</td>\n",
              "      <td>7.77</td>\n",
              "      <td>NaN</td>\n",
              "    </tr>\n",
              "    <tr>\n",
              "      <th>2015-08-01</th>\n",
              "      <td>1972.78</td>\n",
              "      <td>10.19</td>\n",
              "      <td>NaN</td>\n",
              "    </tr>\n",
              "    <tr>\n",
              "      <th>2015-09-01</th>\n",
              "      <td>2037.69</td>\n",
              "      <td>64.91</td>\n",
              "      <td>NaN</td>\n",
              "    </tr>\n",
              "    <tr>\n",
              "      <th>2015-12-01</th>\n",
              "      <td>2099.40</td>\n",
              "      <td>61.71</td>\n",
              "      <td>NaN</td>\n",
              "    </tr>\n",
              "    <tr>\n",
              "      <th>2015-01-13</th>\n",
              "      <td>2089.42</td>\n",
              "      <td>-9.98</td>\n",
              "      <td>NaN</td>\n",
              "    </tr>\n",
              "    <tr>\n",
              "      <th>2015-01-14</th>\n",
              "      <td>2110.88</td>\n",
              "      <td>21.46</td>\n",
              "      <td>NaN</td>\n",
              "    </tr>\n",
              "    <tr>\n",
              "      <th>2015-01-15</th>\n",
              "      <td>2137.46</td>\n",
              "      <td>26.58</td>\n",
              "      <td>NaN</td>\n",
              "    </tr>\n",
              "    <tr>\n",
              "      <th>2015-01-16</th>\n",
              "      <td>2125.77</td>\n",
              "      <td>-11.69</td>\n",
              "      <td>NaN</td>\n",
              "    </tr>\n",
              "    <tr>\n",
              "      <th>2015-01-19</th>\n",
              "      <td>2104.55</td>\n",
              "      <td>-21.22</td>\n",
              "      <td>NaN</td>\n",
              "    </tr>\n",
              "    <tr>\n",
              "      <th>2015-01-20</th>\n",
              "      <td>2118.16</td>\n",
              "      <td>13.61</td>\n",
              "      <td>NaN</td>\n",
              "    </tr>\n",
              "  </tbody>\n",
              "</table>\n",
              "</div>\n",
              "      <button class=\"colab-df-convert\" onclick=\"convertToInteractive('df-28c6a754-8f59-4ee8-9b3d-02f67598f307')\"\n",
              "              title=\"Convert this dataframe to an interactive table.\"\n",
              "              style=\"display:none;\">\n",
              "        \n",
              "  <svg xmlns=\"http://www.w3.org/2000/svg\" height=\"24px\"viewBox=\"0 0 24 24\"\n",
              "       width=\"24px\">\n",
              "    <path d=\"M0 0h24v24H0V0z\" fill=\"none\"/>\n",
              "    <path d=\"M18.56 5.44l.94 2.06.94-2.06 2.06-.94-2.06-.94-.94-2.06-.94 2.06-2.06.94zm-11 1L8.5 8.5l.94-2.06 2.06-.94-2.06-.94L8.5 2.5l-.94 2.06-2.06.94zm10 10l.94 2.06.94-2.06 2.06-.94-2.06-.94-.94-2.06-.94 2.06-2.06.94z\"/><path d=\"M17.41 7.96l-1.37-1.37c-.4-.4-.92-.59-1.43-.59-.52 0-1.04.2-1.43.59L10.3 9.45l-7.72 7.72c-.78.78-.78 2.05 0 2.83L4 21.41c.39.39.9.59 1.41.59.51 0 1.02-.2 1.41-.59l7.78-7.78 2.81-2.81c.8-.78.8-2.07 0-2.86zM5.41 20L4 18.59l7.72-7.72 1.47 1.35L5.41 20z\"/>\n",
              "  </svg>\n",
              "      </button>\n",
              "      \n",
              "  <style>\n",
              "    .colab-df-container {\n",
              "      display:flex;\n",
              "      flex-wrap:wrap;\n",
              "      gap: 12px;\n",
              "    }\n",
              "\n",
              "    .colab-df-convert {\n",
              "      background-color: #E8F0FE;\n",
              "      border: none;\n",
              "      border-radius: 50%;\n",
              "      cursor: pointer;\n",
              "      display: none;\n",
              "      fill: #1967D2;\n",
              "      height: 32px;\n",
              "      padding: 0 0 0 0;\n",
              "      width: 32px;\n",
              "    }\n",
              "\n",
              "    .colab-df-convert:hover {\n",
              "      background-color: #E2EBFA;\n",
              "      box-shadow: 0px 1px 2px rgba(60, 64, 67, 0.3), 0px 1px 3px 1px rgba(60, 64, 67, 0.15);\n",
              "      fill: #174EA6;\n",
              "    }\n",
              "\n",
              "    [theme=dark] .colab-df-convert {\n",
              "      background-color: #3B4455;\n",
              "      fill: #D2E3FC;\n",
              "    }\n",
              "\n",
              "    [theme=dark] .colab-df-convert:hover {\n",
              "      background-color: #434B5C;\n",
              "      box-shadow: 0px 1px 3px 1px rgba(0, 0, 0, 0.15);\n",
              "      filter: drop-shadow(0px 1px 2px rgba(0, 0, 0, 0.3));\n",
              "      fill: #FFFFFF;\n",
              "    }\n",
              "  </style>\n",
              "\n",
              "      <script>\n",
              "        const buttonEl =\n",
              "          document.querySelector('#df-28c6a754-8f59-4ee8-9b3d-02f67598f307 button.colab-df-convert');\n",
              "        buttonEl.style.display =\n",
              "          google.colab.kernel.accessAllowed ? 'block' : 'none';\n",
              "\n",
              "        async function convertToInteractive(key) {\n",
              "          const element = document.querySelector('#df-28c6a754-8f59-4ee8-9b3d-02f67598f307');\n",
              "          const dataTable =\n",
              "            await google.colab.kernel.invokeFunction('convertToInteractive',\n",
              "                                                     [key], {});\n",
              "          if (!dataTable) return;\n",
              "\n",
              "          const docLinkHtml = 'Like what you see? Visit the ' +\n",
              "            '<a target=\"_blank\" href=https://colab.research.google.com/notebooks/data_table.ipynb>data table notebook</a>'\n",
              "            + ' to learn more about interactive tables.';\n",
              "          element.innerHTML = '';\n",
              "          dataTable['output_type'] = 'display_data';\n",
              "          await google.colab.output.renderOutput(dataTable, element);\n",
              "          const docLink = document.createElement('div');\n",
              "          docLink.innerHTML = docLinkHtml;\n",
              "          element.appendChild(docLink);\n",
              "        }\n",
              "      </script>\n",
              "    </div>\n",
              "  </div>\n",
              "  "
            ]
          },
          "metadata": {},
          "execution_count": 28
        }
      ],
      "source": [
        "df.head(14)"
      ]
    },
    {
      "cell_type": "code",
      "source": [
        "df['Seasonal Second Difference']=df['Seasonal First Difference']-df['Stock Price'].shift(24)"
      ],
      "metadata": {
        "id": "UYlUXtdmCH5p"
      },
      "id": "UYlUXtdmCH5p",
      "execution_count": 29,
      "outputs": []
    },
    {
      "cell_type": "code",
      "execution_count": 30,
      "id": "8cbcd174",
      "metadata": {
        "execution": {
          "iopub.execute_input": "2021-09-23T06:58:37.463177Z",
          "iopub.status.busy": "2021-09-23T06:58:37.462207Z",
          "iopub.status.idle": "2021-09-23T06:58:37.476886Z",
          "shell.execute_reply": "2021-09-23T06:58:37.475955Z",
          "shell.execute_reply.started": "2021-09-23T06:52:32.026604Z"
        },
        "papermill": {
          "duration": 0.075074,
          "end_time": "2021-09-23T06:58:37.477050",
          "exception": false,
          "start_time": "2021-09-23T06:58:37.401976",
          "status": "completed"
        },
        "tags": [],
        "colab": {
          "base_uri": "https://localhost:8080/"
        },
        "id": "8cbcd174",
        "outputId": "4b0ea7aa-c0d9-4b66-ee68-b0f6b33f4a49"
      },
      "outputs": [
        {
          "output_type": "stream",
          "name": "stdout",
          "text": [
            "ADF Test Statistic : -2.5275287910619615\n",
            "p-value : 0.10891912753005634\n",
            "#Lags Used : 0\n",
            "Number of Observations Used : 227\n",
            "weak evidence against null hypothesis, time series has a unit root, indicating it is non-stationary \n"
          ]
        }
      ],
      "source": [
        "## Again test dickey fuller test on df['Stock Price First Difference']\n",
        "adfuller_test(df['Seasonal First Difference'].dropna())"
      ]
    },
    {
      "cell_type": "code",
      "execution_count": 31,
      "id": "67f7f799",
      "metadata": {
        "execution": {
          "iopub.execute_input": "2021-09-23T06:58:37.595716Z",
          "iopub.status.busy": "2021-09-23T06:58:37.595036Z",
          "iopub.status.idle": "2021-09-23T06:58:37.598480Z",
          "shell.execute_reply": "2021-09-23T06:58:37.597961Z",
          "shell.execute_reply.started": "2021-09-23T06:52:32.047432Z"
        },
        "papermill": {
          "duration": 0.063793,
          "end_time": "2021-09-23T06:58:37.598638",
          "exception": false,
          "start_time": "2021-09-23T06:58:37.534845",
          "status": "completed"
        },
        "tags": [],
        "id": "67f7f799"
      },
      "outputs": [],
      "source": [
        "#now our p-value is less than 0.05 which basically says we are rejecting null hypo and accepting alternate hypo\n",
        "#ie data is stationery\n",
        "#if p-value is almost 0,then we have a wonderful stationery graph"
      ]
    },
    {
      "cell_type": "code",
      "execution_count": 32,
      "id": "1eb4f08a",
      "metadata": {
        "execution": {
          "iopub.execute_input": "2021-09-23T06:58:37.795899Z",
          "iopub.status.busy": "2021-09-23T06:58:37.795153Z",
          "iopub.status.idle": "2021-09-23T06:58:38.069774Z",
          "shell.execute_reply": "2021-09-23T06:58:38.069043Z",
          "shell.execute_reply.started": "2021-09-23T06:52:32.057144Z"
        },
        "papermill": {
          "duration": 0.414537,
          "end_time": "2021-09-23T06:58:38.069922",
          "exception": false,
          "start_time": "2021-09-23T06:58:37.655385",
          "status": "completed"
        },
        "tags": [],
        "colab": {
          "base_uri": "https://localhost:8080/",
          "height": 450
        },
        "id": "1eb4f08a",
        "outputId": "babb2d57-4bd3-4466-b5cd-f2c70d7cd0dd"
      },
      "outputs": [
        {
          "output_type": "execute_result",
          "data": {
            "text/plain": [
              "<Axes: xlabel='Date'>"
            ]
          },
          "metadata": {},
          "execution_count": 32
        },
        {
          "output_type": "display_data",
          "data": {
            "text/plain": [
              "<Figure size 640x480 with 1 Axes>"
            ],
            "image/png": "[encoded data removed]"
          },
          "metadata": {}
        }
      ],
      "source": [
        "df['Seasonal First Difference'].plot()"
      ]
    },
    {
      "cell_type": "code",
      "execution_count": 33,
      "id": "0862a78a",
      "metadata": {
        "execution": {
          "iopub.execute_input": "2021-09-23T06:58:38.194089Z",
          "iopub.status.busy": "2021-09-23T06:58:38.192506Z",
          "iopub.status.idle": "2021-09-23T06:58:38.197397Z",
          "shell.execute_reply": "2021-09-23T06:58:38.196876Z",
          "shell.execute_reply.started": "2021-09-23T06:52:32.473174Z"
        },
        "papermill": {
          "duration": 0.067759,
          "end_time": "2021-09-23T06:58:38.197544",
          "exception": false,
          "start_time": "2021-09-23T06:58:38.129785",
          "status": "completed"
        },
        "tags": [],
        "id": "0862a78a"
      },
      "outputs": [],
      "source": [
        "from statsmodels.graphics.tsaplots import plot_acf,plot_pacf\n",
        "#Autocorrelation(plot_acf),Partial Autocorrelation(plot_pacf)"
      ]
    },
    {
      "cell_type": "code",
      "execution_count": 34,
      "id": "cf2c6adb",
      "metadata": {
        "execution": {
          "iopub.execute_input": "2021-09-23T06:58:38.318641Z",
          "iopub.status.busy": "2021-09-23T06:58:38.317628Z",
          "iopub.status.idle": "2021-09-23T06:58:38.321519Z",
          "shell.execute_reply": "2021-09-23T06:58:38.322056Z",
          "shell.execute_reply.started": "2021-09-23T06:52:32.481653Z"
        },
        "papermill": {
          "duration": 0.066339,
          "end_time": "2021-09-23T06:58:38.322230",
          "exception": false,
          "start_time": "2021-09-23T06:58:38.255891",
          "status": "completed"
        },
        "tags": [],
        "id": "cf2c6adb"
      },
      "outputs": [],
      "source": [
        "from statsmodels.graphics.tsaplots import plot_acf,plot_pacf"
      ]
    },
    {
      "cell_type": "code",
      "execution_count": 35,
      "id": "99bc8929",
      "metadata": {
        "execution": {
          "iopub.execute_input": "2021-09-23T06:58:38.470517Z",
          "iopub.status.busy": "2021-09-23T06:58:38.441120Z",
          "iopub.status.idle": "2021-09-23T06:58:38.918434Z",
          "shell.execute_reply": "2021-09-23T06:58:38.919016Z",
          "shell.execute_reply.started": "2021-09-23T06:52:32.492011Z"
        },
        "papermill": {
          "duration": 0.539035,
          "end_time": "2021-09-23T06:58:38.919188",
          "exception": false,
          "start_time": "2021-09-23T06:58:38.380153",
          "status": "completed"
        },
        "tags": [],
        "colab": {
          "base_uri": "https://localhost:8080/",
          "height": 754
        },
        "id": "99bc8929",
        "outputId": "9223ff46-aee2-4691-e728-7b9a36fa9c4b"
      },
      "outputs": [
        {
          "output_type": "stream",
          "name": "stderr",
          "text": [
            "/usr/local/lib/python3.10/dist-packages/statsmodels/graphics/tsaplots.py:348: FutureWarning: The default method 'yw' can produce PACF values outside of the [-1,1] interval. After 0.13, the default will change tounadjusted Yule-Walker ('ywm'). You can use this method now by setting method='ywm'.\n",
            "  warnings.warn(\n"
          ]
        },
        {
          "output_type": "display_data",
          "data": {
            "text/plain": [
              "<Figure size 1200x800 with 2 Axes>"
            ],
            "image/png": "[encoded data removed]"
          },
          "metadata": {}
        }
      ],
      "source": [
        "\n",
        "fig = plt.figure(figsize=(12,8))\n",
        "ax1 = fig.add_subplot(211)\n",
        "fig = plot_acf(df['Seasonal First Difference'].iloc[21:],lags=40,ax=ax1)\n",
        "ax2 = fig.add_subplot(212)\n",
        "fig = plot_pacf(df['Seasonal First Difference'].iloc[21:],lags=40,ax=ax2)"
      ]
    },
    {
      "cell_type": "code",
      "execution_count": 36,
      "id": "c907d11d",
      "metadata": {
        "execution": {
          "iopub.execute_input": "2021-09-23T06:58:39.401906Z",
          "iopub.status.busy": "2021-09-23T06:58:39.400897Z",
          "iopub.status.idle": "2021-09-23T06:58:39.404696Z",
          "shell.execute_reply": "2021-09-23T06:58:39.405232Z",
          "shell.execute_reply.started": "2021-09-23T06:52:33.225692Z"
        },
        "papermill": {
          "duration": 0.06629,
          "end_time": "2021-09-23T06:58:39.405402",
          "exception": false,
          "start_time": "2021-09-23T06:58:39.339112",
          "status": "completed"
        },
        "tags": [],
        "id": "c907d11d"
      },
      "outputs": [],
      "source": [
        "# For non-seasonal data\n",
        "#p=1, d=1, q=0 or 1\n"
      ]
    },
    {
      "cell_type": "markdown",
      "source": [
        "## ARIMA Model"
      ],
      "metadata": {
        "id": "tafnKnODBkob"
      },
      "id": "tafnKnODBkob"
    },
    {
      "cell_type": "code",
      "execution_count": 37,
      "id": "2e3893f6",
      "metadata": {
        "execution": {
          "iopub.execute_input": "2021-09-23T06:58:39.526730Z",
          "iopub.status.busy": "2021-09-23T06:58:39.525703Z",
          "iopub.status.idle": "2021-09-23T06:58:39.692452Z",
          "shell.execute_reply": "2021-09-23T06:58:39.691951Z",
          "shell.execute_reply.started": "2021-09-23T06:52:33.231788Z"
        },
        "papermill": {
          "duration": 0.228735,
          "end_time": "2021-09-23T06:58:39.692595",
          "exception": false,
          "start_time": "2021-09-23T06:58:39.463860",
          "status": "completed"
        },
        "tags": [],
        "id": "2e3893f6",
        "colab": {
          "base_uri": "https://localhost:8080/"
        },
        "outputId": "e0eeb14d-e6f7-4c2a-cb45-31b8703816dc"
      },
      "outputs": [
        {
          "output_type": "stream",
          "name": "stderr",
          "text": [
            "/usr/local/lib/python3.10/dist-packages/statsmodels/tsa/base/tsa_model.py:471: ValueWarning: A date index has been provided, but it has no associated frequency information and so will be ignored when e.g. forecasting.\n",
            "  self._init_dates(dates, freq)\n",
            "/usr/local/lib/python3.10/dist-packages/statsmodels/tsa/base/tsa_model.py:471: ValueWarning: A date index has been provided, but it is not monotonic and so will be ignored when e.g. forecasting.\n",
            "  self._init_dates(dates, freq)\n",
            "/usr/local/lib/python3.10/dist-packages/statsmodels/tsa/base/tsa_model.py:471: ValueWarning: A date index has been provided, but it has no associated frequency information and so will be ignored when e.g. forecasting.\n",
            "  self._init_dates(dates, freq)\n",
            "/usr/local/lib/python3.10/dist-packages/statsmodels/tsa/base/tsa_model.py:471: ValueWarning: A date index has been provided, but it is not monotonic and so will be ignored when e.g. forecasting.\n",
            "  self._init_dates(dates, freq)\n",
            "/usr/local/lib/python3.10/dist-packages/statsmodels/tsa/base/tsa_model.py:471: ValueWarning: A date index has been provided, but it has no associated frequency information and so will be ignored when e.g. forecasting.\n",
            "  self._init_dates(dates, freq)\n",
            "/usr/local/lib/python3.10/dist-packages/statsmodels/tsa/base/tsa_model.py:471: ValueWarning: A date index has been provided, but it is not monotonic and so will be ignored when e.g. forecasting.\n",
            "  self._init_dates(dates, freq)\n"
          ]
        }
      ],
      "source": [
        "model=ARIMA(df['Stock Price'],order=(1,1,1))\n",
        "model_fit=model.fit()"
      ]
    },
    {
      "cell_type": "code",
      "execution_count": 38,
      "id": "beee8f37",
      "metadata": {
        "execution": {
          "iopub.execute_input": "2021-09-23T06:58:39.817454Z",
          "iopub.status.busy": "2021-09-23T06:58:39.816331Z",
          "iopub.status.idle": "2021-09-23T06:58:39.995600Z",
          "shell.execute_reply": "2021-09-23T06:58:39.994892Z",
          "shell.execute_reply.started": "2021-09-23T06:52:33.409753Z"
        },
        "papermill": {
          "duration": 0.24342,
          "end_time": "2021-09-23T06:58:39.995767",
          "exception": false,
          "start_time": "2021-09-23T06:58:39.752347",
          "status": "completed"
        },
        "tags": [],
        "colab": {
          "base_uri": "https://localhost:8080/",
          "height": 430
        },
        "id": "beee8f37",
        "outputId": "d1af0065-b2b7-4efe-ec8b-21c1661bc1a6"
      },
      "outputs": [
        {
          "output_type": "execute_result",
          "data": {
            "text/plain": [
              "<class 'statsmodels.iolib.summary.Summary'>\n",
              "\"\"\"\n",
              "                               SARIMAX Results                                \n",
              "==============================================================================\n",
              "Dep. Variable:            Stock Price   No. Observations:                  248\n",
              "Model:                 ARIMA(1, 1, 1)   Log Likelihood               -1390.367\n",
              "Date:                Tue, 02 May 2023   AIC                           2786.734\n",
              "Time:                        07:48:57   BIC                           2797.262\n",
              "Sample:                             0   HQIC                          2790.972\n",
              "                                - 248                                         \n",
              "Covariance Type:                  opg                                         \n",
              "==============================================================================\n",
              "                 coef    std err          z      P>|z|      [0.025      0.975]\n",
              "------------------------------------------------------------------------------\n",
              "ar.L1         -0.1063     21.971     -0.005      0.996     -43.168      42.955\n",
              "ma.L1          0.1365     21.982      0.006      0.995     -42.948      43.221\n",
              "sigma2      4566.9149     60.856     75.045      0.000    4447.639    4686.191\n",
              "===================================================================================\n",
              "Ljung-Box (L1) (Q):                   0.00   Jarque-Bera (JB):            388451.29\n",
              "Prob(Q):                              0.97   Prob(JB):                         0.00\n",
              "Heteroskedasticity (H):               0.24   Skew:                           -13.17\n",
              "Prob(H) (two-sided):                  0.00   Kurtosis:                       195.49\n",
              "===================================================================================\n",
              "\n",
              "Warnings:\n",
              "[1] Covariance matrix calculated using the outer product of gradients (complex-step).\n",
              "\"\"\""
            ],
            "text/html": [
              "<table class=\"simpletable\">\n",
              "<caption>SARIMAX Results</caption>\n",
              "<tr>\n",
              "  <th>Dep. Variable:</th>      <td>Stock Price</td>   <th>  No. Observations:  </th>    <td>248</td>   \n",
              "</tr>\n",
              "<tr>\n",
              "  <th>Model:</th>            <td>ARIMA(1, 1, 1)</td>  <th>  Log Likelihood     </th> <td>-1390.367</td>\n",
              "</tr>\n",
              "<tr>\n",
              "  <th>Date:</th>            <td>Tue, 02 May 2023</td> <th>  AIC                </th> <td>2786.734</td> \n",
              "</tr>\n",
              "<tr>\n",
              "  <th>Time:</th>                <td>07:48:57</td>     <th>  BIC                </th> <td>2797.262</td> \n",
              "</tr>\n",
              "<tr>\n",
              "  <th>Sample:</th>                  <td>0</td>        <th>  HQIC               </th> <td>2790.972</td> \n",
              "</tr>\n",
              "<tr>\n",
              "  <th></th>                      <td> - 248</td>      <th>                     </th>     <td> </td>    \n",
              "</tr>\n",
              "<tr>\n",
              "  <th>Covariance Type:</th>        <td>opg</td>       <th>                     </th>     <td> </td>    \n",
              "</tr>\n",
              "</table>\n",
              "<table class=\"simpletable\">\n",
              "<tr>\n",
              "     <td></td>       <th>coef</th>     <th>std err</th>      <th>z</th>      <th>P>|z|</th>  <th>[0.025</th>    <th>0.975]</th>  \n",
              "</tr>\n",
              "<tr>\n",
              "  <th>ar.L1</th>  <td>   -0.1063</td> <td>   21.971</td> <td>   -0.005</td> <td> 0.996</td> <td>  -43.168</td> <td>   42.955</td>\n",
              "</tr>\n",
              "<tr>\n",
              "  <th>ma.L1</th>  <td>    0.1365</td> <td>   21.982</td> <td>    0.006</td> <td> 0.995</td> <td>  -42.948</td> <td>   43.221</td>\n",
              "</tr>\n",
              "<tr>\n",
              "  <th>sigma2</th> <td> 4566.9149</td> <td>   60.856</td> <td>   75.045</td> <td> 0.000</td> <td> 4447.639</td> <td> 4686.191</td>\n",
              "</tr>\n",
              "</table>\n",
              "<table class=\"simpletable\">\n",
              "<tr>\n",
              "  <th>Ljung-Box (L1) (Q):</th>     <td>0.00</td> <th>  Jarque-Bera (JB):  </th> <td>388451.29</td>\n",
              "</tr>\n",
              "<tr>\n",
              "  <th>Prob(Q):</th>                <td>0.97</td> <th>  Prob(JB):          </th>   <td>0.00</td>   \n",
              "</tr>\n",
              "<tr>\n",
              "  <th>Heteroskedasticity (H):</th> <td>0.24</td> <th>  Skew:              </th>  <td>-13.17</td>  \n",
              "</tr>\n",
              "<tr>\n",
              "  <th>Prob(H) (two-sided):</th>    <td>0.00</td> <th>  Kurtosis:          </th>  <td>195.49</td>  \n",
              "</tr>\n",
              "</table><br/><br/>Warnings:<br/>[1] Covariance matrix calculated using the outer product of gradients (complex-step)."
            ]
          },
          "metadata": {},
          "execution_count": 38
        }
      ],
      "source": [
        "model_fit.summary()"
      ]
    },
    {
      "cell_type": "code",
      "execution_count": 39,
      "id": "3023c59c",
      "metadata": {
        "execution": {
          "iopub.execute_input": "2021-09-23T06:58:40.672893Z",
          "iopub.status.busy": "2021-09-23T06:58:40.672038Z",
          "iopub.status.idle": "2021-09-23T06:58:40.675054Z",
          "shell.execute_reply": "2021-09-23T06:58:40.674505Z",
          "shell.execute_reply.started": "2021-09-23T06:52:33.965186Z"
        },
        "papermill": {
          "duration": 0.073951,
          "end_time": "2021-09-23T06:58:40.675201",
          "exception": false,
          "start_time": "2021-09-23T06:58:40.601250",
          "status": "completed"
        },
        "tags": [],
        "id": "3023c59c"
      },
      "outputs": [],
      "source": [
        "## note: when u have seasonal data, use SARIMAX over there.."
      ]
    },
    {
      "cell_type": "code",
      "execution_count": 40,
      "id": "cf0ef157",
      "metadata": {
        "execution": {
          "iopub.execute_input": "2021-09-23T06:58:40.806941Z",
          "iopub.status.busy": "2021-09-23T06:58:40.806012Z",
          "iopub.status.idle": "2021-09-23T06:58:41.427814Z",
          "shell.execute_reply": "2021-09-23T06:58:41.427171Z",
          "shell.execute_reply.started": "2021-09-23T06:52:33.970026Z"
        },
        "papermill": {
          "duration": 0.68948,
          "end_time": "2021-09-23T06:58:41.427971",
          "exception": false,
          "start_time": "2021-09-23T06:58:40.738491",
          "status": "completed"
        },
        "tags": [],
        "id": "cf0ef157"
      },
      "outputs": [],
      "source": [
        "import statsmodels as sm"
      ]
    },
    {
      "cell_type": "code",
      "execution_count": 41,
      "id": "c68ed888",
      "metadata": {
        "execution": {
          "iopub.execute_input": "2021-09-23T06:58:41.560400Z",
          "iopub.status.busy": "2021-09-23T06:58:41.559361Z",
          "iopub.status.idle": "2021-09-23T06:58:41.562576Z",
          "shell.execute_reply": "2021-09-23T06:58:41.561936Z",
          "shell.execute_reply.started": "2021-09-23T06:52:34.561089Z"
        },
        "papermill": {
          "duration": 0.070791,
          "end_time": "2021-09-23T06:58:41.562739",
          "exception": false,
          "start_time": "2021-09-23T06:58:41.491948",
          "status": "completed"
        },
        "tags": [],
        "id": "c68ed888"
      },
      "outputs": [],
      "source": [
        "#seasonal_order=(1,1,1,20)\n",
        "#(p,d,q,shift_value)"
      ]
    },
    {
      "cell_type": "code",
      "source": [
        "df['forecast']=model_fit.predict(start=224,end=245,dynamic=True)"
      ],
      "metadata": {
        "id": "dd2jVilmDZwq"
      },
      "id": "dd2jVilmDZwq",
      "execution_count": 42,
      "outputs": []
    },
    {
      "cell_type": "code",
      "source": [
        "#blue line is original data anf orange is a forecasted data\n",
        "df[['Stock Price','forecast']].plot(figsize=(12,8))"
      ],
      "metadata": {
        "colab": {
          "base_uri": "https://localhost:8080/",
          "height": 668
        },
        "id": "VEHj3Fp6DhxQ",
        "outputId": "ef8bf730-1549-4ed6-9f6f-45929cafbda9"
      },
      "id": "VEHj3Fp6DhxQ",
      "execution_count": 43,
      "outputs": [
        {
          "output_type": "execute_result",
          "data": {
            "text/plain": [
              "<Axes: xlabel='Date'>"
            ]
          },
          "metadata": {},
          "execution_count": 43
        },
        {
          "output_type": "display_data",
          "data": {
            "text/plain": [
              "<Figure size 1200x800 with 1 Axes>"
            ],
            "image/png": "[encoded data removed]"
          },
          "metadata": {}
        }
      ]
    },
    {
      "cell_type": "code",
      "source": [
        "from statsmodels.tsa.statespace.sarimax import SARIMAX"
      ],
      "metadata": {
        "id": "cLeGBEWkKk-H"
      },
      "id": "cLeGBEWkKk-H",
      "execution_count": 44,
      "outputs": []
    },
    {
      "cell_type": "code",
      "execution_count": 45,
      "id": "012d6028",
      "metadata": {
        "execution": {
          "iopub.execute_input": "2021-09-23T06:58:41.701456Z",
          "iopub.status.busy": "2021-09-23T06:58:41.700386Z",
          "iopub.status.idle": "2021-09-23T06:58:42.655693Z",
          "shell.execute_reply": "2021-09-23T06:58:42.656640Z",
          "shell.execute_reply.started": "2021-09-23T06:52:34.566833Z"
        },
        "papermill": {
          "duration": 1.031874,
          "end_time": "2021-09-23T06:58:42.656939",
          "exception": false,
          "start_time": "2021-09-23T06:58:41.625065",
          "status": "completed"
        },
        "tags": [],
        "id": "012d6028",
        "colab": {
          "base_uri": "https://localhost:8080/"
        },
        "outputId": "a76f70da-5ff3-4568-d0ac-477c82af8be3"
      },
      "outputs": [
        {
          "output_type": "stream",
          "name": "stderr",
          "text": [
            "/usr/local/lib/python3.10/dist-packages/statsmodels/tsa/base/tsa_model.py:471: ValueWarning: A date index has been provided, but it has no associated frequency information and so will be ignored when e.g. forecasting.\n",
            "  self._init_dates(dates, freq)\n",
            "/usr/local/lib/python3.10/dist-packages/statsmodels/tsa/base/tsa_model.py:471: ValueWarning: A date index has been provided, but it is not monotonic and so will be ignored when e.g. forecasting.\n",
            "  self._init_dates(dates, freq)\n",
            "/usr/local/lib/python3.10/dist-packages/statsmodels/tsa/base/tsa_model.py:471: ValueWarning: A date index has been provided, but it has no associated frequency information and so will be ignored when e.g. forecasting.\n",
            "  self._init_dates(dates, freq)\n",
            "/usr/local/lib/python3.10/dist-packages/statsmodels/tsa/base/tsa_model.py:471: ValueWarning: A date index has been provided, but it is not monotonic and so will be ignored when e.g. forecasting.\n",
            "  self._init_dates(dates, freq)\n"
          ]
        }
      ],
      "source": [
        "model=SARIMAX(df['Stock Price'],order=(1, 1, 1),seasonal_order=(1,1,1,20))\n",
        "results=model.fit()"
      ]
    },
    {
      "cell_type": "code",
      "execution_count": 46,
      "id": "cb475275",
      "metadata": {
        "execution": {
          "iopub.execute_input": "2021-09-23T06:58:42.839248Z",
          "iopub.status.busy": "2021-09-23T06:58:42.838207Z",
          "iopub.status.idle": "2021-09-23T06:58:42.844869Z",
          "shell.execute_reply": "2021-09-23T06:58:42.844170Z",
          "shell.execute_reply.started": "2021-09-23T06:52:35.615868Z"
        },
        "papermill": {
          "duration": 0.082837,
          "end_time": "2021-09-23T06:58:42.845018",
          "exception": false,
          "start_time": "2021-09-23T06:58:42.762181",
          "status": "completed"
        },
        "scrolled": true,
        "tags": [],
        "id": "cb475275"
      },
      "outputs": [],
      "source": [
        "#predicting from index 224 to 245\n",
        "df['forecast']=results.predict(start=224,end=245,dynamic=True)\n"
      ]
    },
    {
      "cell_type": "code",
      "execution_count": 47,
      "id": "4a136413",
      "metadata": {
        "execution": {
          "iopub.execute_input": "2021-09-23T06:58:43.004446Z",
          "iopub.status.busy": "2021-09-23T06:58:43.003359Z",
          "iopub.status.idle": "2021-09-23T06:58:43.403196Z",
          "shell.execute_reply": "2021-09-23T06:58:43.402613Z",
          "shell.execute_reply.started": "2021-09-23T06:52:35.634124Z"
        },
        "papermill": {
          "duration": 0.493356,
          "end_time": "2021-09-23T06:58:43.403345",
          "exception": false,
          "start_time": "2021-09-23T06:58:42.909989",
          "status": "completed"
        },
        "tags": [],
        "colab": {
          "base_uri": "https://localhost:8080/",
          "height": 668
        },
        "id": "4a136413",
        "outputId": "2a86dab5-755c-4079-8166-89726be5d75d"
      },
      "outputs": [
        {
          "output_type": "execute_result",
          "data": {
            "text/plain": [
              "<Axes: xlabel='Date'>"
            ]
          },
          "metadata": {},
          "execution_count": 47
        },
        {
          "output_type": "display_data",
          "data": {
            "text/plain": [
              "<Figure size 1200x800 with 1 Axes>"
            ],
            "image/png": "[encoded data removed]"
          },
          "metadata": {}
        }
      ],
      "source": [
        "#blue line is original data anf orange is a forecasted data\n",
        "df[['Stock Price','forecast']].plot(figsize=(12,8))"
      ]
    },
    {
      "cell_type": "code",
      "execution_count": 48,
      "id": "83408ebb",
      "metadata": {
        "execution": {
          "iopub.execute_input": "2021-09-23T06:58:43.542720Z",
          "iopub.status.busy": "2021-09-23T06:58:43.541688Z",
          "iopub.status.idle": "2021-09-23T06:58:43.544301Z",
          "shell.execute_reply": "2021-09-23T06:58:43.543688Z",
          "shell.execute_reply.started": "2021-09-23T06:52:36.179104Z"
        },
        "papermill": {
          "duration": 0.074189,
          "end_time": "2021-09-23T06:58:43.544440",
          "exception": false,
          "start_time": "2021-09-23T06:58:43.470251",
          "status": "completed"
        },
        "tags": [],
        "id": "83408ebb"
      },
      "outputs": [],
      "source": [
        "### to see how future predictions/projections looks like"
      ]
    },
    {
      "cell_type": "code",
      "execution_count": 49,
      "id": "ebca8a55",
      "metadata": {
        "execution": {
          "iopub.execute_input": "2021-09-23T06:58:43.708897Z",
          "iopub.status.busy": "2021-09-23T06:58:43.707878Z",
          "iopub.status.idle": "2021-09-23T06:58:43.710953Z",
          "shell.execute_reply": "2021-09-23T06:58:43.710407Z",
          "shell.execute_reply.started": "2021-09-23T06:52:36.184288Z"
        },
        "papermill": {
          "duration": 0.098784,
          "end_time": "2021-09-23T06:58:43.711097",
          "exception": false,
          "start_time": "2021-09-23T06:58:43.612313",
          "status": "completed"
        },
        "tags": [],
        "id": "ebca8a55"
      },
      "outputs": [],
      "source": [
        "from pandas.tseries.offsets import DateOffset"
      ]
    },
    {
      "cell_type": "code",
      "execution_count": 50,
      "id": "866f7dfd",
      "metadata": {
        "execution": {
          "iopub.execute_input": "2021-09-23T06:58:43.870799Z",
          "iopub.status.busy": "2021-09-23T06:58:43.869600Z",
          "iopub.status.idle": "2021-09-23T06:58:43.875837Z",
          "shell.execute_reply": "2021-09-23T06:58:43.875105Z",
          "shell.execute_reply.started": "2021-09-23T06:52:36.198031Z"
        },
        "papermill": {
          "duration": 0.091929,
          "end_time": "2021-09-23T06:58:43.875996",
          "exception": false,
          "start_time": "2021-09-23T06:58:43.784067",
          "status": "completed"
        },
        "tags": [],
        "colab": {
          "base_uri": "https://localhost:8080/"
        },
        "id": "866f7dfd",
        "outputId": "9e66408c-6e4f-49b3-fdbb-0f309b4a89cd"
      },
      "outputs": [
        {
          "output_type": "execute_result",
          "data": {
            "text/plain": [
              "Timestamp('2015-12-31 00:00:00')"
            ]
          },
          "metadata": {},
          "execution_count": 50
        }
      ],
      "source": [
        "df.index[-1]"
      ]
    },
    {
      "cell_type": "code",
      "execution_count": 51,
      "id": "34d7938f",
      "metadata": {
        "execution": {
          "iopub.execute_input": "2021-09-23T06:58:44.048069Z",
          "iopub.status.busy": "2021-09-23T06:58:44.047107Z",
          "iopub.status.idle": "2021-09-23T06:58:44.050225Z",
          "shell.execute_reply": "2021-09-23T06:58:44.049526Z",
          "shell.execute_reply.started": "2021-09-23T06:52:36.217953Z"
        },
        "papermill": {
          "duration": 0.091291,
          "end_time": "2021-09-23T06:58:44.050368",
          "exception": false,
          "start_time": "2021-09-23T06:58:43.959077",
          "status": "completed"
        },
        "tags": [],
        "id": "34d7938f"
      },
      "outputs": [],
      "source": [
        "future_dates=[df.index[-1]+ DateOffset(months=x)for x in range(0,40)]"
      ]
    },
    {
      "cell_type": "code",
      "execution_count": 52,
      "id": "81b17ae7",
      "metadata": {
        "execution": {
          "iopub.execute_input": "2021-09-23T06:58:44.197004Z",
          "iopub.status.busy": "2021-09-23T06:58:44.196040Z",
          "iopub.status.idle": "2021-09-23T06:58:44.200544Z",
          "shell.execute_reply": "2021-09-23T06:58:44.200015Z",
          "shell.execute_reply.started": "2021-09-23T06:52:36.229231Z"
        },
        "papermill": {
          "duration": 0.079453,
          "end_time": "2021-09-23T06:58:44.200709",
          "exception": false,
          "start_time": "2021-09-23T06:58:44.121256",
          "status": "completed"
        },
        "tags": [],
        "colab": {
          "base_uri": "https://localhost:8080/"
        },
        "id": "81b17ae7",
        "outputId": "13b44736-dc63-4401-cbda-1feabe3aea22"
      },
      "outputs": [
        {
          "output_type": "execute_result",
          "data": {
            "text/plain": [
              "[Timestamp('2015-12-31 00:00:00'),\n",
              " Timestamp('2016-01-31 00:00:00'),\n",
              " Timestamp('2016-02-29 00:00:00'),\n",
              " Timestamp('2016-03-31 00:00:00'),\n",
              " Timestamp('2016-04-30 00:00:00'),\n",
              " Timestamp('2016-05-31 00:00:00'),\n",
              " Timestamp('2016-06-30 00:00:00'),\n",
              " Timestamp('2016-07-31 00:00:00'),\n",
              " Timestamp('2016-08-31 00:00:00'),\n",
              " Timestamp('2016-09-30 00:00:00'),\n",
              " Timestamp('2016-10-31 00:00:00'),\n",
              " Timestamp('2016-11-30 00:00:00'),\n",
              " Timestamp('2016-12-31 00:00:00'),\n",
              " Timestamp('2017-01-31 00:00:00'),\n",
              " Timestamp('2017-02-28 00:00:00'),\n",
              " Timestamp('2017-03-31 00:00:00'),\n",
              " Timestamp('2017-04-30 00:00:00'),\n",
              " Timestamp('2017-05-31 00:00:00'),\n",
              " Timestamp('2017-06-30 00:00:00'),\n",
              " Timestamp('2017-07-31 00:00:00'),\n",
              " Timestamp('2017-08-31 00:00:00'),\n",
              " Timestamp('2017-09-30 00:00:00'),\n",
              " Timestamp('2017-10-31 00:00:00'),\n",
              " Timestamp('2017-11-30 00:00:00'),\n",
              " Timestamp('2017-12-31 00:00:00'),\n",
              " Timestamp('2018-01-31 00:00:00'),\n",
              " Timestamp('2018-02-28 00:00:00'),\n",
              " Timestamp('2018-03-31 00:00:00'),\n",
              " Timestamp('2018-04-30 00:00:00'),\n",
              " Timestamp('2018-05-31 00:00:00'),\n",
              " Timestamp('2018-06-30 00:00:00'),\n",
              " Timestamp('2018-07-31 00:00:00'),\n",
              " Timestamp('2018-08-31 00:00:00'),\n",
              " Timestamp('2018-09-30 00:00:00'),\n",
              " Timestamp('2018-10-31 00:00:00'),\n",
              " Timestamp('2018-11-30 00:00:00'),\n",
              " Timestamp('2018-12-31 00:00:00'),\n",
              " Timestamp('2019-01-31 00:00:00'),\n",
              " Timestamp('2019-02-28 00:00:00'),\n",
              " Timestamp('2019-03-31 00:00:00')]"
            ]
          },
          "metadata": {},
          "execution_count": 52
        }
      ],
      "source": [
        "future_dates"
      ]
    },
    {
      "cell_type": "code",
      "execution_count": 83,
      "id": "956afcc4",
      "metadata": {
        "execution": {
          "iopub.execute_input": "2021-09-23T06:58:44.346008Z",
          "iopub.status.busy": "2021-09-23T06:58:44.345001Z",
          "iopub.status.idle": "2021-09-23T06:58:44.348451Z",
          "shell.execute_reply": "2021-09-23T06:58:44.347900Z",
          "shell.execute_reply.started": "2021-09-23T06:52:36.245988Z"
        },
        "papermill": {
          "duration": 0.07923,
          "end_time": "2021-09-23T06:58:44.348605",
          "exception": false,
          "start_time": "2021-09-23T06:58:44.269375",
          "status": "completed"
        },
        "tags": [],
        "id": "956afcc4"
      },
      "outputs": [],
      "source": [
        "from pandas.tseries.offsets import DateOffset\n",
        "\n",
        "#creating additional dataset for 40 days,\n",
        "future_dates=[df.index[-1]+ DateOffset(months=x)for x in range(0,40)]"
      ]
    },
    {
      "cell_type": "code",
      "execution_count": 54,
      "id": "e778719b",
      "metadata": {
        "execution": {
          "iopub.execute_input": "2021-09-23T06:58:44.494070Z",
          "iopub.status.busy": "2021-09-23T06:58:44.493107Z",
          "iopub.status.idle": "2021-09-23T06:58:44.496472Z",
          "shell.execute_reply": "2021-09-23T06:58:44.495848Z",
          "shell.execute_reply.started": "2021-09-23T06:54:11.352688Z"
        },
        "papermill": {
          "duration": 0.077888,
          "end_time": "2021-09-23T06:58:44.496613",
          "exception": false,
          "start_time": "2021-09-23T06:58:44.418725",
          "status": "completed"
        },
        "tags": [],
        "id": "e778719b"
      },
      "outputs": [],
      "source": [
        "future_datset_df=pd.DataFrame(index=future_dates[1:],columns=df.columns)"
      ]
    },
    {
      "cell_type": "code",
      "execution_count": 55,
      "id": "6e1706bb",
      "metadata": {
        "execution": {
          "iopub.execute_input": "2021-09-23T06:58:44.642219Z",
          "iopub.status.busy": "2021-09-23T06:58:44.641488Z",
          "iopub.status.idle": "2021-09-23T06:58:44.644689Z",
          "shell.execute_reply": "2021-09-23T06:58:44.644167Z",
          "shell.execute_reply.started": "2021-09-23T06:55:36.756214Z"
        },
        "papermill": {
          "duration": 0.080925,
          "end_time": "2021-09-23T06:58:44.644827",
          "exception": false,
          "start_time": "2021-09-23T06:58:44.563902",
          "status": "completed"
        },
        "tags": [],
        "colab": {
          "base_uri": "https://localhost:8080/",
          "height": 206
        },
        "id": "6e1706bb",
        "outputId": "47925e9f-a4cb-4ff0-aa7f-d23209991c3a"
      },
      "outputs": [
        {
          "output_type": "execute_result",
          "data": {
            "text/plain": [
              "           Stock Price Stock Price First Difference Seasonal First Difference  \\\n",
              "2018-11-30         NaN                          NaN                       NaN   \n",
              "2018-12-31         NaN                          NaN                       NaN   \n",
              "2019-01-31         NaN                          NaN                       NaN   \n",
              "2019-02-28         NaN                          NaN                       NaN   \n",
              "2019-03-31         NaN                          NaN                       NaN   \n",
              "\n",
              "           Seasonal Second Difference forecast  \n",
              "2018-11-30                        NaN      NaN  \n",
              "2018-12-31                        NaN      NaN  \n",
              "2019-01-31                        NaN      NaN  \n",
              "2019-02-28                        NaN      NaN  \n",
              "2019-03-31                        NaN      NaN  "
            ],
            "text/html": [
              "\n",
              "  <div id=\"df-43a06d72-5bb1-40ec-b44a-f443544a6d6e\">\n",
              "    <div class=\"colab-df-container\">\n",
              "      <div>\n",
              "<style scoped>\n",
              "    .dataframe tbody tr th:only-of-type {\n",
              "        vertical-align: middle;\n",
              "    }\n",
              "\n",
              "    .dataframe tbody tr th {\n",
              "        vertical-align: top;\n",
              "    }\n",
              "\n",
              "    .dataframe thead th {\n",
              "        text-align: right;\n",
              "    }\n",
              "</style>\n",
              "<table border=\"1\" class=\"dataframe\">\n",
              "  <thead>\n",
              "    <tr style=\"text-align: right;\">\n",
              "      <th></th>\n",
              "      <th>Stock Price</th>\n",
              "      <th>Stock Price First Difference</th>\n",
              "      <th>Seasonal First Difference</th>\n",
              "      <th>Seasonal Second Difference</th>\n",
              "      <th>forecast</th>\n",
              "    </tr>\n",
              "  </thead>\n",
              "  <tbody>\n",
              "    <tr>\n",
              "      <th>2018-11-30</th>\n",
              "      <td>NaN</td>\n",
              "      <td>NaN</td>\n",
              "      <td>NaN</td>\n",
              "      <td>NaN</td>\n",
              "      <td>NaN</td>\n",
              "    </tr>\n",
              "    <tr>\n",
              "      <th>2018-12-31</th>\n",
              "      <td>NaN</td>\n",
              "      <td>NaN</td>\n",
              "      <td>NaN</td>\n",
              "      <td>NaN</td>\n",
              "      <td>NaN</td>\n",
              "    </tr>\n",
              "    <tr>\n",
              "      <th>2019-01-31</th>\n",
              "      <td>NaN</td>\n",
              "      <td>NaN</td>\n",
              "      <td>NaN</td>\n",
              "      <td>NaN</td>\n",
              "      <td>NaN</td>\n",
              "    </tr>\n",
              "    <tr>\n",
              "      <th>2019-02-28</th>\n",
              "      <td>NaN</td>\n",
              "      <td>NaN</td>\n",
              "      <td>NaN</td>\n",
              "      <td>NaN</td>\n",
              "      <td>NaN</td>\n",
              "    </tr>\n",
              "    <tr>\n",
              "      <th>2019-03-31</th>\n",
              "      <td>NaN</td>\n",
              "      <td>NaN</td>\n",
              "      <td>NaN</td>\n",
              "      <td>NaN</td>\n",
              "      <td>NaN</td>\n",
              "    </tr>\n",
              "  </tbody>\n",
              "</table>\n",
              "</div>\n",
              "      <button class=\"colab-df-convert\" onclick=\"convertToInteractive('df-43a06d72-5bb1-40ec-b44a-f443544a6d6e')\"\n",
              "              title=\"Convert this dataframe to an interactive table.\"\n",
              "              style=\"display:none;\">\n",
              "        \n",
              "  <svg xmlns=\"http://www.w3.org/2000/svg\" height=\"24px\"viewBox=\"0 0 24 24\"\n",
              "       width=\"24px\">\n",
              "    <path d=\"M0 0h24v24H0V0z\" fill=\"none\"/>\n",
              "    <path d=\"M18.56 5.44l.94 2.06.94-2.06 2.06-.94-2.06-.94-.94-2.06-.94 2.06-2.06.94zm-11 1L8.5 8.5l.94-2.06 2.06-.94-2.06-.94L8.5 2.5l-.94 2.06-2.06.94zm10 10l.94 2.06.94-2.06 2.06-.94-2.06-.94-.94-2.06-.94 2.06-2.06.94z\"/><path d=\"M17.41 7.96l-1.37-1.37c-.4-.4-.92-.59-1.43-.59-.52 0-1.04.2-1.43.59L10.3 9.45l-7.72 7.72c-.78.78-.78 2.05 0 2.83L4 21.41c.39.39.9.59 1.41.59.51 0 1.02-.2 1.41-.59l7.78-7.78 2.81-2.81c.8-.78.8-2.07 0-2.86zM5.41 20L4 18.59l7.72-7.72 1.47 1.35L5.41 20z\"/>\n",
              "  </svg>\n",
              "      </button>\n",
              "      \n",
              "  <style>\n",
              "    .colab-df-container {\n",
              "      display:flex;\n",
              "      flex-wrap:wrap;\n",
              "      gap: 12px;\n",
              "    }\n",
              "\n",
              "    .colab-df-convert {\n",
              "      background-color: #E8F0FE;\n",
              "      border: none;\n",
              "      border-radius: 50%;\n",
              "      cursor: pointer;\n",
              "      display: none;\n",
              "      fill: #1967D2;\n",
              "      height: 32px;\n",
              "      padding: 0 0 0 0;\n",
              "      width: 32px;\n",
              "    }\n",
              "\n",
              "    .colab-df-convert:hover {\n",
              "      background-color: #E2EBFA;\n",
              "      box-shadow: 0px 1px 2px rgba(60, 64, 67, 0.3), 0px 1px 3px 1px rgba(60, 64, 67, 0.15);\n",
              "      fill: #174EA6;\n",
              "    }\n",
              "\n",
              "    [theme=dark] .colab-df-convert {\n",
              "      background-color: #3B4455;\n",
              "      fill: #D2E3FC;\n",
              "    }\n",
              "\n",
              "    [theme=dark] .colab-df-convert:hover {\n",
              "      background-color: #434B5C;\n",
              "      box-shadow: 0px 1px 3px 1px rgba(0, 0, 0, 0.15);\n",
              "      filter: drop-shadow(0px 1px 2px rgba(0, 0, 0, 0.3));\n",
              "      fill: #FFFFFF;\n",
              "    }\n",
              "  </style>\n",
              "\n",
              "      <script>\n",
              "        const buttonEl =\n",
              "          document.querySelector('#df-43a06d72-5bb1-40ec-b44a-f443544a6d6e button.colab-df-convert');\n",
              "        buttonEl.style.display =\n",
              "          google.colab.kernel.accessAllowed ? 'block' : 'none';\n",
              "\n",
              "        async function convertToInteractive(key) {\n",
              "          const element = document.querySelector('#df-43a06d72-5bb1-40ec-b44a-f443544a6d6e');\n",
              "          const dataTable =\n",
              "            await google.colab.kernel.invokeFunction('convertToInteractive',\n",
              "                                                     [key], {});\n",
              "          if (!dataTable) return;\n",
              "\n",
              "          const docLinkHtml = 'Like what you see? Visit the ' +\n",
              "            '<a target=\"_blank\" href=https://colab.research.google.com/notebooks/data_table.ipynb>data table notebook</a>'\n",
              "            + ' to learn more about interactive tables.';\n",
              "          element.innerHTML = '';\n",
              "          dataTable['output_type'] = 'display_data';\n",
              "          await google.colab.output.renderOutput(dataTable, element);\n",
              "          const docLink = document.createElement('div');\n",
              "          docLink.innerHTML = docLinkHtml;\n",
              "          element.appendChild(docLink);\n",
              "        }\n",
              "      </script>\n",
              "    </div>\n",
              "  </div>\n",
              "  "
            ]
          },
          "metadata": {},
          "execution_count": 55
        }
      ],
      "source": [
        "future_datset_df.tail()"
      ]
    },
    {
      "cell_type": "code",
      "execution_count": 56,
      "id": "732b0d08",
      "metadata": {
        "execution": {
          "iopub.execute_input": "2021-09-23T06:58:44.789526Z",
          "iopub.status.busy": "2021-09-23T06:58:44.788859Z",
          "iopub.status.idle": "2021-09-23T06:58:44.791313Z",
          "shell.execute_reply": "2021-09-23T06:58:44.790772Z",
          "shell.execute_reply.started": "2021-09-23T06:55:50.691477Z"
        },
        "papermill": {
          "duration": 0.077499,
          "end_time": "2021-09-23T06:58:44.791453",
          "exception": false,
          "start_time": "2021-09-23T06:58:44.713954",
          "status": "completed"
        },
        "tags": [],
        "id": "732b0d08"
      },
      "outputs": [],
      "source": [
        "future_df=pd.concat([df,future_datset_df])"
      ]
    },
    {
      "cell_type": "code",
      "execution_count": 57,
      "id": "c47f48a9",
      "metadata": {
        "execution": {
          "iopub.execute_input": "2021-09-23T06:58:44.966916Z",
          "iopub.status.busy": "2021-09-23T06:58:44.965554Z",
          "iopub.status.idle": "2021-09-23T06:58:44.968939Z",
          "shell.execute_reply": "2021-09-23T06:58:44.969541Z",
          "shell.execute_reply.started": "2021-09-23T06:54:05.425349Z"
        },
        "papermill": {
          "duration": 0.096212,
          "end_time": "2021-09-23T06:58:44.969754",
          "exception": false,
          "start_time": "2021-09-23T06:58:44.873542",
          "status": "completed"
        },
        "tags": [],
        "id": "c47f48a9"
      },
      "outputs": [],
      "source": [
        "#then we can see future predictions"
      ]
    },
    {
      "cell_type": "code",
      "execution_count": 58,
      "id": "67b37ce6",
      "metadata": {
        "execution": {
          "iopub.execute_input": "2021-09-23T06:58:45.116742Z",
          "iopub.status.busy": "2021-09-23T06:58:45.116061Z",
          "iopub.status.idle": "2021-09-23T06:58:45.560015Z",
          "shell.execute_reply": "2021-09-23T06:58:45.560520Z",
          "shell.execute_reply.started": "2021-09-23T06:55:56.160947Z"
        },
        "papermill": {
          "duration": 0.519621,
          "end_time": "2021-09-23T06:58:45.560716",
          "exception": false,
          "start_time": "2021-09-23T06:58:45.041095",
          "status": "completed"
        },
        "tags": [],
        "colab": {
          "base_uri": "https://localhost:8080/",
          "height": 703
        },
        "id": "67b37ce6",
        "outputId": "ca230b7c-d34d-4fd7-e316-01a4630bc9a1"
      },
      "outputs": [
        {
          "output_type": "stream",
          "name": "stderr",
          "text": [
            "/usr/local/lib/python3.10/dist-packages/statsmodels/tsa/base/tsa_model.py:834: ValueWarning: No supported index is available. Prediction results will be given with an integer index beginning at `start`.\n",
            "  return get_prediction_index(\n"
          ]
        },
        {
          "output_type": "execute_result",
          "data": {
            "text/plain": [
              "<Axes: >"
            ]
          },
          "metadata": {},
          "execution_count": 58
        },
        {
          "output_type": "display_data",
          "data": {
            "text/plain": [
              "<Figure size 1200x800 with 1 Axes>"
            ],
            "image/png": "[encoded data removed]"
          },
          "metadata": {}
        }
      ],
      "source": [
        "future_df['forecast'] = results.predict(start = 247, end = 270, dynamic= True)  \n",
        "future_df[['Stock Price', 'forecast']].plot(figsize=(12, 8)) "
      ]
    },
    {
      "cell_type": "code",
      "execution_count": 59,
      "id": "d975c36d",
      "metadata": {
        "papermill": {
          "duration": 0.069722,
          "end_time": "2021-09-23T06:58:45.700777",
          "exception": false,
          "start_time": "2021-09-23T06:58:45.631055",
          "status": "completed"
        },
        "tags": [],
        "id": "d975c36d",
        "colab": {
          "base_uri": "https://localhost:8080/"
        },
        "outputId": "b134ead9-5af7-449d-ed50-b7edaaafe74e"
      },
      "outputs": [
        {
          "output_type": "stream",
          "name": "stdout",
          "text": [
            "Looking in indexes: https://pypi.org/simple, https://us-python.pkg.dev/colab-wheels/public/simple/\n",
            "Collecting pmdarima\n",
            "  Downloading pmdarima-2.0.3-cp310-cp310-manylinux_2_17_x86_64.manylinux2014_x86_64.manylinux_2_28_x86_64.whl (1.8 MB)\n",
            "\u001b[2K     \u001b[90m━━━━━━━━━━━━━━━━━━━━━━━━━━━━━━━━━━━━━━━━\u001b[0m \u001b[32m1.8/1.8 MB\u001b[0m \u001b[31m19.3 MB/s\u001b[0m eta \u001b[36m0:00:00\u001b[0m\n",
            "\u001b[?25hRequirement already satisfied: joblib>=0.11 in /usr/local/lib/python3.10/dist-packages (from pmdarima) (1.2.0)\n",
            "Requirement already satisfied: Cython!=0.29.18,!=0.29.31,>=0.29 in /usr/local/lib/python3.10/dist-packages (from pmdarima) (0.29.34)\n",
            "Requirement already satisfied: numpy>=1.21.2 in /usr/local/lib/python3.10/dist-packages (from pmdarima) (1.22.4)\n",
            "Requirement already satisfied: pandas>=0.19 in /usr/local/lib/python3.10/dist-packages (from pmdarima) (1.5.3)\n",
            "Requirement already satisfied: scikit-learn>=0.22 in /usr/local/lib/python3.10/dist-packages (from pmdarima) (1.2.2)\n",
            "Requirement already satisfied: scipy>=1.3.2 in /usr/local/lib/python3.10/dist-packages (from pmdarima) (1.10.1)\n",
            "Requirement already satisfied: statsmodels>=0.13.2 in /usr/local/lib/python3.10/dist-packages (from pmdarima) (0.13.5)\n",
            "Requirement already satisfied: urllib3 in /usr/local/lib/python3.10/dist-packages (from pmdarima) (1.26.15)\n",
            "Requirement already satisfied: setuptools!=50.0.0,>=38.6.0 in /usr/local/lib/python3.10/dist-packages (from pmdarima) (67.7.2)\n",
            "Requirement already satisfied: python-dateutil>=2.8.1 in /usr/local/lib/python3.10/dist-packages (from pandas>=0.19->pmdarima) (2.8.2)\n",
            "Requirement already satisfied: pytz>=2020.1 in /usr/local/lib/python3.10/dist-packages (from pandas>=0.19->pmdarima) (2022.7.1)\n",
            "Requirement already satisfied: threadpoolctl>=2.0.0 in /usr/local/lib/python3.10/dist-packages (from scikit-learn>=0.22->pmdarima) (3.1.0)\n",
            "Requirement already satisfied: patsy>=0.5.2 in /usr/local/lib/python3.10/dist-packages (from statsmodels>=0.13.2->pmdarima) (0.5.3)\n",
            "Requirement already satisfied: packaging>=21.3 in /usr/local/lib/python3.10/dist-packages (from statsmodels>=0.13.2->pmdarima) (23.1)\n",
            "Requirement already satisfied: six in /usr/local/lib/python3.10/dist-packages (from patsy>=0.5.2->statsmodels>=0.13.2->pmdarima) (1.16.0)\n",
            "Installing collected packages: pmdarima\n",
            "Successfully installed pmdarima-2.0.3\n"
          ]
        }
      ],
      "source": [
        "!pip install pmdarima"
      ]
    },
    {
      "cell_type": "code",
      "source": [
        "from pmdarima import auto_arima \n",
        "import warnings\n",
        "warnings.filterwarnings('ignore')"
      ],
      "metadata": {
        "id": "e6ebE4tDEhPa"
      },
      "id": "e6ebE4tDEhPa",
      "execution_count": 60,
      "outputs": []
    },
    {
      "cell_type": "code",
      "source": [
        "stepwise_fit = auto_arima(df['Stock Price'], start_p=0, start_q=0, max_p=10, max_q=10, seasonal=True, m=20, trace=True)"
      ],
      "metadata": {
        "colab": {
          "base_uri": "https://localhost:8080/"
        },
        "id": "dPmFhek8EsYS",
        "outputId": "ecd16d5e-dd14-4732-efbc-2952f863b9de"
      },
      "id": "dPmFhek8EsYS",
      "execution_count": 61,
      "outputs": [
        {
          "output_type": "stream",
          "name": "stdout",
          "text": [
            "Performing stepwise search to minimize aic\n",
            " ARIMA(0,1,0)(1,0,1)[20] intercept   : AIC=2788.006, Time=1.24 sec\n",
            " ARIMA(0,1,0)(0,0,0)[20] intercept   : AIC=2784.285, Time=0.06 sec\n",
            " ARIMA(1,1,0)(1,0,0)[20] intercept   : AIC=2787.841, Time=0.55 sec\n",
            " ARIMA(0,1,1)(0,0,1)[20] intercept   : AIC=2787.840, Time=1.22 sec\n",
            " ARIMA(0,1,0)(0,0,0)[20]             : AIC=2782.960, Time=0.06 sec\n",
            " ARIMA(0,1,0)(1,0,0)[20] intercept   : AIC=2786.005, Time=0.59 sec\n",
            " ARIMA(0,1,0)(0,0,1)[20] intercept   : AIC=2786.007, Time=0.68 sec\n",
            " ARIMA(1,1,0)(0,0,0)[20] intercept   : AIC=2786.099, Time=0.04 sec\n",
            " ARIMA(0,1,1)(0,0,0)[20] intercept   : AIC=2786.094, Time=0.11 sec\n",
            " ARIMA(1,1,1)(0,0,0)[20] intercept   : AIC=2788.092, Time=0.15 sec\n",
            "\n",
            "Best model:  ARIMA(0,1,0)(0,0,0)[20]          \n",
            "Total fit time: 4.749 seconds\n"
          ]
        }
      ]
    },
    {
      "cell_type": "code",
      "source": [
        "model=SARIMAX(df['Stock Price'],order=(0,0, 1),seasonal_order=(1,1,0,20))\n",
        "results=model.fit()"
      ],
      "metadata": {
        "id": "y0dANRnwE6tr"
      },
      "id": "y0dANRnwE6tr",
      "execution_count": 62,
      "outputs": []
    },
    {
      "cell_type": "code",
      "source": [
        "#predicting from index 225 to 246\n",
        "df['forecast']=results.predict(start=225,end=246,dynamic=True)\n"
      ],
      "metadata": {
        "id": "Xr_DbiufFO7S"
      },
      "id": "Xr_DbiufFO7S",
      "execution_count": 84,
      "outputs": []
    },
    {
      "cell_type": "code",
      "source": [
        "#blue line is original data anf orange is a forecasted data\n",
        "df[['Stock Price','forecast']].plot(figsize=(12,8))"
      ],
      "metadata": {
        "colab": {
          "base_uri": "https://localhost:8080/",
          "height": 668
        },
        "id": "RJuVNY29FWec",
        "outputId": "e2869d38-6818-4350-bc5e-493087281310"
      },
      "id": "RJuVNY29FWec",
      "execution_count": 64,
      "outputs": [
        {
          "output_type": "execute_result",
          "data": {
            "text/plain": [
              "<Axes: xlabel='Date'>"
            ]
          },
          "metadata": {},
          "execution_count": 64
        },
        {
          "output_type": "display_data",
          "data": {
            "text/plain": [
              "<Figure size 1200x800 with 1 Axes>"
            ],
            "image/png": "[encoded data removed]"
          },
          "metadata": {}
        }
      ]
    },
    {
      "cell_type": "code",
      "source": [
        "df.tail(13).head(12)"
      ],
      "metadata": {
        "colab": {
          "base_uri": "https://localhost:8080/",
          "height": 457
        },
        "id": "y52Fhetw2Q1s",
        "outputId": "59f9ac68-ce22-4ffa-c064-062b280aaee2"
      },
      "id": "y52Fhetw2Q1s",
      "execution_count": 65,
      "outputs": [
        {
          "output_type": "execute_result",
          "data": {
            "text/plain": [
              "            Stock Price  Stock Price First Difference  \\\n",
              "Date                                                    \n",
              "2015-12-14      1066.30                         13.42   \n",
              "2015-12-15      1071.44                          5.14   \n",
              "2015-12-16      1092.86                         21.42   \n",
              "2015-12-17      1099.83                          6.97   \n",
              "2015-12-18      1086.91                        -12.92   \n",
              "2015-12-21      1095.68                          8.77   \n",
              "2015-12-22      1085.81                         -9.87   \n",
              "2015-12-23      1097.35                         11.54   \n",
              "2015-12-24      1095.84                         -1.51   \n",
              "2015-12-28      1105.51                          9.67   \n",
              "2015-12-29      1104.14                         -1.37   \n",
              "2015-12-30      1094.45                         -9.69   \n",
              "\n",
              "            Seasonal First Difference  Seasonal Second Difference     forecast  \n",
              "Date                                                                            \n",
              "2015-12-14                     -31.15                    -1169.00  1098.228914  \n",
              "2015-12-15                      -9.79                    -1137.47  1082.964381  \n",
              "2015-12-16                      31.33                    -1082.89  1065.374948  \n",
              "2015-12-17                      72.07                    -1037.35  1037.160045  \n",
              "2015-12-18                      48.35                    -1049.10  1048.172371  \n",
              "2015-12-21                      41.85                    -1039.38  1063.526609  \n",
              "2015-12-22                      32.05                    -1029.48  1063.867414  \n",
              "2015-12-23                      53.95                     -973.81  1055.802613  \n",
              "2015-12-24                      44.05                     -994.51  1063.092902  \n",
              "2015-12-28                      44.52                    -1009.31  1070.931246  \n",
              "2015-12-29                      20.70                    -1033.06  1107.731322  \n",
              "2015-12-30                      12.03                    -1031.37  1136.674696  "
            ],
            "text/html": [
              "\n",
              "  <div id=\"df-ef6bbbaf-d6ee-44c8-8786-95fb8e6eb4d1\">\n",
              "    <div class=\"colab-df-container\">\n",
              "      <div>\n",
              "<style scoped>\n",
              "    .dataframe tbody tr th:only-of-type {\n",
              "        vertical-align: middle;\n",
              "    }\n",
              "\n",
              "    .dataframe tbody tr th {\n",
              "        vertical-align: top;\n",
              "    }\n",
              "\n",
              "    .dataframe thead th {\n",
              "        text-align: right;\n",
              "    }\n",
              "</style>\n",
              "<table border=\"1\" class=\"dataframe\">\n",
              "  <thead>\n",
              "    <tr style=\"text-align: right;\">\n",
              "      <th></th>\n",
              "      <th>Stock Price</th>\n",
              "      <th>Stock Price First Difference</th>\n",
              "      <th>Seasonal First Difference</th>\n",
              "      <th>Seasonal Second Difference</th>\n",
              "      <th>forecast</th>\n",
              "    </tr>\n",
              "    <tr>\n",
              "      <th>Date</th>\n",
              "      <th></th>\n",
              "      <th></th>\n",
              "      <th></th>\n",
              "      <th></th>\n",
              "      <th></th>\n",
              "    </tr>\n",
              "  </thead>\n",
              "  <tbody>\n",
              "    <tr>\n",
              "      <th>2015-12-14</th>\n",
              "      <td>1066.30</td>\n",
              "      <td>13.42</td>\n",
              "      <td>-31.15</td>\n",
              "      <td>-1169.00</td>\n",
              "      <td>1098.228914</td>\n",
              "    </tr>\n",
              "    <tr>\n",
              "      <th>2015-12-15</th>\n",
              "      <td>1071.44</td>\n",
              "      <td>5.14</td>\n",
              "      <td>-9.79</td>\n",
              "      <td>-1137.47</td>\n",
              "      <td>1082.964381</td>\n",
              "    </tr>\n",
              "    <tr>\n",
              "      <th>2015-12-16</th>\n",
              "      <td>1092.86</td>\n",
              "      <td>21.42</td>\n",
              "      <td>31.33</td>\n",
              "      <td>-1082.89</td>\n",
              "      <td>1065.374948</td>\n",
              "    </tr>\n",
              "    <tr>\n",
              "      <th>2015-12-17</th>\n",
              "      <td>1099.83</td>\n",
              "      <td>6.97</td>\n",
              "      <td>72.07</td>\n",
              "      <td>-1037.35</td>\n",
              "      <td>1037.160045</td>\n",
              "    </tr>\n",
              "    <tr>\n",
              "      <th>2015-12-18</th>\n",
              "      <td>1086.91</td>\n",
              "      <td>-12.92</td>\n",
              "      <td>48.35</td>\n",
              "      <td>-1049.10</td>\n",
              "      <td>1048.172371</td>\n",
              "    </tr>\n",
              "    <tr>\n",
              "      <th>2015-12-21</th>\n",
              "      <td>1095.68</td>\n",
              "      <td>8.77</td>\n",
              "      <td>41.85</td>\n",
              "      <td>-1039.38</td>\n",
              "      <td>1063.526609</td>\n",
              "    </tr>\n",
              "    <tr>\n",
              "      <th>2015-12-22</th>\n",
              "      <td>1085.81</td>\n",
              "      <td>-9.87</td>\n",
              "      <td>32.05</td>\n",
              "      <td>-1029.48</td>\n",
              "      <td>1063.867414</td>\n",
              "    </tr>\n",
              "    <tr>\n",
              "      <th>2015-12-23</th>\n",
              "      <td>1097.35</td>\n",
              "      <td>11.54</td>\n",
              "      <td>53.95</td>\n",
              "      <td>-973.81</td>\n",
              "      <td>1055.802613</td>\n",
              "    </tr>\n",
              "    <tr>\n",
              "      <th>2015-12-24</th>\n",
              "      <td>1095.84</td>\n",
              "      <td>-1.51</td>\n",
              "      <td>44.05</td>\n",
              "      <td>-994.51</td>\n",
              "      <td>1063.092902</td>\n",
              "    </tr>\n",
              "    <tr>\n",
              "      <th>2015-12-28</th>\n",
              "      <td>1105.51</td>\n",
              "      <td>9.67</td>\n",
              "      <td>44.52</td>\n",
              "      <td>-1009.31</td>\n",
              "      <td>1070.931246</td>\n",
              "    </tr>\n",
              "    <tr>\n",
              "      <th>2015-12-29</th>\n",
              "      <td>1104.14</td>\n",
              "      <td>-1.37</td>\n",
              "      <td>20.70</td>\n",
              "      <td>-1033.06</td>\n",
              "      <td>1107.731322</td>\n",
              "    </tr>\n",
              "    <tr>\n",
              "      <th>2015-12-30</th>\n",
              "      <td>1094.45</td>\n",
              "      <td>-9.69</td>\n",
              "      <td>12.03</td>\n",
              "      <td>-1031.37</td>\n",
              "      <td>1136.674696</td>\n",
              "    </tr>\n",
              "  </tbody>\n",
              "</table>\n",
              "</div>\n",
              "      <button class=\"colab-df-convert\" onclick=\"convertToInteractive('df-ef6bbbaf-d6ee-44c8-8786-95fb8e6eb4d1')\"\n",
              "              title=\"Convert this dataframe to an interactive table.\"\n",
              "              style=\"display:none;\">\n",
              "        \n",
              "  <svg xmlns=\"http://www.w3.org/2000/svg\" height=\"24px\"viewBox=\"0 0 24 24\"\n",
              "       width=\"24px\">\n",
              "    <path d=\"M0 0h24v24H0V0z\" fill=\"none\"/>\n",
              "    <path d=\"M18.56 5.44l.94 2.06.94-2.06 2.06-.94-2.06-.94-.94-2.06-.94 2.06-2.06.94zm-11 1L8.5 8.5l.94-2.06 2.06-.94-2.06-.94L8.5 2.5l-.94 2.06-2.06.94zm10 10l.94 2.06.94-2.06 2.06-.94-2.06-.94-.94-2.06-.94 2.06-2.06.94z\"/><path d=\"M17.41 7.96l-1.37-1.37c-.4-.4-.92-.59-1.43-.59-.52 0-1.04.2-1.43.59L10.3 9.45l-7.72 7.72c-.78.78-.78 2.05 0 2.83L4 21.41c.39.39.9.59 1.41.59.51 0 1.02-.2 1.41-.59l7.78-7.78 2.81-2.81c.8-.78.8-2.07 0-2.86zM5.41 20L4 18.59l7.72-7.72 1.47 1.35L5.41 20z\"/>\n",
              "  </svg>\n",
              "      </button>\n",
              "      \n",
              "  <style>\n",
              "    .colab-df-container {\n",
              "      display:flex;\n",
              "      flex-wrap:wrap;\n",
              "      gap: 12px;\n",
              "    }\n",
              "\n",
              "    .colab-df-convert {\n",
              "      background-color: #E8F0FE;\n",
              "      border: none;\n",
              "      border-radius: 50%;\n",
              "      cursor: pointer;\n",
              "      display: none;\n",
              "      fill: #1967D2;\n",
              "      height: 32px;\n",
              "      padding: 0 0 0 0;\n",
              "      width: 32px;\n",
              "    }\n",
              "\n",
              "    .colab-df-convert:hover {\n",
              "      background-color: #E2EBFA;\n",
              "      box-shadow: 0px 1px 2px rgba(60, 64, 67, 0.3), 0px 1px 3px 1px rgba(60, 64, 67, 0.15);\n",
              "      fill: #174EA6;\n",
              "    }\n",
              "\n",
              "    [theme=dark] .colab-df-convert {\n",
              "      background-color: #3B4455;\n",
              "      fill: #D2E3FC;\n",
              "    }\n",
              "\n",
              "    [theme=dark] .colab-df-convert:hover {\n",
              "      background-color: #434B5C;\n",
              "      box-shadow: 0px 1px 3px 1px rgba(0, 0, 0, 0.15);\n",
              "      filter: drop-shadow(0px 1px 2px rgba(0, 0, 0, 0.3));\n",
              "      fill: #FFFFFF;\n",
              "    }\n",
              "  </style>\n",
              "\n",
              "      <script>\n",
              "        const buttonEl =\n",
              "          document.querySelector('#df-ef6bbbaf-d6ee-44c8-8786-95fb8e6eb4d1 button.colab-df-convert');\n",
              "        buttonEl.style.display =\n",
              "          google.colab.kernel.accessAllowed ? 'block' : 'none';\n",
              "\n",
              "        async function convertToInteractive(key) {\n",
              "          const element = document.querySelector('#df-ef6bbbaf-d6ee-44c8-8786-95fb8e6eb4d1');\n",
              "          const dataTable =\n",
              "            await google.colab.kernel.invokeFunction('convertToInteractive',\n",
              "                                                     [key], {});\n",
              "          if (!dataTable) return;\n",
              "\n",
              "          const docLinkHtml = 'Like what you see? Visit the ' +\n",
              "            '<a target=\"_blank\" href=https://colab.research.google.com/notebooks/data_table.ipynb>data table notebook</a>'\n",
              "            + ' to learn more about interactive tables.';\n",
              "          element.innerHTML = '';\n",
              "          dataTable['output_type'] = 'display_data';\n",
              "          await google.colab.output.renderOutput(dataTable, element);\n",
              "          const docLink = document.createElement('div');\n",
              "          docLink.innerHTML = docLinkHtml;\n",
              "          element.appendChild(docLink);\n",
              "        }\n",
              "      </script>\n",
              "    </div>\n",
              "  </div>\n",
              "  "
            ]
          },
          "metadata": {},
          "execution_count": 65
        }
      ]
    },
    {
      "cell_type": "code",
      "source": [
        "df.tail(13).head(12)['forecast'] = df.tail(13).head(12)['forecast'].fillna(df.tail(13).head(12)['forecast'].mean())"
      ],
      "metadata": {
        "id": "_ELtHUPnLr4u"
      },
      "id": "_ELtHUPnLr4u",
      "execution_count": 66,
      "outputs": []
    },
    {
      "cell_type": "code",
      "source": [
        "mean_absolute_error(df.tail(13).head(12)['Stock Price'], df.tail(13).head(12)['forecast'])"
      ],
      "metadata": {
        "colab": {
          "base_uri": "https://localhost:8080/"
        },
        "id": "_tnU24Yk2cf6",
        "outputId": "344c8cc1-8bfa-49c0-c02e-bc214d143ebb"
      },
      "id": "_tnU24Yk2cf6",
      "execution_count": 67,
      "outputs": [
        {
          "output_type": "execute_result",
          "data": {
            "text/plain": [
              "31.760930338803387"
            ]
          },
          "metadata": {},
          "execution_count": 67
        }
      ]
    },
    {
      "cell_type": "code",
      "source": [
        "mean_absolute_percentage_error(df.tail(13).head(12)['Stock Price'], df.tail(13).head(12)['forecast'])"
      ],
      "metadata": {
        "colab": {
          "base_uri": "https://localhost:8080/"
        },
        "id": "FgbhqlWO2mK7",
        "outputId": "e58e3133-ea31-4f2b-9e48-02d1a4d9ad6d"
      },
      "id": "FgbhqlWO2mK7",
      "execution_count": 68,
      "outputs": [
        {
          "output_type": "execute_result",
          "data": {
            "text/plain": [
              "0.02907346450755161"
            ]
          },
          "metadata": {},
          "execution_count": 68
        }
      ]
    },
    {
      "cell_type": "code",
      "source": [
        "mean_squared_error(df.tail(13).head(12)['Stock Price'], df.tail(13).head(12)['forecast'])**0.5"
      ],
      "metadata": {
        "id": "86zEPqpv2ql6",
        "colab": {
          "base_uri": "https://localhost:8080/"
        },
        "outputId": "ef80a639-83c8-4114-a4ea-8726c8790083"
      },
      "id": "86zEPqpv2ql6",
      "execution_count": 69,
      "outputs": [
        {
          "output_type": "execute_result",
          "data": {
            "text/plain": [
              "34.929942107965765"
            ]
          },
          "metadata": {},
          "execution_count": 69
        }
      ]
    },
    {
      "cell_type": "code",
      "source": [],
      "metadata": {
        "id": "mdwjGZG18u3p"
      },
      "id": "mdwjGZG18u3p",
      "execution_count": 69,
      "outputs": []
    },
    {
      "cell_type": "markdown",
      "source": [
        "## Prophet Model"
      ],
      "metadata": {
        "id": "Um8J4HF9APF4"
      },
      "id": "Um8J4HF9APF4"
    },
    {
      "cell_type": "code",
      "source": [
        "from prophet import Prophet"
      ],
      "metadata": {
        "id": "hIqfFXCtAQLE"
      },
      "id": "hIqfFXCtAQLE",
      "execution_count": 70,
      "outputs": []
    },
    {
      "cell_type": "code",
      "source": [
        "data = df.reset_index().rename(columns={'Date':'ds',\n",
        "                                 'Stock Price':'y'})[['ds','y']]"
      ],
      "metadata": {
        "id": "TUCWe4g3AR77"
      },
      "id": "TUCWe4g3AR77",
      "execution_count": 71,
      "outputs": []
    },
    {
      "cell_type": "code",
      "source": [
        "m = Prophet()\n",
        "m.fit(data[:-20])"
      ],
      "metadata": {
        "colab": {
          "base_uri": "https://localhost:8080/"
        },
        "id": "DkdJfe_aAXH_",
        "outputId": "fcc2da7f-e53e-4353-b543-ffacd4b2fb1c"
      },
      "id": "DkdJfe_aAXH_",
      "execution_count": 72,
      "outputs": [
        {
          "output_type": "stream",
          "name": "stderr",
          "text": [
            "INFO:prophet:Disabling yearly seasonality. Run prophet with yearly_seasonality=True to override this.\n",
            "INFO:prophet:Disabling daily seasonality. Run prophet with daily_seasonality=True to override this.\n",
            "DEBUG:cmdstanpy:input tempfile: /tmp/tmp10wfuwip/b457q0pg.json\n",
            "DEBUG:cmdstanpy:input tempfile: /tmp/tmp10wfuwip/afvlu6d3.json\n",
            "DEBUG:cmdstanpy:idx 0\n",
            "DEBUG:cmdstanpy:running CmdStan, num_threads: None\n",
            "DEBUG:cmdstanpy:CmdStan args: ['/usr/local/lib/python3.10/dist-packages/prophet/stan_model/prophet_model.bin', 'random', 'seed=34693', 'data', 'file=/tmp/tmp10wfuwip/b457q0pg.json', 'init=/tmp/tmp10wfuwip/afvlu6d3.json', 'output', 'file=/tmp/tmp10wfuwip/prophet_modelbde9kelk/prophet_model-20230502074934.csv', 'method=optimize', 'algorithm=lbfgs', 'iter=10000']\n",
            "07:49:34 - cmdstanpy - INFO - Chain [1] start processing\n",
            "INFO:cmdstanpy:Chain [1] start processing\n",
            "07:49:34 - cmdstanpy - INFO - Chain [1] done processing\n",
            "INFO:cmdstanpy:Chain [1] done processing\n"
          ]
        },
        {
          "output_type": "execute_result",
          "data": {
            "text/plain": [
              "<prophet.forecaster.Prophet at 0x7eff888c0790>"
            ]
          },
          "metadata": {},
          "execution_count": 72
        }
      ]
    },
    {
      "cell_type": "code",
      "source": [
        "data[:-20]"
      ],
      "metadata": {
        "colab": {
          "base_uri": "https://localhost:8080/",
          "height": 423
        },
        "id": "_PN1J3j1AZQa",
        "outputId": "60cbda7e-9129-4feb-d2a0-8edcc26fa318"
      },
      "id": "_PN1J3j1AZQa",
      "execution_count": 73,
      "outputs": [
        {
          "output_type": "execute_result",
          "data": {
            "text/plain": [
              "            ds        y\n",
              "0   2015-01-01  1971.34\n",
              "1   2015-02-01  2003.25\n",
              "2   2015-05-01  2004.59\n",
              "3   2015-06-01  1954.82\n",
              "4   2015-07-01  1962.59\n",
              "..         ...      ...\n",
              "223 2015-11-26  1051.79\n",
              "224 2015-11-27  1060.99\n",
              "225 2015-11-30  1083.44\n",
              "226 2015-01-12  1082.42\n",
              "227 2015-02-12  1064.12\n",
              "\n",
              "[228 rows x 2 columns]"
            ],
            "text/html": [
              "\n",
              "  <div id=\"df-2eed0806-7a01-495e-9619-7d2135511813\">\n",
              "    <div class=\"colab-df-container\">\n",
              "      <div>\n",
              "<style scoped>\n",
              "    .dataframe tbody tr th:only-of-type {\n",
              "        vertical-align: middle;\n",
              "    }\n",
              "\n",
              "    .dataframe tbody tr th {\n",
              "        vertical-align: top;\n",
              "    }\n",
              "\n",
              "    .dataframe thead th {\n",
              "        text-align: right;\n",
              "    }\n",
              "</style>\n",
              "<table border=\"1\" class=\"dataframe\">\n",
              "  <thead>\n",
              "    <tr style=\"text-align: right;\">\n",
              "      <th></th>\n",
              "      <th>ds</th>\n",
              "      <th>y</th>\n",
              "    </tr>\n",
              "  </thead>\n",
              "  <tbody>\n",
              "    <tr>\n",
              "      <th>0</th>\n",
              "      <td>2015-01-01</td>\n",
              "      <td>1971.34</td>\n",
              "    </tr>\n",
              "    <tr>\n",
              "      <th>1</th>\n",
              "      <td>2015-02-01</td>\n",
              "      <td>2003.25</td>\n",
              "    </tr>\n",
              "    <tr>\n",
              "      <th>2</th>\n",
              "      <td>2015-05-01</td>\n",
              "      <td>2004.59</td>\n",
              "    </tr>\n",
              "    <tr>\n",
              "      <th>3</th>\n",
              "      <td>2015-06-01</td>\n",
              "      <td>1954.82</td>\n",
              "    </tr>\n",
              "    <tr>\n",
              "      <th>4</th>\n",
              "      <td>2015-07-01</td>\n",
              "      <td>1962.59</td>\n",
              "    </tr>\n",
              "    <tr>\n",
              "      <th>...</th>\n",
              "      <td>...</td>\n",
              "      <td>...</td>\n",
              "    </tr>\n",
              "    <tr>\n",
              "      <th>223</th>\n",
              "      <td>2015-11-26</td>\n",
              "      <td>1051.79</td>\n",
              "    </tr>\n",
              "    <tr>\n",
              "      <th>224</th>\n",
              "      <td>2015-11-27</td>\n",
              "      <td>1060.99</td>\n",
              "    </tr>\n",
              "    <tr>\n",
              "      <th>225</th>\n",
              "      <td>2015-11-30</td>\n",
              "      <td>1083.44</td>\n",
              "    </tr>\n",
              "    <tr>\n",
              "      <th>226</th>\n",
              "      <td>2015-01-12</td>\n",
              "      <td>1082.42</td>\n",
              "    </tr>\n",
              "    <tr>\n",
              "      <th>227</th>\n",
              "      <td>2015-02-12</td>\n",
              "      <td>1064.12</td>\n",
              "    </tr>\n",
              "  </tbody>\n",
              "</table>\n",
              "<p>228 rows × 2 columns</p>\n",
              "</div>\n",
              "      <button class=\"colab-df-convert\" onclick=\"convertToInteractive('df-2eed0806-7a01-495e-9619-7d2135511813')\"\n",
              "              title=\"Convert this dataframe to an interactive table.\"\n",
              "              style=\"display:none;\">\n",
              "        \n",
              "  <svg xmlns=\"http://www.w3.org/2000/svg\" height=\"24px\"viewBox=\"0 0 24 24\"\n",
              "       width=\"24px\">\n",
              "    <path d=\"M0 0h24v24H0V0z\" fill=\"none\"/>\n",
              "    <path d=\"M18.56 5.44l.94 2.06.94-2.06 2.06-.94-2.06-.94-.94-2.06-.94 2.06-2.06.94zm-11 1L8.5 8.5l.94-2.06 2.06-.94-2.06-.94L8.5 2.5l-.94 2.06-2.06.94zm10 10l.94 2.06.94-2.06 2.06-.94-2.06-.94-.94-2.06-.94 2.06-2.06.94z\"/><path d=\"M17.41 7.96l-1.37-1.37c-.4-.4-.92-.59-1.43-.59-.52 0-1.04.2-1.43.59L10.3 9.45l-7.72 7.72c-.78.78-.78 2.05 0 2.83L4 21.41c.39.39.9.59 1.41.59.51 0 1.02-.2 1.41-.59l7.78-7.78 2.81-2.81c.8-.78.8-2.07 0-2.86zM5.41 20L4 18.59l7.72-7.72 1.47 1.35L5.41 20z\"/>\n",
              "  </svg>\n",
              "      </button>\n",
              "      \n",
              "  <style>\n",
              "    .colab-df-container {\n",
              "      display:flex;\n",
              "      flex-wrap:wrap;\n",
              "      gap: 12px;\n",
              "    }\n",
              "\n",
              "    .colab-df-convert {\n",
              "      background-color: #E8F0FE;\n",
              "      border: none;\n",
              "      border-radius: 50%;\n",
              "      cursor: pointer;\n",
              "      display: none;\n",
              "      fill: #1967D2;\n",
              "      height: 32px;\n",
              "      padding: 0 0 0 0;\n",
              "      width: 32px;\n",
              "    }\n",
              "\n",
              "    .colab-df-convert:hover {\n",
              "      background-color: #E2EBFA;\n",
              "      box-shadow: 0px 1px 2px rgba(60, 64, 67, 0.3), 0px 1px 3px 1px rgba(60, 64, 67, 0.15);\n",
              "      fill: #174EA6;\n",
              "    }\n",
              "\n",
              "    [theme=dark] .colab-df-convert {\n",
              "      background-color: #3B4455;\n",
              "      fill: #D2E3FC;\n",
              "    }\n",
              "\n",
              "    [theme=dark] .colab-df-convert:hover {\n",
              "      background-color: #434B5C;\n",
              "      box-shadow: 0px 1px 3px 1px rgba(0, 0, 0, 0.15);\n",
              "      filter: drop-shadow(0px 1px 2px rgba(0, 0, 0, 0.3));\n",
              "      fill: #FFFFFF;\n",
              "    }\n",
              "  </style>\n",
              "\n",
              "      <script>\n",
              "        const buttonEl =\n",
              "          document.querySelector('#df-2eed0806-7a01-495e-9619-7d2135511813 button.colab-df-convert');\n",
              "        buttonEl.style.display =\n",
              "          google.colab.kernel.accessAllowed ? 'block' : 'none';\n",
              "\n",
              "        async function convertToInteractive(key) {\n",
              "          const element = document.querySelector('#df-2eed0806-7a01-495e-9619-7d2135511813');\n",
              "          const dataTable =\n",
              "            await google.colab.kernel.invokeFunction('convertToInteractive',\n",
              "                                                     [key], {});\n",
              "          if (!dataTable) return;\n",
              "\n",
              "          const docLinkHtml = 'Like what you see? Visit the ' +\n",
              "            '<a target=\"_blank\" href=https://colab.research.google.com/notebooks/data_table.ipynb>data table notebook</a>'\n",
              "            + ' to learn more about interactive tables.';\n",
              "          element.innerHTML = '';\n",
              "          dataTable['output_type'] = 'display_data';\n",
              "          await google.colab.output.renderOutput(dataTable, element);\n",
              "          const docLink = document.createElement('div');\n",
              "          docLink.innerHTML = docLinkHtml;\n",
              "          element.appendChild(docLink);\n",
              "        }\n",
              "      </script>\n",
              "    </div>\n",
              "  </div>\n",
              "  "
            ]
          },
          "metadata": {},
          "execution_count": 73
        }
      ]
    },
    {
      "cell_type": "code",
      "source": [
        "future = m.make_future_dataframe(periods=20, freq='M')\n",
        "future.tail()"
      ],
      "metadata": {
        "colab": {
          "base_uri": "https://localhost:8080/",
          "height": 206
        },
        "id": "QP3s2pqvAcZZ",
        "outputId": "b5f8d8a1-e6df-4e36-9af9-f2e38487ed41"
      },
      "id": "QP3s2pqvAcZZ",
      "execution_count": 74,
      "outputs": [
        {
          "output_type": "execute_result",
          "data": {
            "text/plain": [
              "            ds\n",
              "243 2017-03-31\n",
              "244 2017-04-30\n",
              "245 2017-05-31\n",
              "246 2017-06-30\n",
              "247 2017-07-31"
            ],
            "text/html": [
              "\n",
              "  <div id=\"df-e6876729-e6e2-41d5-87e2-fba7ac24f955\">\n",
              "    <div class=\"colab-df-container\">\n",
              "      <div>\n",
              "<style scoped>\n",
              "    .dataframe tbody tr th:only-of-type {\n",
              "        vertical-align: middle;\n",
              "    }\n",
              "\n",
              "    .dataframe tbody tr th {\n",
              "        vertical-align: top;\n",
              "    }\n",
              "\n",
              "    .dataframe thead th {\n",
              "        text-align: right;\n",
              "    }\n",
              "</style>\n",
              "<table border=\"1\" class=\"dataframe\">\n",
              "  <thead>\n",
              "    <tr style=\"text-align: right;\">\n",
              "      <th></th>\n",
              "      <th>ds</th>\n",
              "    </tr>\n",
              "  </thead>\n",
              "  <tbody>\n",
              "    <tr>\n",
              "      <th>243</th>\n",
              "      <td>2017-03-31</td>\n",
              "    </tr>\n",
              "    <tr>\n",
              "      <th>244</th>\n",
              "      <td>2017-04-30</td>\n",
              "    </tr>\n",
              "    <tr>\n",
              "      <th>245</th>\n",
              "      <td>2017-05-31</td>\n",
              "    </tr>\n",
              "    <tr>\n",
              "      <th>246</th>\n",
              "      <td>2017-06-30</td>\n",
              "    </tr>\n",
              "    <tr>\n",
              "      <th>247</th>\n",
              "      <td>2017-07-31</td>\n",
              "    </tr>\n",
              "  </tbody>\n",
              "</table>\n",
              "</div>\n",
              "      <button class=\"colab-df-convert\" onclick=\"convertToInteractive('df-e6876729-e6e2-41d5-87e2-fba7ac24f955')\"\n",
              "              title=\"Convert this dataframe to an interactive table.\"\n",
              "              style=\"display:none;\">\n",
              "        \n",
              "  <svg xmlns=\"http://www.w3.org/2000/svg\" height=\"24px\"viewBox=\"0 0 24 24\"\n",
              "       width=\"24px\">\n",
              "    <path d=\"M0 0h24v24H0V0z\" fill=\"none\"/>\n",
              "    <path d=\"M18.56 5.44l.94 2.06.94-2.06 2.06-.94-2.06-.94-.94-2.06-.94 2.06-2.06.94zm-11 1L8.5 8.5l.94-2.06 2.06-.94-2.06-.94L8.5 2.5l-.94 2.06-2.06.94zm10 10l.94 2.06.94-2.06 2.06-.94-2.06-.94-.94-2.06-.94 2.06-2.06.94z\"/><path d=\"M17.41 7.96l-1.37-1.37c-.4-.4-.92-.59-1.43-.59-.52 0-1.04.2-1.43.59L10.3 9.45l-7.72 7.72c-.78.78-.78 2.05 0 2.83L4 21.41c.39.39.9.59 1.41.59.51 0 1.02-.2 1.41-.59l7.78-7.78 2.81-2.81c.8-.78.8-2.07 0-2.86zM5.41 20L4 18.59l7.72-7.72 1.47 1.35L5.41 20z\"/>\n",
              "  </svg>\n",
              "      </button>\n",
              "      \n",
              "  <style>\n",
              "    .colab-df-container {\n",
              "      display:flex;\n",
              "      flex-wrap:wrap;\n",
              "      gap: 12px;\n",
              "    }\n",
              "\n",
              "    .colab-df-convert {\n",
              "      background-color: #E8F0FE;\n",
              "      border: none;\n",
              "      border-radius: 50%;\n",
              "      cursor: pointer;\n",
              "      display: none;\n",
              "      fill: #1967D2;\n",
              "      height: 32px;\n",
              "      padding: 0 0 0 0;\n",
              "      width: 32px;\n",
              "    }\n",
              "\n",
              "    .colab-df-convert:hover {\n",
              "      background-color: #E2EBFA;\n",
              "      box-shadow: 0px 1px 2px rgba(60, 64, 67, 0.3), 0px 1px 3px 1px rgba(60, 64, 67, 0.15);\n",
              "      fill: #174EA6;\n",
              "    }\n",
              "\n",
              "    [theme=dark] .colab-df-convert {\n",
              "      background-color: #3B4455;\n",
              "      fill: #D2E3FC;\n",
              "    }\n",
              "\n",
              "    [theme=dark] .colab-df-convert:hover {\n",
              "      background-color: #434B5C;\n",
              "      box-shadow: 0px 1px 3px 1px rgba(0, 0, 0, 0.15);\n",
              "      filter: drop-shadow(0px 1px 2px rgba(0, 0, 0, 0.3));\n",
              "      fill: #FFFFFF;\n",
              "    }\n",
              "  </style>\n",
              "\n",
              "      <script>\n",
              "        const buttonEl =\n",
              "          document.querySelector('#df-e6876729-e6e2-41d5-87e2-fba7ac24f955 button.colab-df-convert');\n",
              "        buttonEl.style.display =\n",
              "          google.colab.kernel.accessAllowed ? 'block' : 'none';\n",
              "\n",
              "        async function convertToInteractive(key) {\n",
              "          const element = document.querySelector('#df-e6876729-e6e2-41d5-87e2-fba7ac24f955');\n",
              "          const dataTable =\n",
              "            await google.colab.kernel.invokeFunction('convertToInteractive',\n",
              "                                                     [key], {});\n",
              "          if (!dataTable) return;\n",
              "\n",
              "          const docLinkHtml = 'Like what you see? Visit the ' +\n",
              "            '<a target=\"_blank\" href=https://colab.research.google.com/notebooks/data_table.ipynb>data table notebook</a>'\n",
              "            + ' to learn more about interactive tables.';\n",
              "          element.innerHTML = '';\n",
              "          dataTable['output_type'] = 'display_data';\n",
              "          await google.colab.output.renderOutput(dataTable, element);\n",
              "          const docLink = document.createElement('div');\n",
              "          docLink.innerHTML = docLinkHtml;\n",
              "          element.appendChild(docLink);\n",
              "        }\n",
              "      </script>\n",
              "    </div>\n",
              "  </div>\n",
              "  "
            ]
          },
          "metadata": {},
          "execution_count": 74
        }
      ]
    },
    {
      "cell_type": "code",
      "source": [
        "forecast = m.predict(future)\n",
        "forecast[['ds', 'yhat', 'yhat_lower', 'yhat_upper']].tail()"
      ],
      "metadata": {
        "colab": {
          "base_uri": "https://localhost:8080/",
          "height": 206
        },
        "id": "DfnPTkYLAfcN",
        "outputId": "4d59ace2-ea26-40e3-c3be-11dd7a50760d"
      },
      "id": "DfnPTkYLAfcN",
      "execution_count": 75,
      "outputs": [
        {
          "output_type": "execute_result",
          "data": {
            "text/plain": [
              "            ds        yhat   yhat_lower  yhat_upper\n",
              "243 2017-03-31   29.506634  -571.657814  647.643674\n",
              "244 2017-04-30  -11.360679  -600.978948  526.972813\n",
              "245 2017-05-31 -196.802912  -761.592803  443.752102\n",
              "246 2017-06-30 -192.894267  -764.975681  410.495720\n",
              "247 2017-07-31 -395.704570 -1008.354618  192.348646"
            ],
            "text/html": [
              "\n",
              "  <div id=\"df-1acd65f7-5e70-4882-9161-25f5f21bfa68\">\n",
              "    <div class=\"colab-df-container\">\n",
              "      <div>\n",
              "<style scoped>\n",
              "    .dataframe tbody tr th:only-of-type {\n",
              "        vertical-align: middle;\n",
              "    }\n",
              "\n",
              "    .dataframe tbody tr th {\n",
              "        vertical-align: top;\n",
              "    }\n",
              "\n",
              "    .dataframe thead th {\n",
              "        text-align: right;\n",
              "    }\n",
              "</style>\n",
              "<table border=\"1\" class=\"dataframe\">\n",
              "  <thead>\n",
              "    <tr style=\"text-align: right;\">\n",
              "      <th></th>\n",
              "      <th>ds</th>\n",
              "      <th>yhat</th>\n",
              "      <th>yhat_lower</th>\n",
              "      <th>yhat_upper</th>\n",
              "    </tr>\n",
              "  </thead>\n",
              "  <tbody>\n",
              "    <tr>\n",
              "      <th>243</th>\n",
              "      <td>2017-03-31</td>\n",
              "      <td>29.506634</td>\n",
              "      <td>-571.657814</td>\n",
              "      <td>647.643674</td>\n",
              "    </tr>\n",
              "    <tr>\n",
              "      <th>244</th>\n",
              "      <td>2017-04-30</td>\n",
              "      <td>-11.360679</td>\n",
              "      <td>-600.978948</td>\n",
              "      <td>526.972813</td>\n",
              "    </tr>\n",
              "    <tr>\n",
              "      <th>245</th>\n",
              "      <td>2017-05-31</td>\n",
              "      <td>-196.802912</td>\n",
              "      <td>-761.592803</td>\n",
              "      <td>443.752102</td>\n",
              "    </tr>\n",
              "    <tr>\n",
              "      <th>246</th>\n",
              "      <td>2017-06-30</td>\n",
              "      <td>-192.894267</td>\n",
              "      <td>-764.975681</td>\n",
              "      <td>410.495720</td>\n",
              "    </tr>\n",
              "    <tr>\n",
              "      <th>247</th>\n",
              "      <td>2017-07-31</td>\n",
              "      <td>-395.704570</td>\n",
              "      <td>-1008.354618</td>\n",
              "      <td>192.348646</td>\n",
              "    </tr>\n",
              "  </tbody>\n",
              "</table>\n",
              "</div>\n",
              "      <button class=\"colab-df-convert\" onclick=\"convertToInteractive('df-1acd65f7-5e70-4882-9161-25f5f21bfa68')\"\n",
              "              title=\"Convert this dataframe to an interactive table.\"\n",
              "              style=\"display:none;\">\n",
              "        \n",
              "  <svg xmlns=\"http://www.w3.org/2000/svg\" height=\"24px\"viewBox=\"0 0 24 24\"\n",
              "       width=\"24px\">\n",
              "    <path d=\"M0 0h24v24H0V0z\" fill=\"none\"/>\n",
              "    <path d=\"M18.56 5.44l.94 2.06.94-2.06 2.06-.94-2.06-.94-.94-2.06-.94 2.06-2.06.94zm-11 1L8.5 8.5l.94-2.06 2.06-.94-2.06-.94L8.5 2.5l-.94 2.06-2.06.94zm10 10l.94 2.06.94-2.06 2.06-.94-2.06-.94-.94-2.06-.94 2.06-2.06.94z\"/><path d=\"M17.41 7.96l-1.37-1.37c-.4-.4-.92-.59-1.43-.59-.52 0-1.04.2-1.43.59L10.3 9.45l-7.72 7.72c-.78.78-.78 2.05 0 2.83L4 21.41c.39.39.9.59 1.41.59.51 0 1.02-.2 1.41-.59l7.78-7.78 2.81-2.81c.8-.78.8-2.07 0-2.86zM5.41 20L4 18.59l7.72-7.72 1.47 1.35L5.41 20z\"/>\n",
              "  </svg>\n",
              "      </button>\n",
              "      \n",
              "  <style>\n",
              "    .colab-df-container {\n",
              "      display:flex;\n",
              "      flex-wrap:wrap;\n",
              "      gap: 12px;\n",
              "    }\n",
              "\n",
              "    .colab-df-convert {\n",
              "      background-color: #E8F0FE;\n",
              "      border: none;\n",
              "      border-radius: 50%;\n",
              "      cursor: pointer;\n",
              "      display: none;\n",
              "      fill: #1967D2;\n",
              "      height: 32px;\n",
              "      padding: 0 0 0 0;\n",
              "      width: 32px;\n",
              "    }\n",
              "\n",
              "    .colab-df-convert:hover {\n",
              "      background-color: #E2EBFA;\n",
              "      box-shadow: 0px 1px 2px rgba(60, 64, 67, 0.3), 0px 1px 3px 1px rgba(60, 64, 67, 0.15);\n",
              "      fill: #174EA6;\n",
              "    }\n",
              "\n",
              "    [theme=dark] .colab-df-convert {\n",
              "      background-color: #3B4455;\n",
              "      fill: #D2E3FC;\n",
              "    }\n",
              "\n",
              "    [theme=dark] .colab-df-convert:hover {\n",
              "      background-color: #434B5C;\n",
              "      box-shadow: 0px 1px 3px 1px rgba(0, 0, 0, 0.15);\n",
              "      filter: drop-shadow(0px 1px 2px rgba(0, 0, 0, 0.3));\n",
              "      fill: #FFFFFF;\n",
              "    }\n",
              "  </style>\n",
              "\n",
              "      <script>\n",
              "        const buttonEl =\n",
              "          document.querySelector('#df-1acd65f7-5e70-4882-9161-25f5f21bfa68 button.colab-df-convert');\n",
              "        buttonEl.style.display =\n",
              "          google.colab.kernel.accessAllowed ? 'block' : 'none';\n",
              "\n",
              "        async function convertToInteractive(key) {\n",
              "          const element = document.querySelector('#df-1acd65f7-5e70-4882-9161-25f5f21bfa68');\n",
              "          const dataTable =\n",
              "            await google.colab.kernel.invokeFunction('convertToInteractive',\n",
              "                                                     [key], {});\n",
              "          if (!dataTable) return;\n",
              "\n",
              "          const docLinkHtml = 'Like what you see? Visit the ' +\n",
              "            '<a target=\"_blank\" href=https://colab.research.google.com/notebooks/data_table.ipynb>data table notebook</a>'\n",
              "            + ' to learn more about interactive tables.';\n",
              "          element.innerHTML = '';\n",
              "          dataTable['output_type'] = 'display_data';\n",
              "          await google.colab.output.renderOutput(dataTable, element);\n",
              "          const docLink = document.createElement('div');\n",
              "          docLink.innerHTML = docLinkHtml;\n",
              "          element.appendChild(docLink);\n",
              "        }\n",
              "      </script>\n",
              "    </div>\n",
              "  </div>\n",
              "  "
            ]
          },
          "metadata": {},
          "execution_count": 75
        }
      ]
    },
    {
      "cell_type": "code",
      "source": [
        "data[-20:]"
      ],
      "metadata": {
        "colab": {
          "base_uri": "https://localhost:8080/",
          "height": 676
        },
        "id": "A6ScHC2VAk7N",
        "outputId": "d22bff03-4801-45ef-9cb3-f66fa46e1ae8"
      },
      "id": "A6ScHC2VAk7N",
      "execution_count": 76,
      "outputs": [
        {
          "output_type": "execute_result",
          "data": {
            "text/plain": [
              "            ds        y\n",
              "228 2015-03-12  1056.77\n",
              "229 2015-04-12  1047.32\n",
              "230 2015-07-12  1048.08\n",
              "231 2015-08-12  1051.88\n",
              "232 2015-09-12  1036.19\n",
              "233 2015-10-12  1040.47\n",
              "234 2015-11-12  1052.88\n",
              "235 2015-12-14  1066.30\n",
              "236 2015-12-15  1071.44\n",
              "237 2015-12-16  1092.86\n",
              "238 2015-12-17  1099.83\n",
              "239 2015-12-18  1086.91\n",
              "240 2015-12-21  1095.68\n",
              "241 2015-12-22  1085.81\n",
              "242 2015-12-23  1097.35\n",
              "243 2015-12-24  1095.84\n",
              "244 2015-12-28  1105.51\n",
              "245 2015-12-29  1104.14\n",
              "246 2015-12-30  1094.45\n",
              "247 2015-12-31  1102.09"
            ],
            "text/html": [
              "\n",
              "  <div id=\"df-ac55f6f7-e71a-4bff-967f-dc2237cb769e\">\n",
              "    <div class=\"colab-df-container\">\n",
              "      <div>\n",
              "<style scoped>\n",
              "    .dataframe tbody tr th:only-of-type {\n",
              "        vertical-align: middle;\n",
              "    }\n",
              "\n",
              "    .dataframe tbody tr th {\n",
              "        vertical-align: top;\n",
              "    }\n",
              "\n",
              "    .dataframe thead th {\n",
              "        text-align: right;\n",
              "    }\n",
              "</style>\n",
              "<table border=\"1\" class=\"dataframe\">\n",
              "  <thead>\n",
              "    <tr style=\"text-align: right;\">\n",
              "      <th></th>\n",
              "      <th>ds</th>\n",
              "      <th>y</th>\n",
              "    </tr>\n",
              "  </thead>\n",
              "  <tbody>\n",
              "    <tr>\n",
              "      <th>228</th>\n",
              "      <td>2015-03-12</td>\n",
              "      <td>1056.77</td>\n",
              "    </tr>\n",
              "    <tr>\n",
              "      <th>229</th>\n",
              "      <td>2015-04-12</td>\n",
              "      <td>1047.32</td>\n",
              "    </tr>\n",
              "    <tr>\n",
              "      <th>230</th>\n",
              "      <td>2015-07-12</td>\n",
              "      <td>1048.08</td>\n",
              "    </tr>\n",
              "    <tr>\n",
              "      <th>231</th>\n",
              "      <td>2015-08-12</td>\n",
              "      <td>1051.88</td>\n",
              "    </tr>\n",
              "    <tr>\n",
              "      <th>232</th>\n",
              "      <td>2015-09-12</td>\n",
              "      <td>1036.19</td>\n",
              "    </tr>\n",
              "    <tr>\n",
              "      <th>233</th>\n",
              "      <td>2015-10-12</td>\n",
              "      <td>1040.47</td>\n",
              "    </tr>\n",
              "    <tr>\n",
              "      <th>234</th>\n",
              "      <td>2015-11-12</td>\n",
              "      <td>1052.88</td>\n",
              "    </tr>\n",
              "    <tr>\n",
              "      <th>235</th>\n",
              "      <td>2015-12-14</td>\n",
              "      <td>1066.30</td>\n",
              "    </tr>\n",
              "    <tr>\n",
              "      <th>236</th>\n",
              "      <td>2015-12-15</td>\n",
              "      <td>1071.44</td>\n",
              "    </tr>\n",
              "    <tr>\n",
              "      <th>237</th>\n",
              "      <td>2015-12-16</td>\n",
              "      <td>1092.86</td>\n",
              "    </tr>\n",
              "    <tr>\n",
              "      <th>238</th>\n",
              "      <td>2015-12-17</td>\n",
              "      <td>1099.83</td>\n",
              "    </tr>\n",
              "    <tr>\n",
              "      <th>239</th>\n",
              "      <td>2015-12-18</td>\n",
              "      <td>1086.91</td>\n",
              "    </tr>\n",
              "    <tr>\n",
              "      <th>240</th>\n",
              "      <td>2015-12-21</td>\n",
              "      <td>1095.68</td>\n",
              "    </tr>\n",
              "    <tr>\n",
              "      <th>241</th>\n",
              "      <td>2015-12-22</td>\n",
              "      <td>1085.81</td>\n",
              "    </tr>\n",
              "    <tr>\n",
              "      <th>242</th>\n",
              "      <td>2015-12-23</td>\n",
              "      <td>1097.35</td>\n",
              "    </tr>\n",
              "    <tr>\n",
              "      <th>243</th>\n",
              "      <td>2015-12-24</td>\n",
              "      <td>1095.84</td>\n",
              "    </tr>\n",
              "    <tr>\n",
              "      <th>244</th>\n",
              "      <td>2015-12-28</td>\n",
              "      <td>1105.51</td>\n",
              "    </tr>\n",
              "    <tr>\n",
              "      <th>245</th>\n",
              "      <td>2015-12-29</td>\n",
              "      <td>1104.14</td>\n",
              "    </tr>\n",
              "    <tr>\n",
              "      <th>246</th>\n",
              "      <td>2015-12-30</td>\n",
              "      <td>1094.45</td>\n",
              "    </tr>\n",
              "    <tr>\n",
              "      <th>247</th>\n",
              "      <td>2015-12-31</td>\n",
              "      <td>1102.09</td>\n",
              "    </tr>\n",
              "  </tbody>\n",
              "</table>\n",
              "</div>\n",
              "      <button class=\"colab-df-convert\" onclick=\"convertToInteractive('df-ac55f6f7-e71a-4bff-967f-dc2237cb769e')\"\n",
              "              title=\"Convert this dataframe to an interactive table.\"\n",
              "              style=\"display:none;\">\n",
              "        \n",
              "  <svg xmlns=\"http://www.w3.org/2000/svg\" height=\"24px\"viewBox=\"0 0 24 24\"\n",
              "       width=\"24px\">\n",
              "    <path d=\"M0 0h24v24H0V0z\" fill=\"none\"/>\n",
              "    <path d=\"M18.56 5.44l.94 2.06.94-2.06 2.06-.94-2.06-.94-.94-2.06-.94 2.06-2.06.94zm-11 1L8.5 8.5l.94-2.06 2.06-.94-2.06-.94L8.5 2.5l-.94 2.06-2.06.94zm10 10l.94 2.06.94-2.06 2.06-.94-2.06-.94-.94-2.06-.94 2.06-2.06.94z\"/><path d=\"M17.41 7.96l-1.37-1.37c-.4-.4-.92-.59-1.43-.59-.52 0-1.04.2-1.43.59L10.3 9.45l-7.72 7.72c-.78.78-.78 2.05 0 2.83L4 21.41c.39.39.9.59 1.41.59.51 0 1.02-.2 1.41-.59l7.78-7.78 2.81-2.81c.8-.78.8-2.07 0-2.86zM5.41 20L4 18.59l7.72-7.72 1.47 1.35L5.41 20z\"/>\n",
              "  </svg>\n",
              "      </button>\n",
              "      \n",
              "  <style>\n",
              "    .colab-df-container {\n",
              "      display:flex;\n",
              "      flex-wrap:wrap;\n",
              "      gap: 12px;\n",
              "    }\n",
              "\n",
              "    .colab-df-convert {\n",
              "      background-color: #E8F0FE;\n",
              "      border: none;\n",
              "      border-radius: 50%;\n",
              "      cursor: pointer;\n",
              "      display: none;\n",
              "      fill: #1967D2;\n",
              "      height: 32px;\n",
              "      padding: 0 0 0 0;\n",
              "      width: 32px;\n",
              "    }\n",
              "\n",
              "    .colab-df-convert:hover {\n",
              "      background-color: #E2EBFA;\n",
              "      box-shadow: 0px 1px 2px rgba(60, 64, 67, 0.3), 0px 1px 3px 1px rgba(60, 64, 67, 0.15);\n",
              "      fill: #174EA6;\n",
              "    }\n",
              "\n",
              "    [theme=dark] .colab-df-convert {\n",
              "      background-color: #3B4455;\n",
              "      fill: #D2E3FC;\n",
              "    }\n",
              "\n",
              "    [theme=dark] .colab-df-convert:hover {\n",
              "      background-color: #434B5C;\n",
              "      box-shadow: 0px 1px 3px 1px rgba(0, 0, 0, 0.15);\n",
              "      filter: drop-shadow(0px 1px 2px rgba(0, 0, 0, 0.3));\n",
              "      fill: #FFFFFF;\n",
              "    }\n",
              "  </style>\n",
              "\n",
              "      <script>\n",
              "        const buttonEl =\n",
              "          document.querySelector('#df-ac55f6f7-e71a-4bff-967f-dc2237cb769e button.colab-df-convert');\n",
              "        buttonEl.style.display =\n",
              "          google.colab.kernel.accessAllowed ? 'block' : 'none';\n",
              "\n",
              "        async function convertToInteractive(key) {\n",
              "          const element = document.querySelector('#df-ac55f6f7-e71a-4bff-967f-dc2237cb769e');\n",
              "          const dataTable =\n",
              "            await google.colab.kernel.invokeFunction('convertToInteractive',\n",
              "                                                     [key], {});\n",
              "          if (!dataTable) return;\n",
              "\n",
              "          const docLinkHtml = 'Like what you see? Visit the ' +\n",
              "            '<a target=\"_blank\" href=https://colab.research.google.com/notebooks/data_table.ipynb>data table notebook</a>'\n",
              "            + ' to learn more about interactive tables.';\n",
              "          element.innerHTML = '';\n",
              "          dataTable['output_type'] = 'display_data';\n",
              "          await google.colab.output.renderOutput(dataTable, element);\n",
              "          const docLink = document.createElement('div');\n",
              "          docLink.innerHTML = docLinkHtml;\n",
              "          element.appendChild(docLink);\n",
              "        }\n",
              "      </script>\n",
              "    </div>\n",
              "  </div>\n",
              "  "
            ]
          },
          "metadata": {},
          "execution_count": 76
        }
      ]
    },
    {
      "cell_type": "code",
      "source": [
        "from prophet.plot import plot_plotly, plot_components_plotly\n",
        "\n",
        "plot_plotly(m, forecast)"
      ],
      "metadata": {
        "colab": {
          "base_uri": "https://localhost:8080/",
          "height": 617
        },
        "id": "3Pyqao0MAneD",
        "outputId": "b8afecea-7f7e-4446-c442-d56a97aa4be5"
      },
      "id": "3Pyqao0MAneD",
      "execution_count": 77,
      "outputs": [
        {
          "output_type": "display_data",
          "data": {
            "text/html": [
              "<html>\n",
              "<head><meta charset=\"utf-8\" /></head>\n",
              "<body>\n",
              "    <div>            <script src=\"https://cdnjs.cloudflare.com/ajax/libs/mathjax/2.7.5/MathJax.js?config=TeX-AMS-MML_SVG\"></script><script type=\"text/javascript\">if (window.MathJax && window.MathJax.Hub && window.MathJax.Hub.Config) {window.MathJax.Hub.Config({SVG: {font: \"STIX-Web\"}});}</script>                <script type=\"text/javascript\">window.PlotlyConfig = {MathJaxConfig: 'local'};</script>\n",
              "        <script src=\"https://cdn.plot.ly/plotly-2.18.2.min.js\"></script>                <div id=\"cbac787a-4524-49d2-8326-94919f6ed03b\" class=\"plotly-graph-div\" style=\"height:600px; width:900px;\"></div>            <script type=\"text/javascript\">                                    window.PLOTLYENV=window.PLOTLYENV || {};                                    if (document.getElementById(\"cbac787a-4524-49d2-8326-94919f6ed03b\")) {                    Plotly.newPlot(                        \"cbac787a-4524-49d2-8326-94919f6ed03b\",                        [{\"marker\":{\"color\":\"black\",\"size\":4},\"mode\":\"markers\",\"name\":\"Actual\",\"x\":[\"2015-01-01T00:00:00\",\"2015-01-04T00:00:00\",\"2015-01-06T00:00:00\",\"2015-01-07T00:00:00\",\"2015-01-09T00:00:00\",\"2015-01-10T00:00:00\",\"2015-01-12T00:00:00\",\"2015-01-13T00:00:00\",\"2015-01-14T00:00:00\",\"2015-01-15T00:00:00\",\"2015-01-16T00:00:00\",\"2015-01-19T00:00:00\",\"2015-01-20T00:00:00\",\"2015-01-21T00:00:00\",\"2015-01-22T00:00:00\",\"2015-01-23T00:00:00\",\"2015-01-27T00:00:00\",\"2015-01-28T00:00:00\",\"2015-01-29T00:00:00\",\"2015-01-30T00:00:00\",\"2015-02-01T00:00:00\",\"2015-02-02T00:00:00\",\"2015-02-03T00:00:00\",\"2015-02-06T00:00:00\",\"2015-02-07T00:00:00\",\"2015-02-09T00:00:00\",\"2015-02-11T00:00:00\",\"2015-02-12T00:00:00\",\"2015-02-13T00:00:00\",\"2015-02-16T00:00:00\",\"2015-02-18T00:00:00\",\"2015-02-19T00:00:00\",\"2015-02-20T00:00:00\",\"2015-02-23T00:00:00\",\"2015-02-24T00:00:00\",\"2015-02-25T00:00:00\",\"2015-02-26T00:00:00\",\"2015-02-27T00:00:00\",\"2015-02-28T00:00:00\",\"2015-03-02T00:00:00\",\"2015-03-03T00:00:00\",\"2015-03-06T00:00:00\",\"2015-03-07T00:00:00\",\"2015-03-08T00:00:00\",\"2015-03-09T00:00:00\",\"2015-03-11T00:00:00\",\"2015-03-13T00:00:00\",\"2015-03-16T00:00:00\",\"2015-03-17T00:00:00\",\"2015-03-18T00:00:00\",\"2015-03-19T00:00:00\",\"2015-03-20T00:00:00\",\"2015-03-23T00:00:00\",\"2015-03-24T00:00:00\",\"2015-03-25T00:00:00\",\"2015-03-26T00:00:00\",\"2015-03-27T00:00:00\",\"2015-03-30T00:00:00\",\"2015-03-31T00:00:00\",\"2015-04-02T00:00:00\",\"2015-04-03T00:00:00\",\"2015-04-05T00:00:00\",\"2015-04-06T00:00:00\",\"2015-04-08T00:00:00\",\"2015-04-09T00:00:00\",\"2015-04-11T00:00:00\",\"2015-04-13T00:00:00\",\"2015-04-15T00:00:00\",\"2015-04-16T00:00:00\",\"2015-04-17T00:00:00\",\"2015-04-20T00:00:00\",\"2015-04-21T00:00:00\",\"2015-04-22T00:00:00\",\"2015-04-23T00:00:00\",\"2015-04-24T00:00:00\",\"2015-04-27T00:00:00\",\"2015-04-28T00:00:00\",\"2015-04-29T00:00:00\",\"2015-04-30T00:00:00\",\"2015-05-01T00:00:00\",\"2015-05-02T00:00:00\",\"2015-05-03T00:00:00\",\"2015-05-05T00:00:00\",\"2015-05-06T00:00:00\",\"2015-05-08T00:00:00\",\"2015-05-10T00:00:00\",\"2015-05-11T00:00:00\",\"2015-05-13T00:00:00\",\"2015-05-14T00:00:00\",\"2015-05-15T00:00:00\",\"2015-05-18T00:00:00\",\"2015-05-19T00:00:00\",\"2015-05-20T00:00:00\",\"2015-05-21T00:00:00\",\"2015-05-22T00:00:00\",\"2015-05-25T00:00:00\",\"2015-05-26T00:00:00\",\"2015-05-27T00:00:00\",\"2015-05-28T00:00:00\",\"2015-05-29T00:00:00\",\"2015-06-01T00:00:00\",\"2015-06-02T00:00:00\",\"2015-06-04T00:00:00\",\"2015-06-05T00:00:00\",\"2015-06-07T00:00:00\",\"2015-06-08T00:00:00\",\"2015-06-10T00:00:00\",\"2015-06-11T00:00:00\",\"2015-06-15T00:00:00\",\"2015-06-16T00:00:00\",\"2015-06-17T00:00:00\",\"2015-06-18T00:00:00\",\"2015-06-19T00:00:00\",\"2015-06-22T00:00:00\",\"2015-06-23T00:00:00\",\"2015-06-24T00:00:00\",\"2015-06-25T00:00:00\",\"2015-06-26T00:00:00\",\"2015-06-29T00:00:00\",\"2015-06-30T00:00:00\",\"2015-07-01T00:00:00\",\"2015-07-04T00:00:00\",\"2015-07-05T00:00:00\",\"2015-07-07T00:00:00\",\"2015-07-08T00:00:00\",\"2015-07-09T00:00:00\",\"2015-07-10T00:00:00\",\"2015-07-13T00:00:00\",\"2015-07-14T00:00:00\",\"2015-07-15T00:00:00\",\"2015-07-16T00:00:00\",\"2015-07-17T00:00:00\",\"2015-07-20T00:00:00\",\"2015-07-21T00:00:00\",\"2015-07-22T00:00:00\",\"2015-07-23T00:00:00\",\"2015-07-24T00:00:00\",\"2015-07-27T00:00:00\",\"2015-07-28T00:00:00\",\"2015-07-29T00:00:00\",\"2015-07-30T00:00:00\",\"2015-07-31T00:00:00\",\"2015-08-01T00:00:00\",\"2015-08-04T00:00:00\",\"2015-08-05T00:00:00\",\"2015-08-06T00:00:00\",\"2015-08-07T00:00:00\",\"2015-08-09T00:00:00\",\"2015-08-10T00:00:00\",\"2015-08-13T00:00:00\",\"2015-08-14T00:00:00\",\"2015-08-17T00:00:00\",\"2015-08-18T00:00:00\",\"2015-08-19T00:00:00\",\"2015-08-20T00:00:00\",\"2015-08-21T00:00:00\",\"2015-08-24T00:00:00\",\"2015-08-25T00:00:00\",\"2015-08-26T00:00:00\",\"2015-08-27T00:00:00\",\"2015-08-28T00:00:00\",\"2015-08-31T00:00:00\",\"2015-09-01T00:00:00\",\"2015-09-02T00:00:00\",\"2015-09-03T00:00:00\",\"2015-09-04T00:00:00\",\"2015-09-06T00:00:00\",\"2015-09-07T00:00:00\",\"2015-09-09T00:00:00\",\"2015-09-10T00:00:00\",\"2015-09-11T00:00:00\",\"2015-09-14T00:00:00\",\"2015-09-15T00:00:00\",\"2015-09-16T00:00:00\",\"2015-09-18T00:00:00\",\"2015-09-21T00:00:00\",\"2015-09-22T00:00:00\",\"2015-09-23T00:00:00\",\"2015-09-24T00:00:00\",\"2015-09-28T00:00:00\",\"2015-09-29T00:00:00\",\"2015-09-30T00:00:00\",\"2015-10-02T00:00:00\",\"2015-10-03T00:00:00\",\"2015-10-04T00:00:00\",\"2015-10-06T00:00:00\",\"2015-10-07T00:00:00\",\"2015-10-08T00:00:00\",\"2015-10-09T00:00:00\",\"2015-10-11T00:00:00\",\"2015-10-13T00:00:00\",\"2015-10-14T00:00:00\",\"2015-10-15T00:00:00\",\"2015-10-16T00:00:00\",\"2015-10-19T00:00:00\",\"2015-10-20T00:00:00\",\"2015-10-21T00:00:00\",\"2015-10-23T00:00:00\",\"2015-10-26T00:00:00\",\"2015-10-27T00:00:00\",\"2015-10-28T00:00:00\",\"2015-10-29T00:00:00\",\"2015-10-30T00:00:00\",\"2015-11-02T00:00:00\",\"2015-11-03T00:00:00\",\"2015-11-05T00:00:00\",\"2015-11-06T00:00:00\",\"2015-11-08T00:00:00\",\"2015-11-09T00:00:00\",\"2015-11-11T00:00:00\",\"2015-11-13T00:00:00\",\"2015-11-16T00:00:00\",\"2015-11-17T00:00:00\",\"2015-11-18T00:00:00\",\"2015-11-19T00:00:00\",\"2015-11-20T00:00:00\",\"2015-11-23T00:00:00\",\"2015-11-24T00:00:00\",\"2015-11-26T00:00:00\",\"2015-11-27T00:00:00\",\"2015-11-30T00:00:00\",\"2015-12-01T00:00:00\",\"2015-12-02T00:00:00\",\"2015-12-03T00:00:00\",\"2015-12-05T00:00:00\",\"2015-12-06T00:00:00\",\"2015-12-08T00:00:00\",\"2015-12-10T00:00:00\"],\"y\":[1971.34,2171.15,2048.1,995.12,1099.86,1179.45,1082.42,2089.42,2110.88,2137.46,2125.77,2104.55,2118.16,2148.41,2193.1,2194.58,2146.45,2144.31,2141.67,2144.44,2003.25,2142.8,2290.03,2018.63,989.52,1102.46,1123.76,1064.12,2303.89,2282.89,2282.33,2322.17,2298.14,2285.41,2281.14,2316.82,2271.59,2268.66,2281.05,2117.92,2293.39,2019.78,989.7,1078.29,1100.92,1144.0,2213.76,2256.43,2244.71,2238.36,2231.73,2255.17,2244.84,2224.27,2214.43,2156.88,2203.42,2217.09,2222.1,2142.92,2286.19,1970.92,2036.59,1061.33,1079.25,1142.83,2235.7,2214.16,2183.51,2177.13,2130.87,2137.25,2125.66,2124.89,2070.28,1972.71,1962.59,1954.65,1943.45,2004.59,2189.61,2257.52,1970.79,2020.89,1080.81,1176.75,1133.3,1949.12,1929.44,1952.36,1981.93,2016.44,2045.73,2046.72,2043.07,2029.47,2015.66,1966.93,2000.26,2024.5,1954.82,2229.51,2171.24,1931.49,981.33,1089.08,1160.82,1137.85,990.17,995.31,1002.05,1001.7,998.9,1011.41,1004.3,1002.0,993.86,1005.91,989.98,986.73,1962.59,2160.92,1942.88,985.0,1095.84,1065.12,1147.22,945.97,961.36,980.66,987.36,997.46,998.95,1099.62,1100.68,1106.23,1090.71,1073.34,1066.58,1082.68,1077.44,1071.55,1972.78,2191.4,1956.49,2000.16,962.49,1063.17,1136.18,1155.49,1157.9,1136.37,1167.25,1176.36,1140.09,1145.35,1107.29,1085.15,1077.22,1085.94,1114.78,1098.12,2037.69,2238.75,2201.32,2202.96,1992.62,942.64,1088.69,1154.34,1127.68,1095.4,1098.21,1102.88,1109.16,1102.63,1123.16,1113.63,1138.27,1114.37,1119.84,1151.23,2270.89,2197.19,2229.87,2012.03,941.18,1094.07,1079.95,1114.22,1097.14,1104.2,1096.26,1094.85,1109.22,1121.86,1137.86,1141.35,1150.88,1149.74,1147.14,1143.62,1135.02,2279.82,2206.92,1980.94,2010.91,1105.55,1095.18,1109.42,1097.45,1081.23,1061.53,1027.76,1038.56,1053.83,1053.76,1043.4,1051.79,1060.99,1083.44,2099.4,2301.63,2209.4,1954.77,1991.32,1137.15,1145.31],\"type\":\"scatter\"},{\"hoverinfo\":\"skip\",\"line\":{\"width\":0},\"mode\":\"lines\",\"x\":[\"2015-01-01T00:00:00\",\"2015-01-04T00:00:00\",\"2015-01-06T00:00:00\",\"2015-01-07T00:00:00\",\"2015-01-09T00:00:00\",\"2015-01-10T00:00:00\",\"2015-01-12T00:00:00\",\"2015-01-13T00:00:00\",\"2015-01-14T00:00:00\",\"2015-01-15T00:00:00\",\"2015-01-16T00:00:00\",\"2015-01-19T00:00:00\",\"2015-01-20T00:00:00\",\"2015-01-21T00:00:00\",\"2015-01-22T00:00:00\",\"2015-01-23T00:00:00\",\"2015-01-27T00:00:00\",\"2015-01-28T00:00:00\",\"2015-01-29T00:00:00\",\"2015-01-30T00:00:00\",\"2015-02-01T00:00:00\",\"2015-02-02T00:00:00\",\"2015-02-03T00:00:00\",\"2015-02-06T00:00:00\",\"2015-02-07T00:00:00\",\"2015-02-09T00:00:00\",\"2015-02-11T00:00:00\",\"2015-02-12T00:00:00\",\"2015-02-13T00:00:00\",\"2015-02-16T00:00:00\",\"2015-02-18T00:00:00\",\"2015-02-19T00:00:00\",\"2015-02-20T00:00:00\",\"2015-02-23T00:00:00\",\"2015-02-24T00:00:00\",\"2015-02-25T00:00:00\",\"2015-02-26T00:00:00\",\"2015-02-27T00:00:00\",\"2015-02-28T00:00:00\",\"2015-03-02T00:00:00\",\"2015-03-03T00:00:00\",\"2015-03-06T00:00:00\",\"2015-03-07T00:00:00\",\"2015-03-08T00:00:00\",\"2015-03-09T00:00:00\",\"2015-03-11T00:00:00\",\"2015-03-13T00:00:00\",\"2015-03-16T00:00:00\",\"2015-03-17T00:00:00\",\"2015-03-18T00:00:00\",\"2015-03-19T00:00:00\",\"2015-03-20T00:00:00\",\"2015-03-23T00:00:00\",\"2015-03-24T00:00:00\",\"2015-03-25T00:00:00\",\"2015-03-26T00:00:00\",\"2015-03-27T00:00:00\",\"2015-03-30T00:00:00\",\"2015-03-31T00:00:00\",\"2015-04-02T00:00:00\",\"2015-04-03T00:00:00\",\"2015-04-05T00:00:00\",\"2015-04-06T00:00:00\",\"2015-04-08T00:00:00\",\"2015-04-09T00:00:00\",\"2015-04-11T00:00:00\",\"2015-04-13T00:00:00\",\"2015-04-15T00:00:00\",\"2015-04-16T00:00:00\",\"2015-04-17T00:00:00\",\"2015-04-20T00:00:00\",\"2015-04-21T00:00:00\",\"2015-04-22T00:00:00\",\"2015-04-23T00:00:00\",\"2015-04-24T00:00:00\",\"2015-04-27T00:00:00\",\"2015-04-28T00:00:00\",\"2015-04-29T00:00:00\",\"2015-04-30T00:00:00\",\"2015-05-01T00:00:00\",\"2015-05-02T00:00:00\",\"2015-05-03T00:00:00\",\"2015-05-05T00:00:00\",\"2015-05-06T00:00:00\",\"2015-05-08T00:00:00\",\"2015-05-10T00:00:00\",\"2015-05-11T00:00:00\",\"2015-05-13T00:00:00\",\"2015-05-14T00:00:00\",\"2015-05-15T00:00:00\",\"2015-05-18T00:00:00\",\"2015-05-19T00:00:00\",\"2015-05-20T00:00:00\",\"2015-05-21T00:00:00\",\"2015-05-22T00:00:00\",\"2015-05-25T00:00:00\",\"2015-05-26T00:00:00\",\"2015-05-27T00:00:00\",\"2015-05-28T00:00:00\",\"2015-05-29T00:00:00\",\"2015-06-01T00:00:00\",\"2015-06-02T00:00:00\",\"2015-06-04T00:00:00\",\"2015-06-05T00:00:00\",\"2015-06-07T00:00:00\",\"2015-06-08T00:00:00\",\"2015-06-10T00:00:00\",\"2015-06-11T00:00:00\",\"2015-06-15T00:00:00\",\"2015-06-16T00:00:00\",\"2015-06-17T00:00:00\",\"2015-06-18T00:00:00\",\"2015-06-19T00:00:00\",\"2015-06-22T00:00:00\",\"2015-06-23T00:00:00\",\"2015-06-24T00:00:00\",\"2015-06-25T00:00:00\",\"2015-06-26T00:00:00\",\"2015-06-29T00:00:00\",\"2015-06-30T00:00:00\",\"2015-07-01T00:00:00\",\"2015-07-04T00:00:00\",\"2015-07-05T00:00:00\",\"2015-07-07T00:00:00\",\"2015-07-08T00:00:00\",\"2015-07-09T00:00:00\",\"2015-07-10T00:00:00\",\"2015-07-13T00:00:00\",\"2015-07-14T00:00:00\",\"2015-07-15T00:00:00\",\"2015-07-16T00:00:00\",\"2015-07-17T00:00:00\",\"2015-07-20T00:00:00\",\"2015-07-21T00:00:00\",\"2015-07-22T00:00:00\",\"2015-07-23T00:00:00\",\"2015-07-24T00:00:00\",\"2015-07-27T00:00:00\",\"2015-07-28T00:00:00\",\"2015-07-29T00:00:00\",\"2015-07-30T00:00:00\",\"2015-07-31T00:00:00\",\"2015-08-01T00:00:00\",\"2015-08-04T00:00:00\",\"2015-08-05T00:00:00\",\"2015-08-06T00:00:00\",\"2015-08-07T00:00:00\",\"2015-08-09T00:00:00\",\"2015-08-10T00:00:00\",\"2015-08-13T00:00:00\",\"2015-08-14T00:00:00\",\"2015-08-17T00:00:00\",\"2015-08-18T00:00:00\",\"2015-08-19T00:00:00\",\"2015-08-20T00:00:00\",\"2015-08-21T00:00:00\",\"2015-08-24T00:00:00\",\"2015-08-25T00:00:00\",\"2015-08-26T00:00:00\",\"2015-08-27T00:00:00\",\"2015-08-28T00:00:00\",\"2015-08-31T00:00:00\",\"2015-09-01T00:00:00\",\"2015-09-02T00:00:00\",\"2015-09-03T00:00:00\",\"2015-09-04T00:00:00\",\"2015-09-06T00:00:00\",\"2015-09-07T00:00:00\",\"2015-09-09T00:00:00\",\"2015-09-10T00:00:00\",\"2015-09-11T00:00:00\",\"2015-09-14T00:00:00\",\"2015-09-15T00:00:00\",\"2015-09-16T00:00:00\",\"2015-09-18T00:00:00\",\"2015-09-21T00:00:00\",\"2015-09-22T00:00:00\",\"2015-09-23T00:00:00\",\"2015-09-24T00:00:00\",\"2015-09-28T00:00:00\",\"2015-09-29T00:00:00\",\"2015-09-30T00:00:00\",\"2015-10-02T00:00:00\",\"2015-10-03T00:00:00\",\"2015-10-04T00:00:00\",\"2015-10-06T00:00:00\",\"2015-10-07T00:00:00\",\"2015-10-08T00:00:00\",\"2015-10-09T00:00:00\",\"2015-10-11T00:00:00\",\"2015-10-13T00:00:00\",\"2015-10-14T00:00:00\",\"2015-10-15T00:00:00\",\"2015-10-16T00:00:00\",\"2015-10-19T00:00:00\",\"2015-10-20T00:00:00\",\"2015-10-21T00:00:00\",\"2015-10-23T00:00:00\",\"2015-10-26T00:00:00\",\"2015-10-27T00:00:00\",\"2015-10-28T00:00:00\",\"2015-10-29T00:00:00\",\"2015-10-30T00:00:00\",\"2015-11-02T00:00:00\",\"2015-11-03T00:00:00\",\"2015-11-05T00:00:00\",\"2015-11-06T00:00:00\",\"2015-11-08T00:00:00\",\"2015-11-09T00:00:00\",\"2015-11-11T00:00:00\",\"2015-11-13T00:00:00\",\"2015-11-16T00:00:00\",\"2015-11-17T00:00:00\",\"2015-11-18T00:00:00\",\"2015-11-19T00:00:00\",\"2015-11-20T00:00:00\",\"2015-11-23T00:00:00\",\"2015-11-24T00:00:00\",\"2015-11-26T00:00:00\",\"2015-11-27T00:00:00\",\"2015-11-30T00:00:00\",\"2015-12-01T00:00:00\",\"2015-12-02T00:00:00\",\"2015-12-03T00:00:00\",\"2015-12-05T00:00:00\",\"2015-12-06T00:00:00\",\"2015-12-08T00:00:00\",\"2015-12-10T00:00:00\",\"2015-12-31T00:00:00\",\"2016-01-31T00:00:00\",\"2016-02-29T00:00:00\",\"2016-03-31T00:00:00\",\"2016-04-30T00:00:00\",\"2016-05-31T00:00:00\",\"2016-06-30T00:00:00\",\"2016-07-31T00:00:00\",\"2016-08-31T00:00:00\",\"2016-09-30T00:00:00\",\"2016-10-31T00:00:00\",\"2016-11-30T00:00:00\",\"2016-12-31T00:00:00\",\"2017-01-31T00:00:00\",\"2017-02-28T00:00:00\",\"2017-03-31T00:00:00\",\"2017-04-30T00:00:00\",\"2017-05-31T00:00:00\",\"2017-06-30T00:00:00\",\"2017-07-31T00:00:00\"],\"y\":[1444.8382930812597,1480.5409670805425,1463.2961898997178,1336.6961307304223,1467.6380009945885,1411.7935282546334,1289.8686743241324,1455.314614271602,1344.4566590512452,1401.1996601167584,1435.9637047901697,1228.8804760675362,1440.2995268880652,1280.0603314402263,1366.8345059765766,1341.1196658488914,1415.82610710112,1310.4526344725025,1339.9900929112584,1390.0246909509215,1399.4872415935324,1218.2355074105924,1389.9825724373611,1411.3023358749854,1381.8546019775133,1228.9116879536966,1265.5671486010272,1354.5862604339254,1284.0599220596873,1209.2875883579406,1237.659120657195,1352.14263126665,1328.80470648194,1167.5479768772493,1361.2706517233594,1212.722037010738,1284.5681932898804,1298.622711284076,1303.2914508907204,1170.9287852799039,1373.5730369859984,1262.9960921086922,1304.23869366081,1281.6336735085245,1158.3879777651775,1221.5460410398593,1272.8695307942983,1190.0702334905961,1306.2762461494897,1144.6246287893916,1224.54131214051,1255.9124074902397,1141.2696148758557,1252.1889255859257,1183.4523911190677,1217.9032670683475,1233.160323185247,1085.618081291204,1298.1910767941613,1245.3094029999002,1228.8609476586034,1250.1264406209216,1096.1295331381536,1104.675278502221,1184.768744553449,1209.6652041219418,1092.4793036452375,1164.0264845182576,1150.5661263233224,1151.2746330978828,1058.846999653903,1240.5422931753308,1086.153427296851,1159.477574235875,1189.958037506415,1035.174859556451,1242.4417548724202,1110.5054255225268,1142.5190869205285,1123.4752539238498,1156.1397489274934,1144.6538044469146,1164.77715945582,1063.4224430836284,1088.979130352321,1136.2745911863542,1012.8466856690088,1067.30648914711,1128.7315036042276,1105.6287688556451,977.7457551323068,1104.9584339267185,1033.3832521030922,1102.8610677735278,1130.511445759191,955.622954964549,1151.4833215090343,1004.067631506747,1074.5299905981842,1109.6972494095235,959.46630884969,1152.6395553612647,1064.2134844521884,1061.0451979636573,1084.313891265926,913.3327468447866,930.5725836927573,1051.050241914466,888.1197550394177,1079.2823549884488,947.853315471673,1054.1149886729609,1043.3449791116316,885.2238217806522,1117.2560570958406,941.0078206679597,993.3162539846578,956.8374047790456,849.0988900747784,1053.0650493959465,876.713053303349,994.7842889796626,1019.9733265760568,1069.1967463564727,902.0357762127152,972.0857267353805,982.4714634719553,863.683379943558,1005.4474687485223,874.6212612832235,934.0409119435383,954.2604648560282,827.9469884815837,1002.6048132407873,855.9440688990562,969.8208129808171,940.9624859749891,803.2181938858488,1011.3260604034573,898.0239380200798,953.2473844410764,917.0567726344258,926.8153770028805,974.6407236285731,896.1111015128151,934.8072082036251,922.9553217049636,935.0000750133764,811.0231074797326,893.8815970208389,924.7745184035826,748.5012619800186,935.2136778138535,838.6183502750887,893.3314396034219,865.5257361375776,759.1972473634825,929.2281813308147,814.3593579041603,856.1189646278951,846.0235762903795,743.2323140675868,829.7342301447786,783.2768433830598,793.9167404391426,901.8778531117849,884.0711085445159,724.8796343258621,753.5962034295552,855.9396884494017,789.5982451452292,716.6571940082259,848.0016421300671,727.9595704263785,781.4888509920534,664.9479950973658,851.0953930534654,724.1845563755444,802.6227790462955,669.4394387319293,796.9438592866904,728.0469632180075,801.5567794893183,750.8581106741904,720.0149169346386,799.4198618130093,634.8164340377436,742.063401024074,727.506485343196,809.1703215192831,805.2328252568471,676.5064428308368,757.6412962462311,697.9315698095006,611.5461981330371,789.1413337686332,675.6616318556286,704.9351237524546,550.9680719877825,763.9635267802793,609.8748349718907,706.9344450952626,699.2987941564078,598.3344530727195,738.2477742593742,651.5307268197903,731.3315508278909,719.5416018829568,538.2949107024571,606.860331729312,665.736417639493,498.3470955369347,743.8342126348052,614.0905055084274,641.2400963781431,706.9489089979838,534.7042119104023,683.3059556546282,601.7317225750514,605.23524338971,534.7633633173456,650.4763599960271,502.7291965841507,617.1475744718448,646.5767920756903,660.2103074825702,666.2476515138112,564.7059294060828,570.1655308141407,529.7667547685533,295.19971319895836,321.73261942108627,263.37231285424093,305.7528072021984,104.01205706011072,65.5624771521706,-123.9672523197002,-157.61795077815376,-296.0535345516322,-312.87023036562744,-359.3949643808535,-347.4262077233548,-441.4591991850419,-571.657813702884,-600.9789475406752,-761.5928034568783,-764.9756811143848,-1008.3546180600861],\"type\":\"scatter\"},{\"fill\":\"tonexty\",\"fillcolor\":\"rgba(0, 114, 178, 0.2)\",\"line\":{\"color\":\"#0072B2\",\"width\":2},\"mode\":\"lines\",\"name\":\"Predicted\",\"x\":[\"2015-01-01T00:00:00\",\"2015-01-04T00:00:00\",\"2015-01-06T00:00:00\",\"2015-01-07T00:00:00\",\"2015-01-09T00:00:00\",\"2015-01-10T00:00:00\",\"2015-01-12T00:00:00\",\"2015-01-13T00:00:00\",\"2015-01-14T00:00:00\",\"2015-01-15T00:00:00\",\"2015-01-16T00:00:00\",\"2015-01-19T00:00:00\",\"2015-01-20T00:00:00\",\"2015-01-21T00:00:00\",\"2015-01-22T00:00:00\",\"2015-01-23T00:00:00\",\"2015-01-27T00:00:00\",\"2015-01-28T00:00:00\",\"2015-01-29T00:00:00\",\"2015-01-30T00:00:00\",\"2015-02-01T00:00:00\",\"2015-02-02T00:00:00\",\"2015-02-03T00:00:00\",\"2015-02-06T00:00:00\",\"2015-02-07T00:00:00\",\"2015-02-09T00:00:00\",\"2015-02-11T00:00:00\",\"2015-02-12T00:00:00\",\"2015-02-13T00:00:00\",\"2015-02-16T00:00:00\",\"2015-02-18T00:00:00\",\"2015-02-19T00:00:00\",\"2015-02-20T00:00:00\",\"2015-02-23T00:00:00\",\"2015-02-24T00:00:00\",\"2015-02-25T00:00:00\",\"2015-02-26T00:00:00\",\"2015-02-27T00:00:00\",\"2015-02-28T00:00:00\",\"2015-03-02T00:00:00\",\"2015-03-03T00:00:00\",\"2015-03-06T00:00:00\",\"2015-03-07T00:00:00\",\"2015-03-08T00:00:00\",\"2015-03-09T00:00:00\",\"2015-03-11T00:00:00\",\"2015-03-13T00:00:00\",\"2015-03-16T00:00:00\",\"2015-03-17T00:00:00\",\"2015-03-18T00:00:00\",\"2015-03-19T00:00:00\",\"2015-03-20T00:00:00\",\"2015-03-23T00:00:00\",\"2015-03-24T00:00:00\",\"2015-03-25T00:00:00\",\"2015-03-26T00:00:00\",\"2015-03-27T00:00:00\",\"2015-03-30T00:00:00\",\"2015-03-31T00:00:00\",\"2015-04-02T00:00:00\",\"2015-04-03T00:00:00\",\"2015-04-05T00:00:00\",\"2015-04-06T00:00:00\",\"2015-04-08T00:00:00\",\"2015-04-09T00:00:00\",\"2015-04-11T00:00:00\",\"2015-04-13T00:00:00\",\"2015-04-15T00:00:00\",\"2015-04-16T00:00:00\",\"2015-04-17T00:00:00\",\"2015-04-20T00:00:00\",\"2015-04-21T00:00:00\",\"2015-04-22T00:00:00\",\"2015-04-23T00:00:00\",\"2015-04-24T00:00:00\",\"2015-04-27T00:00:00\",\"2015-04-28T00:00:00\",\"2015-04-29T00:00:00\",\"2015-04-30T00:00:00\",\"2015-05-01T00:00:00\",\"2015-05-02T00:00:00\",\"2015-05-03T00:00:00\",\"2015-05-05T00:00:00\",\"2015-05-06T00:00:00\",\"2015-05-08T00:00:00\",\"2015-05-10T00:00:00\",\"2015-05-11T00:00:00\",\"2015-05-13T00:00:00\",\"2015-05-14T00:00:00\",\"2015-05-15T00:00:00\",\"2015-05-18T00:00:00\",\"2015-05-19T00:00:00\",\"2015-05-20T00:00:00\",\"2015-05-21T00:00:00\",\"2015-05-22T00:00:00\",\"2015-05-25T00:00:00\",\"2015-05-26T00:00:00\",\"2015-05-27T00:00:00\",\"2015-05-28T00:00:00\",\"2015-05-29T00:00:00\",\"2015-06-01T00:00:00\",\"2015-06-02T00:00:00\",\"2015-06-04T00:00:00\",\"2015-06-05T00:00:00\",\"2015-06-07T00:00:00\",\"2015-06-08T00:00:00\",\"2015-06-10T00:00:00\",\"2015-06-11T00:00:00\",\"2015-06-15T00:00:00\",\"2015-06-16T00:00:00\",\"2015-06-17T00:00:00\",\"2015-06-18T00:00:00\",\"2015-06-19T00:00:00\",\"2015-06-22T00:00:00\",\"2015-06-23T00:00:00\",\"2015-06-24T00:00:00\",\"2015-06-25T00:00:00\",\"2015-06-26T00:00:00\",\"2015-06-29T00:00:00\",\"2015-06-30T00:00:00\",\"2015-07-01T00:00:00\",\"2015-07-04T00:00:00\",\"2015-07-05T00:00:00\",\"2015-07-07T00:00:00\",\"2015-07-08T00:00:00\",\"2015-07-09T00:00:00\",\"2015-07-10T00:00:00\",\"2015-07-13T00:00:00\",\"2015-07-14T00:00:00\",\"2015-07-15T00:00:00\",\"2015-07-16T00:00:00\",\"2015-07-17T00:00:00\",\"2015-07-20T00:00:00\",\"2015-07-21T00:00:00\",\"2015-07-22T00:00:00\",\"2015-07-23T00:00:00\",\"2015-07-24T00:00:00\",\"2015-07-27T00:00:00\",\"2015-07-28T00:00:00\",\"2015-07-29T00:00:00\",\"2015-07-30T00:00:00\",\"2015-07-31T00:00:00\",\"2015-08-01T00:00:00\",\"2015-08-04T00:00:00\",\"2015-08-05T00:00:00\",\"2015-08-06T00:00:00\",\"2015-08-07T00:00:00\",\"2015-08-09T00:00:00\",\"2015-08-10T00:00:00\",\"2015-08-13T00:00:00\",\"2015-08-14T00:00:00\",\"2015-08-17T00:00:00\",\"2015-08-18T00:00:00\",\"2015-08-19T00:00:00\",\"2015-08-20T00:00:00\",\"2015-08-21T00:00:00\",\"2015-08-24T00:00:00\",\"2015-08-25T00:00:00\",\"2015-08-26T00:00:00\",\"2015-08-27T00:00:00\",\"2015-08-28T00:00:00\",\"2015-08-31T00:00:00\",\"2015-09-01T00:00:00\",\"2015-09-02T00:00:00\",\"2015-09-03T00:00:00\",\"2015-09-04T00:00:00\",\"2015-09-06T00:00:00\",\"2015-09-07T00:00:00\",\"2015-09-09T00:00:00\",\"2015-09-10T00:00:00\",\"2015-09-11T00:00:00\",\"2015-09-14T00:00:00\",\"2015-09-15T00:00:00\",\"2015-09-16T00:00:00\",\"2015-09-18T00:00:00\",\"2015-09-21T00:00:00\",\"2015-09-22T00:00:00\",\"2015-09-23T00:00:00\",\"2015-09-24T00:00:00\",\"2015-09-28T00:00:00\",\"2015-09-29T00:00:00\",\"2015-09-30T00:00:00\",\"2015-10-02T00:00:00\",\"2015-10-03T00:00:00\",\"2015-10-04T00:00:00\",\"2015-10-06T00:00:00\",\"2015-10-07T00:00:00\",\"2015-10-08T00:00:00\",\"2015-10-09T00:00:00\",\"2015-10-11T00:00:00\",\"2015-10-13T00:00:00\",\"2015-10-14T00:00:00\",\"2015-10-15T00:00:00\",\"2015-10-16T00:00:00\",\"2015-10-19T00:00:00\",\"2015-10-20T00:00:00\",\"2015-10-21T00:00:00\",\"2015-10-23T00:00:00\",\"2015-10-26T00:00:00\",\"2015-10-27T00:00:00\",\"2015-10-28T00:00:00\",\"2015-10-29T00:00:00\",\"2015-10-30T00:00:00\",\"2015-11-02T00:00:00\",\"2015-11-03T00:00:00\",\"2015-11-05T00:00:00\",\"2015-11-06T00:00:00\",\"2015-11-08T00:00:00\",\"2015-11-09T00:00:00\",\"2015-11-11T00:00:00\",\"2015-11-13T00:00:00\",\"2015-11-16T00:00:00\",\"2015-11-17T00:00:00\",\"2015-11-18T00:00:00\",\"2015-11-19T00:00:00\",\"2015-11-20T00:00:00\",\"2015-11-23T00:00:00\",\"2015-11-24T00:00:00\",\"2015-11-26T00:00:00\",\"2015-11-27T00:00:00\",\"2015-11-30T00:00:00\",\"2015-12-01T00:00:00\",\"2015-12-02T00:00:00\",\"2015-12-03T00:00:00\",\"2015-12-05T00:00:00\",\"2015-12-06T00:00:00\",\"2015-12-08T00:00:00\",\"2015-12-10T00:00:00\",\"2015-12-31T00:00:00\",\"2016-01-31T00:00:00\",\"2016-02-29T00:00:00\",\"2016-03-31T00:00:00\",\"2016-04-30T00:00:00\",\"2016-05-31T00:00:00\",\"2016-06-30T00:00:00\",\"2016-07-31T00:00:00\",\"2016-08-31T00:00:00\",\"2016-09-30T00:00:00\",\"2016-10-31T00:00:00\",\"2016-11-30T00:00:00\",\"2016-12-31T00:00:00\",\"2017-01-31T00:00:00\",\"2017-02-28T00:00:00\",\"2017-03-31T00:00:00\",\"2017-04-30T00:00:00\",\"2017-05-31T00:00:00\",\"2017-06-30T00:00:00\",\"2017-07-31T00:00:00\"],\"y\":[2027.6462994094366,2058.6617106479907,2074.3509403029893,1941.652291892723,2013.9931627640394,2010.7842223464013,1879.61567499379,2057.2473052109485,1924.548656136769,1993.4390278965584,1996.889525679822,1862.512035915968,2040.1436654689612,1907.4450163944,1976.3353881538512,1979.785885984458,2023.0400259628755,1890.3413769354304,1959.2317487426978,1962.6822465730945,1990.24715813053,1828.3047569511705,2005.936386551387,1945.57683168268,1942.367298821104,1811.1975665816494,1856.1293635013485,1925.0191434827557,1928.4690494867436,1794.0897843856471,1839.0215813598459,1907.911361366663,1911.3612673977057,1776.9820023775817,1954.6130401780053,1821.9137993513962,1890.803579358862,1894.2534833148186,1891.0439484055091,1759.874212069723,1937.5052477955585,1877.1456867821385,1873.9361518731507,1904.7094105912197,1742.7664155927234,1787.6982085270274,1860.0378905264,1725.658619446904,1903.2896552275772,1770.5904123812074,1839.4801903692567,1842.9300943800965,1708.5508235789048,1886.181859452351,1753.482616698847,1822.3723947794413,1825.8222988827165,1691.443028082009,1869.0740639554524,1805.2645987781702,1808.714502629216,1836.2782262290602,1674.3352310710638,1719.2670236861125,1788.1568015148075,1788.3971703521595,1657.2274338563304,1702.1592265200482,1771.049004372458,1774.498908248258,1640.1196367622783,1817.7506724078671,1685.0514294259303,1753.9412072088592,1757.3911110146223,1623.0118393201665,1800.6428748960163,1667.9436318445923,1736.833409627337,1740.2833134333969,1737.0737783747722,1767.8470369413544,1783.5350773119956,1650.835834259425,1723.175515846831,1750.7392393537623,1588.796244149437,1633.72803667153,1702.6178144748505,1706.0677183007865,1571.6884466653246,1749.319482260987,1616.6202392292294,1685.5100170315716,1688.9599208576142,1554.5806489509637,1732.2116844559175,1599.512441333347,1668.4022190456838,1671.8521227809192,1537.4728508739245,1715.1038863790975,1651.2944210112605,1654.7443247674985,1682.308048178244,1520.3650529248011,1565.2968453499582,1634.1866230831922,1503.257254996818,1680.888290523279,1548.1890474324264,1617.0788251757533,1620.5287289427479,1486.149457130762,1663.7804926673869,1531.0812495767648,1599.971027320414,1603.4209311180725,1469.041659398497,1646.6726949659758,1513.97345190635,1583.1035984105513,1613.876856970801,1629.5648973263817,1496.8656545668823,1565.7554326422833,1569.205336740296,1434.8260659219288,1612.4571017896246,1479.7578590305225,1548.6476371053811,1552.0975418018825,1417.7182727784318,1595.3493092445128,1462.6500670834748,1531.5398457568388,1534.9897504536111,1400.610481429685,1578.241517896076,1445.5422774496722,1514.432057837939,1517.881964248424,1514.6724317943972,1561.1337385497034,1428.4344981030836,1497.324278490968,1500.774185044129,1528.337914045133,1366.3949215880475,1480.2165001345725,1483.666406686998,1349.2871432312695,1526.9181815533711,1394.2189424372446,1463.1087241551177,1466.5586318965804,1332.179372008288,1509.8104115193314,1377.1111724031496,1446.0009541213317,1449.4508621722987,1315.0716032127928,1492.7026430337282,1360.0034042269906,1428.8931862549853,1432.3430943056842,1459.9068263055715,1297.963835346634,1342.895637727665,1411.7854204383564,1415.2353291731038,1280.8560722630477,1458.4871127672675,1325.7878746438248,1398.1275660890449,1263.7483095297061,1441.3793501505847,1308.680112144437,1377.5698949719708,1246.6405472633294,1424.2715878842969,1291.5723498778352,1363.9120417368626,1360.70251181225,1391.4757755162327,1407.1638261583987,1274.4645882417353,1343.354371160158,1346.8042801010831,1374.3680138800912,1390.056064522504,1257.3568266063464,1326.2466095237337,1329.6965184648836,1195.31726217591,1372.948302886609,1240.2490649702468,1312.5887568296425,1178.2095005399046,1355.8405412507825,1223.1413033344738,1292.0310862528322,1295.480995193324,1161.1017389041895,1338.732779614956,1274.9233246164076,1278.373233558202,1305.9369673366937,1143.993977268184,1188.9257800626585,1261.2654719220027,1126.8862156324406,1304.517256343235,1171.8180184268856,1240.7078013450255,1244.157710286342,1109.7784539967254,1287.4094947075173,1223.6000397090686,1227.049948650024,1092.6706923607487,1270.3017330716905,1137.60249515507,1206.4922780731376,1206.7326570902303,1237.5059207937747,1253.1939714359046,1189.3845164372062,1138.06123152988,1100.6438277071136,870.2697910950011,915.6603302641513,847.4696627379947,825.4999305401716,693.2594289984223,655.8420251755366,470.3997913581133,474.3084366742014,271.49813384109694,247.99889009237103,248.69800548360277,226.72827328640412,158.29722674307035,29.506634142720387,-11.36067862210669,-196.8029124391135,-192.89426712349916,-395.70456995614535],\"type\":\"scatter\"},{\"fill\":\"tonexty\",\"fillcolor\":\"rgba(0, 114, 178, 0.2)\",\"hoverinfo\":\"skip\",\"line\":{\"width\":0},\"mode\":\"lines\",\"x\":[\"2015-01-01T00:00:00\",\"2015-01-04T00:00:00\",\"2015-01-06T00:00:00\",\"2015-01-07T00:00:00\",\"2015-01-09T00:00:00\",\"2015-01-10T00:00:00\",\"2015-01-12T00:00:00\",\"2015-01-13T00:00:00\",\"2015-01-14T00:00:00\",\"2015-01-15T00:00:00\",\"2015-01-16T00:00:00\",\"2015-01-19T00:00:00\",\"2015-01-20T00:00:00\",\"2015-01-21T00:00:00\",\"2015-01-22T00:00:00\",\"2015-01-23T00:00:00\",\"2015-01-27T00:00:00\",\"2015-01-28T00:00:00\",\"2015-01-29T00:00:00\",\"2015-01-30T00:00:00\",\"2015-02-01T00:00:00\",\"2015-02-02T00:00:00\",\"2015-02-03T00:00:00\",\"2015-02-06T00:00:00\",\"2015-02-07T00:00:00\",\"2015-02-09T00:00:00\",\"2015-02-11T00:00:00\",\"2015-02-12T00:00:00\",\"2015-02-13T00:00:00\",\"2015-02-16T00:00:00\",\"2015-02-18T00:00:00\",\"2015-02-19T00:00:00\",\"2015-02-20T00:00:00\",\"2015-02-23T00:00:00\",\"2015-02-24T00:00:00\",\"2015-02-25T00:00:00\",\"2015-02-26T00:00:00\",\"2015-02-27T00:00:00\",\"2015-02-28T00:00:00\",\"2015-03-02T00:00:00\",\"2015-03-03T00:00:00\",\"2015-03-06T00:00:00\",\"2015-03-07T00:00:00\",\"2015-03-08T00:00:00\",\"2015-03-09T00:00:00\",\"2015-03-11T00:00:00\",\"2015-03-13T00:00:00\",\"2015-03-16T00:00:00\",\"2015-03-17T00:00:00\",\"2015-03-18T00:00:00\",\"2015-03-19T00:00:00\",\"2015-03-20T00:00:00\",\"2015-03-23T00:00:00\",\"2015-03-24T00:00:00\",\"2015-03-25T00:00:00\",\"2015-03-26T00:00:00\",\"2015-03-27T00:00:00\",\"2015-03-30T00:00:00\",\"2015-03-31T00:00:00\",\"2015-04-02T00:00:00\",\"2015-04-03T00:00:00\",\"2015-04-05T00:00:00\",\"2015-04-06T00:00:00\",\"2015-04-08T00:00:00\",\"2015-04-09T00:00:00\",\"2015-04-11T00:00:00\",\"2015-04-13T00:00:00\",\"2015-04-15T00:00:00\",\"2015-04-16T00:00:00\",\"2015-04-17T00:00:00\",\"2015-04-20T00:00:00\",\"2015-04-21T00:00:00\",\"2015-04-22T00:00:00\",\"2015-04-23T00:00:00\",\"2015-04-24T00:00:00\",\"2015-04-27T00:00:00\",\"2015-04-28T00:00:00\",\"2015-04-29T00:00:00\",\"2015-04-30T00:00:00\",\"2015-05-01T00:00:00\",\"2015-05-02T00:00:00\",\"2015-05-03T00:00:00\",\"2015-05-05T00:00:00\",\"2015-05-06T00:00:00\",\"2015-05-08T00:00:00\",\"2015-05-10T00:00:00\",\"2015-05-11T00:00:00\",\"2015-05-13T00:00:00\",\"2015-05-14T00:00:00\",\"2015-05-15T00:00:00\",\"2015-05-18T00:00:00\",\"2015-05-19T00:00:00\",\"2015-05-20T00:00:00\",\"2015-05-21T00:00:00\",\"2015-05-22T00:00:00\",\"2015-05-25T00:00:00\",\"2015-05-26T00:00:00\",\"2015-05-27T00:00:00\",\"2015-05-28T00:00:00\",\"2015-05-29T00:00:00\",\"2015-06-01T00:00:00\",\"2015-06-02T00:00:00\",\"2015-06-04T00:00:00\",\"2015-06-05T00:00:00\",\"2015-06-07T00:00:00\",\"2015-06-08T00:00:00\",\"2015-06-10T00:00:00\",\"2015-06-11T00:00:00\",\"2015-06-15T00:00:00\",\"2015-06-16T00:00:00\",\"2015-06-17T00:00:00\",\"2015-06-18T00:00:00\",\"2015-06-19T00:00:00\",\"2015-06-22T00:00:00\",\"2015-06-23T00:00:00\",\"2015-06-24T00:00:00\",\"2015-06-25T00:00:00\",\"2015-06-26T00:00:00\",\"2015-06-29T00:00:00\",\"2015-06-30T00:00:00\",\"2015-07-01T00:00:00\",\"2015-07-04T00:00:00\",\"2015-07-05T00:00:00\",\"2015-07-07T00:00:00\",\"2015-07-08T00:00:00\",\"2015-07-09T00:00:00\",\"2015-07-10T00:00:00\",\"2015-07-13T00:00:00\",\"2015-07-14T00:00:00\",\"2015-07-15T00:00:00\",\"2015-07-16T00:00:00\",\"2015-07-17T00:00:00\",\"2015-07-20T00:00:00\",\"2015-07-21T00:00:00\",\"2015-07-22T00:00:00\",\"2015-07-23T00:00:00\",\"2015-07-24T00:00:00\",\"2015-07-27T00:00:00\",\"2015-07-28T00:00:00\",\"2015-07-29T00:00:00\",\"2015-07-30T00:00:00\",\"2015-07-31T00:00:00\",\"2015-08-01T00:00:00\",\"2015-08-04T00:00:00\",\"2015-08-05T00:00:00\",\"2015-08-06T00:00:00\",\"2015-08-07T00:00:00\",\"2015-08-09T00:00:00\",\"2015-08-10T00:00:00\",\"2015-08-13T00:00:00\",\"2015-08-14T00:00:00\",\"2015-08-17T00:00:00\",\"2015-08-18T00:00:00\",\"2015-08-19T00:00:00\",\"2015-08-20T00:00:00\",\"2015-08-21T00:00:00\",\"2015-08-24T00:00:00\",\"2015-08-25T00:00:00\",\"2015-08-26T00:00:00\",\"2015-08-27T00:00:00\",\"2015-08-28T00:00:00\",\"2015-08-31T00:00:00\",\"2015-09-01T00:00:00\",\"2015-09-02T00:00:00\",\"2015-09-03T00:00:00\",\"2015-09-04T00:00:00\",\"2015-09-06T00:00:00\",\"2015-09-07T00:00:00\",\"2015-09-09T00:00:00\",\"2015-09-10T00:00:00\",\"2015-09-11T00:00:00\",\"2015-09-14T00:00:00\",\"2015-09-15T00:00:00\",\"2015-09-16T00:00:00\",\"2015-09-18T00:00:00\",\"2015-09-21T00:00:00\",\"2015-09-22T00:00:00\",\"2015-09-23T00:00:00\",\"2015-09-24T00:00:00\",\"2015-09-28T00:00:00\",\"2015-09-29T00:00:00\",\"2015-09-30T00:00:00\",\"2015-10-02T00:00:00\",\"2015-10-03T00:00:00\",\"2015-10-04T00:00:00\",\"2015-10-06T00:00:00\",\"2015-10-07T00:00:00\",\"2015-10-08T00:00:00\",\"2015-10-09T00:00:00\",\"2015-10-11T00:00:00\",\"2015-10-13T00:00:00\",\"2015-10-14T00:00:00\",\"2015-10-15T00:00:00\",\"2015-10-16T00:00:00\",\"2015-10-19T00:00:00\",\"2015-10-20T00:00:00\",\"2015-10-21T00:00:00\",\"2015-10-23T00:00:00\",\"2015-10-26T00:00:00\",\"2015-10-27T00:00:00\",\"2015-10-28T00:00:00\",\"2015-10-29T00:00:00\",\"2015-10-30T00:00:00\",\"2015-11-02T00:00:00\",\"2015-11-03T00:00:00\",\"2015-11-05T00:00:00\",\"2015-11-06T00:00:00\",\"2015-11-08T00:00:00\",\"2015-11-09T00:00:00\",\"2015-11-11T00:00:00\",\"2015-11-13T00:00:00\",\"2015-11-16T00:00:00\",\"2015-11-17T00:00:00\",\"2015-11-18T00:00:00\",\"2015-11-19T00:00:00\",\"2015-11-20T00:00:00\",\"2015-11-23T00:00:00\",\"2015-11-24T00:00:00\",\"2015-11-26T00:00:00\",\"2015-11-27T00:00:00\",\"2015-11-30T00:00:00\",\"2015-12-01T00:00:00\",\"2015-12-02T00:00:00\",\"2015-12-03T00:00:00\",\"2015-12-05T00:00:00\",\"2015-12-06T00:00:00\",\"2015-12-08T00:00:00\",\"2015-12-10T00:00:00\",\"2015-12-31T00:00:00\",\"2016-01-31T00:00:00\",\"2016-02-29T00:00:00\",\"2016-03-31T00:00:00\",\"2016-04-30T00:00:00\",\"2016-05-31T00:00:00\",\"2016-06-30T00:00:00\",\"2016-07-31T00:00:00\",\"2016-08-31T00:00:00\",\"2016-09-30T00:00:00\",\"2016-10-31T00:00:00\",\"2016-11-30T00:00:00\",\"2016-12-31T00:00:00\",\"2017-01-31T00:00:00\",\"2017-02-28T00:00:00\",\"2017-03-31T00:00:00\",\"2017-04-30T00:00:00\",\"2017-05-31T00:00:00\",\"2017-06-30T00:00:00\",\"2017-07-31T00:00:00\"],\"y\":[2617.8237584561252,2663.430769121027,2651.0456244430975,2513.1863945448026,2597.9119745076546,2601.5296488058852,2450.8517725165934,2687.545606695675,2445.7904721502578,2613.801449777243,2620.0929447841077,2406.936101774465,2565.9316801093264,2521.560493603558,2543.0595422158513,2548.375519818358,2599.8561753429162,2497.3750743884193,2538.8204497287543,2562.320235004847,2587.6141211302597,2394.1499503125533,2610.0088928620694,2526.570595684561,2534.170114370216,2438.9195071077756,2446.755232979844,2512.1013154928437,2503.15897168424,2355.1044916011265,2420.3099710028578,2518.0236279537803,2474.964366419545,2401.6422830728065,2533.754787845011,2396.1177898599312,2501.3925605443865,2489.719322145969,2416.404320930754,2315.883479050697,2544.1685299441347,2430.9437851182524,2448.4012119783447,2483.773945612642,2357.123585000811,2365.506251383086,2466.7528983933644,2330.149707156469,2495.030379929308,2344.4779488002314,2451.9593059676295,2445.2488975764777,2293.5594858994864,2522.820752789195,2318.456271034839,2416.9698664667426,2386.4551852171544,2288.339104253691,2472.191270146198,2409.9320318836267,2396.1220207631386,2423.0276540375753,2276.944901099203,2298.451789614917,2334.258739468241,2394.759268077899,2269.705315167994,2329.634830741109,2375.3486449359107,2390.0973223406904,2284.591588718296,2432.0625000160035,2284.858504972948,2420.060239175373,2319.9068935649084,2199.4764225434906,2407.916009371106,2249.6377526686206,2277.56348986648,2301.418841392037,2353.769570243136,2325.9941850201426,2366.3227930159164,2258.3064283056224,2278.352425581633,2342.1657739743614,2197.035172739904,2211.9564326217137,2300.882193032307,2304.1838148650954,2157.6238821227507,2299.5392347562206,2254.9122110843214,2299.9207326016244,2283.69665959797,2171.782340085668,2336.23683258764,2196.4636056928694,2240.335557233716,2236.5867692567995,2152.027941628254,2298.1451007978303,2209.3822878049436,2282.610837955816,2253.7850902001437,2098.0170172910125,2119.1060269333143,2256.5836777744857,2119.0463562064783,2239.0869135217854,2123.165733255452,2227.2535760632763,2170.0386062903717,2076.833598622747,2305.279988839428,2086.1336602302194,2190.393576192795,2202.5382348944568,2040.9439276596231,2204.6739924933377,2108.176940850731,2128.138356164603,2188.04354966529,2265.348255376023,2099.711839414326,2185.265902740844,2177.4633059607045,2013.843980837362,2169.9074872847873,2123.7727799841273,2125.8688805033125,2160.5947601592648,1984.6467404575264,2177.4062870263365,2054.8511889998285,2088.61704946569,2122.1485813715194,2020.5826321956522,2100.726184238232,2042.6963859904802,2095.568839402709,2132.2200697827957,2085.7946157573797,2182.954476560521,2086.0732875774897,2077.1434656539823,2088.4601384056054,2121.9235502729903,1980.5990809732243,2059.621805173381,2127.3784488902515,1948.1853458467513,2111.0865741106786,1971.6310505444214,2083.1395494647677,2028.1687667933536,1898.2319289344339,2098.6824529004034,1957.4047971415666,2023.6973375404739,2069.747721237677,1916.5375768397907,2122.0409259425955,1950.5167121122277,2052.4466399488842,2010.816083459284,2070.666490822908,1862.2853941032924,1939.0688883741234,2007.0825941244047,1972.2313425667592,1868.3757421309854,2064.739594847526,1926.8511947578913,1974.4436364261508,1872.1196595091285,2043.7757149235858,1878.9687714015395,1929.4337799276027,1824.6727504163023,2051.794778908383,1858.943640940387,1933.2960311034274,1979.2574276939456,1964.0979338683476,2011.2123211183698,1864.5707482910389,1927.8345805674949,1946.4195874677894,1956.595563261693,2011.5956505995946,1865.0778942501777,1894.6934039553714,1934.7973463970693,1780.8702681314753,1961.806857205361,1864.5945107408945,1920.4764615743948,1738.8136526241265,1929.350615797943,1807.3140387197143,1869.8847066180854,1828.7935468827025,1776.3468553735859,1951.9049919379438,1848.0737691094116,1828.554803278921,1879.3217524026759,1689.245358493287,1767.8492418819762,1808.2943452493635,1697.6561528217733,1912.4991288625606,1829.0835436902807,1799.7901742006234,1823.5853439822654,1721.5146270097669,1897.7238693119305,1756.4599601296,1770.3914249304985,1665.3852672550224,1849.703352397672,1751.3939082373718,1791.2952012101182,1819.3543057834497,1820.2553453134565,1843.0887242730284,1774.144728473082,1727.756800932832,1659.0289934572788,1492.1089905359959,1512.3229896968783,1415.0738692143923,1450.8656975263364,1284.3273831808497,1254.2973146076793,1052.0581117446923,1073.159631740425,890.030276595951,865.4696252816133,884.5828270203828,820.232256644636,753.4594538696715,647.6436742353704,526.9728128980873,443.75210247212436,410.4957203304512,192.3486459288606],\"type\":\"scatter\"}],                        {\"height\":600,\"showlegend\":false,\"width\":900,\"xaxis\":{\"rangeselector\":{\"buttons\":[{\"count\":7,\"label\":\"1w\",\"step\":\"day\",\"stepmode\":\"backward\"},{\"count\":1,\"label\":\"1m\",\"step\":\"month\",\"stepmode\":\"backward\"},{\"count\":6,\"label\":\"6m\",\"step\":\"month\",\"stepmode\":\"backward\"},{\"count\":1,\"label\":\"1y\",\"step\":\"year\",\"stepmode\":\"backward\"},{\"step\":\"all\"}]},\"rangeslider\":{\"visible\":true},\"title\":{\"text\":\"ds\"},\"type\":\"date\"},\"yaxis\":{\"title\":{\"text\":\"y\"}},\"template\":{\"data\":{\"histogram2dcontour\":[{\"type\":\"histogram2dcontour\",\"colorbar\":{\"outlinewidth\":0,\"ticks\":\"\"},\"colorscale\":[[0.0,\"#0d0887\"],[0.1111111111111111,\"#46039f\"],[0.2222222222222222,\"#7201a8\"],[0.3333333333333333,\"#9c179e\"],[0.4444444444444444,\"#bd3786\"],[0.5555555555555556,\"#d8576b\"],[0.6666666666666666,\"#ed7953\"],[0.7777777777777778,\"#fb9f3a\"],[0.8888888888888888,\"#fdca26\"],[1.0,\"#f0f921\"]]}],\"choropleth\":[{\"type\":\"choropleth\",\"colorbar\":{\"outlinewidth\":0,\"ticks\":\"\"}}],\"histogram2d\":[{\"type\":\"histogram2d\",\"colorbar\":{\"outlinewidth\":0,\"ticks\":\"\"},\"colorscale\":[[0.0,\"#0d0887\"],[0.1111111111111111,\"#46039f\"],[0.2222222222222222,\"#7201a8\"],[0.3333333333333333,\"#9c179e\"],[0.4444444444444444,\"#bd3786\"],[0.5555555555555556,\"#d8576b\"],[0.6666666666666666,\"#ed7953\"],[0.7777777777777778,\"#fb9f3a\"],[0.8888888888888888,\"#fdca26\"],[1.0,\"#f0f921\"]]}],\"heatmap\":[{\"type\":\"heatmap\",\"colorbar\":{\"outlinewidth\":0,\"ticks\":\"\"},\"colorscale\":[[0.0,\"#0d0887\"],[0.1111111111111111,\"#46039f\"],[0.2222222222222222,\"#7201a8\"],[0.3333333333333333,\"#9c179e\"],[0.4444444444444444,\"#bd3786\"],[0.5555555555555556,\"#d8576b\"],[0.6666666666666666,\"#ed7953\"],[0.7777777777777778,\"#fb9f3a\"],[0.8888888888888888,\"#fdca26\"],[1.0,\"#f0f921\"]]}],\"heatmapgl\":[{\"type\":\"heatmapgl\",\"colorbar\":{\"outlinewidth\":0,\"ticks\":\"\"},\"colorscale\":[[0.0,\"#0d0887\"],[0.1111111111111111,\"#46039f\"],[0.2222222222222222,\"#7201a8\"],[0.3333333333333333,\"#9c179e\"],[0.4444444444444444,\"#bd3786\"],[0.5555555555555556,\"#d8576b\"],[0.6666666666666666,\"#ed7953\"],[0.7777777777777778,\"#fb9f3a\"],[0.8888888888888888,\"#fdca26\"],[1.0,\"#f0f921\"]]}],\"contourcarpet\":[{\"type\":\"contourcarpet\",\"colorbar\":{\"outlinewidth\":0,\"ticks\":\"\"}}],\"contour\":[{\"type\":\"contour\",\"colorbar\":{\"outlinewidth\":0,\"ticks\":\"\"},\"colorscale\":[[0.0,\"#0d0887\"],[0.1111111111111111,\"#46039f\"],[0.2222222222222222,\"#7201a8\"],[0.3333333333333333,\"#9c179e\"],[0.4444444444444444,\"#bd3786\"],[0.5555555555555556,\"#d8576b\"],[0.6666666666666666,\"#ed7953\"],[0.7777777777777778,\"#fb9f3a\"],[0.8888888888888888,\"#fdca26\"],[1.0,\"#f0f921\"]]}],\"surface\":[{\"type\":\"surface\",\"colorbar\":{\"outlinewidth\":0,\"ticks\":\"\"},\"colorscale\":[[0.0,\"#0d0887\"],[0.1111111111111111,\"#46039f\"],[0.2222222222222222,\"#7201a8\"],[0.3333333333333333,\"#9c179e\"],[0.4444444444444444,\"#bd3786\"],[0.5555555555555556,\"#d8576b\"],[0.6666666666666666,\"#ed7953\"],[0.7777777777777778,\"#fb9f3a\"],[0.8888888888888888,\"#fdca26\"],[1.0,\"#f0f921\"]]}],\"mesh3d\":[{\"type\":\"mesh3d\",\"colorbar\":{\"outlinewidth\":0,\"ticks\":\"\"}}],\"scatter\":[{\"fillpattern\":{\"fillmode\":\"overlay\",\"size\":10,\"solidity\":0.2},\"type\":\"scatter\"}],\"parcoords\":[{\"type\":\"parcoords\",\"line\":{\"colorbar\":{\"outlinewidth\":0,\"ticks\":\"\"}}}],\"scatterpolargl\":[{\"type\":\"scatterpolargl\",\"marker\":{\"colorbar\":{\"outlinewidth\":0,\"ticks\":\"\"}}}],\"bar\":[{\"error_x\":{\"color\":\"#2a3f5f\"},\"error_y\":{\"color\":\"#2a3f5f\"},\"marker\":{\"line\":{\"color\":\"#E5ECF6\",\"width\":0.5},\"pattern\":{\"fillmode\":\"overlay\",\"size\":10,\"solidity\":0.2}},\"type\":\"bar\"}],\"scattergeo\":[{\"type\":\"scattergeo\",\"marker\":{\"colorbar\":{\"outlinewidth\":0,\"ticks\":\"\"}}}],\"scatterpolar\":[{\"type\":\"scatterpolar\",\"marker\":{\"colorbar\":{\"outlinewidth\":0,\"ticks\":\"\"}}}],\"histogram\":[{\"marker\":{\"pattern\":{\"fillmode\":\"overlay\",\"size\":10,\"solidity\":0.2}},\"type\":\"histogram\"}],\"scattergl\":[{\"type\":\"scattergl\",\"marker\":{\"colorbar\":{\"outlinewidth\":0,\"ticks\":\"\"}}}],\"scatter3d\":[{\"type\":\"scatter3d\",\"line\":{\"colorbar\":{\"outlinewidth\":0,\"ticks\":\"\"}},\"marker\":{\"colorbar\":{\"outlinewidth\":0,\"ticks\":\"\"}}}],\"scattermapbox\":[{\"type\":\"scattermapbox\",\"marker\":{\"colorbar\":{\"outlinewidth\":0,\"ticks\":\"\"}}}],\"scatterternary\":[{\"type\":\"scatterternary\",\"marker\":{\"colorbar\":{\"outlinewidth\":0,\"ticks\":\"\"}}}],\"scattercarpet\":[{\"type\":\"scattercarpet\",\"marker\":{\"colorbar\":{\"outlinewidth\":0,\"ticks\":\"\"}}}],\"carpet\":[{\"aaxis\":{\"endlinecolor\":\"#2a3f5f\",\"gridcolor\":\"white\",\"linecolor\":\"white\",\"minorgridcolor\":\"white\",\"startlinecolor\":\"#2a3f5f\"},\"baxis\":{\"endlinecolor\":\"#2a3f5f\",\"gridcolor\":\"white\",\"linecolor\":\"white\",\"minorgridcolor\":\"white\",\"startlinecolor\":\"#2a3f5f\"},\"type\":\"carpet\"}],\"table\":[{\"cells\":{\"fill\":{\"color\":\"#EBF0F8\"},\"line\":{\"color\":\"white\"}},\"header\":{\"fill\":{\"color\":\"#C8D4E3\"},\"line\":{\"color\":\"white\"}},\"type\":\"table\"}],\"barpolar\":[{\"marker\":{\"line\":{\"color\":\"#E5ECF6\",\"width\":0.5},\"pattern\":{\"fillmode\":\"overlay\",\"size\":10,\"solidity\":0.2}},\"type\":\"barpolar\"}],\"pie\":[{\"automargin\":true,\"type\":\"pie\"}]},\"layout\":{\"autotypenumbers\":\"strict\",\"colorway\":[\"#636efa\",\"#EF553B\",\"#00cc96\",\"#ab63fa\",\"#FFA15A\",\"#19d3f3\",\"#FF6692\",\"#B6E880\",\"#FF97FF\",\"#FECB52\"],\"font\":{\"color\":\"#2a3f5f\"},\"hovermode\":\"closest\",\"hoverlabel\":{\"align\":\"left\"},\"paper_bgcolor\":\"white\",\"plot_bgcolor\":\"#E5ECF6\",\"polar\":{\"bgcolor\":\"#E5ECF6\",\"angularaxis\":{\"gridcolor\":\"white\",\"linecolor\":\"white\",\"ticks\":\"\"},\"radialaxis\":{\"gridcolor\":\"white\",\"linecolor\":\"white\",\"ticks\":\"\"}},\"ternary\":{\"bgcolor\":\"#E5ECF6\",\"aaxis\":{\"gridcolor\":\"white\",\"linecolor\":\"white\",\"ticks\":\"\"},\"baxis\":{\"gridcolor\":\"white\",\"linecolor\":\"white\",\"ticks\":\"\"},\"caxis\":{\"gridcolor\":\"white\",\"linecolor\":\"white\",\"ticks\":\"\"}},\"coloraxis\":{\"colorbar\":{\"outlinewidth\":0,\"ticks\":\"\"}},\"colorscale\":{\"sequential\":[[0.0,\"#0d0887\"],[0.1111111111111111,\"#46039f\"],[0.2222222222222222,\"#7201a8\"],[0.3333333333333333,\"#9c179e\"],[0.4444444444444444,\"#bd3786\"],[0.5555555555555556,\"#d8576b\"],[0.6666666666666666,\"#ed7953\"],[0.7777777777777778,\"#fb9f3a\"],[0.8888888888888888,\"#fdca26\"],[1.0,\"#f0f921\"]],\"sequentialminus\":[[0.0,\"#0d0887\"],[0.1111111111111111,\"#46039f\"],[0.2222222222222222,\"#7201a8\"],[0.3333333333333333,\"#9c179e\"],[0.4444444444444444,\"#bd3786\"],[0.5555555555555556,\"#d8576b\"],[0.6666666666666666,\"#ed7953\"],[0.7777777777777778,\"#fb9f3a\"],[0.8888888888888888,\"#fdca26\"],[1.0,\"#f0f921\"]],\"diverging\":[[0,\"#8e0152\"],[0.1,\"#c51b7d\"],[0.2,\"#de77ae\"],[0.3,\"#f1b6da\"],[0.4,\"#fde0ef\"],[0.5,\"#f7f7f7\"],[0.6,\"#e6f5d0\"],[0.7,\"#b8e186\"],[0.8,\"#7fbc41\"],[0.9,\"#4d9221\"],[1,\"#276419\"]]},\"xaxis\":{\"gridcolor\":\"white\",\"linecolor\":\"white\",\"ticks\":\"\",\"title\":{\"standoff\":15},\"zerolinecolor\":\"white\",\"automargin\":true,\"zerolinewidth\":2},\"yaxis\":{\"gridcolor\":\"white\",\"linecolor\":\"white\",\"ticks\":\"\",\"title\":{\"standoff\":15},\"zerolinecolor\":\"white\",\"automargin\":true,\"zerolinewidth\":2},\"scene\":{\"xaxis\":{\"backgroundcolor\":\"#E5ECF6\",\"gridcolor\":\"white\",\"linecolor\":\"white\",\"showbackground\":true,\"ticks\":\"\",\"zerolinecolor\":\"white\",\"gridwidth\":2},\"yaxis\":{\"backgroundcolor\":\"#E5ECF6\",\"gridcolor\":\"white\",\"linecolor\":\"white\",\"showbackground\":true,\"ticks\":\"\",\"zerolinecolor\":\"white\",\"gridwidth\":2},\"zaxis\":{\"backgroundcolor\":\"#E5ECF6\",\"gridcolor\":\"white\",\"linecolor\":\"white\",\"showbackground\":true,\"ticks\":\"\",\"zerolinecolor\":\"white\",\"gridwidth\":2}},\"shapedefaults\":{\"line\":{\"color\":\"#2a3f5f\"}},\"annotationdefaults\":{\"arrowcolor\":\"#2a3f5f\",\"arrowhead\":0,\"arrowwidth\":1},\"geo\":{\"bgcolor\":\"white\",\"landcolor\":\"#E5ECF6\",\"subunitcolor\":\"white\",\"showland\":true,\"showlakes\":true,\"lakecolor\":\"white\"},\"title\":{\"x\":0.05},\"mapbox\":{\"style\":\"light\"}}}},                        {\"responsive\": true}                    ).then(function(){\n",
              "                            \n",
              "var gd = document.getElementById('cbac787a-4524-49d2-8326-94919f6ed03b');\n",
              "var x = new MutationObserver(function (mutations, observer) {{\n",
              "        var display = window.getComputedStyle(gd).display;\n",
              "        if (!display || display === 'none') {{\n",
              "            console.log([gd, 'removed!']);\n",
              "            Plotly.purge(gd);\n",
              "            observer.disconnect();\n",
              "        }}\n",
              "}});\n",
              "\n",
              "// Listen for the removal of the full notebook cells\n",
              "var notebookContainer = gd.closest('#notebook-container');\n",
              "if (notebookContainer) {{\n",
              "    x.observe(notebookContainer, {childList: true});\n",
              "}}\n",
              "\n",
              "// Listen for the clearing of the current output cell\n",
              "var outputEl = gd.closest('.output');\n",
              "if (outputEl) {{\n",
              "    x.observe(outputEl, {childList: true});\n",
              "}}\n",
              "\n",
              "                        })                };                            </script>        </div>\n",
              "</body>\n",
              "</html>"
            ]
          },
          "metadata": {}
        }
      ]
    },
    {
      "cell_type": "code",
      "source": [
        "plot_components_plotly(m, forecast)"
      ],
      "metadata": {
        "colab": {
          "base_uri": "https://localhost:8080/",
          "height": 417
        },
        "id": "V3q3ANvFApOg",
        "outputId": "d85e4f5d-e542-431a-f0b8-bcf9e3d5c1ef"
      },
      "id": "V3q3ANvFApOg",
      "execution_count": 78,
      "outputs": [
        {
          "output_type": "display_data",
          "data": {
            "text/html": [
              "<html>\n",
              "<head><meta charset=\"utf-8\" /></head>\n",
              "<body>\n",
              "    <div>            <script src=\"https://cdnjs.cloudflare.com/ajax/libs/mathjax/2.7.5/MathJax.js?config=TeX-AMS-MML_SVG\"></script><script type=\"text/javascript\">if (window.MathJax && window.MathJax.Hub && window.MathJax.Hub.Config) {window.MathJax.Hub.Config({SVG: {font: \"STIX-Web\"}});}</script>                <script type=\"text/javascript\">window.PlotlyConfig = {MathJaxConfig: 'local'};</script>\n",
              "        <script src=\"https://cdn.plot.ly/plotly-2.18.2.min.js\"></script>                <div id=\"2a1b44b3-a062-41ea-b581-d3ef6e4ee772\" class=\"plotly-graph-div\" style=\"height:400px; width:900px;\"></div>            <script type=\"text/javascript\">                                    window.PLOTLYENV=window.PLOTLYENV || {};                                    if (document.getElementById(\"2a1b44b3-a062-41ea-b581-d3ef6e4ee772\")) {                    Plotly.newPlot(                        \"2a1b44b3-a062-41ea-b581-d3ef6e4ee772\",                        [{\"line\":{\"color\":\"#0072B2\",\"width\":2},\"mode\":\"lines\",\"name\":\"trend\",\"x\":[\"2015-01-01T00:00:00\",\"2015-01-04T00:00:00\",\"2015-01-06T00:00:00\",\"2015-01-07T00:00:00\",\"2015-01-09T00:00:00\",\"2015-01-10T00:00:00\",\"2015-01-12T00:00:00\",\"2015-01-13T00:00:00\",\"2015-01-14T00:00:00\",\"2015-01-15T00:00:00\",\"2015-01-16T00:00:00\",\"2015-01-19T00:00:00\",\"2015-01-20T00:00:00\",\"2015-01-21T00:00:00\",\"2015-01-22T00:00:00\",\"2015-01-23T00:00:00\",\"2015-01-27T00:00:00\",\"2015-01-28T00:00:00\",\"2015-01-29T00:00:00\",\"2015-01-30T00:00:00\",\"2015-02-01T00:00:00\",\"2015-02-02T00:00:00\",\"2015-02-03T00:00:00\",\"2015-02-06T00:00:00\",\"2015-02-07T00:00:00\",\"2015-02-09T00:00:00\",\"2015-02-11T00:00:00\",\"2015-02-12T00:00:00\",\"2015-02-13T00:00:00\",\"2015-02-16T00:00:00\",\"2015-02-18T00:00:00\",\"2015-02-19T00:00:00\",\"2015-02-20T00:00:00\",\"2015-02-23T00:00:00\",\"2015-02-24T00:00:00\",\"2015-02-25T00:00:00\",\"2015-02-26T00:00:00\",\"2015-02-27T00:00:00\",\"2015-02-28T00:00:00\",\"2015-03-02T00:00:00\",\"2015-03-03T00:00:00\",\"2015-03-06T00:00:00\",\"2015-03-07T00:00:00\",\"2015-03-08T00:00:00\",\"2015-03-09T00:00:00\",\"2015-03-11T00:00:00\",\"2015-03-13T00:00:00\",\"2015-03-16T00:00:00\",\"2015-03-17T00:00:00\",\"2015-03-18T00:00:00\",\"2015-03-19T00:00:00\",\"2015-03-20T00:00:00\",\"2015-03-23T00:00:00\",\"2015-03-24T00:00:00\",\"2015-03-25T00:00:00\",\"2015-03-26T00:00:00\",\"2015-03-27T00:00:00\",\"2015-03-30T00:00:00\",\"2015-03-31T00:00:00\",\"2015-04-02T00:00:00\",\"2015-04-03T00:00:00\",\"2015-04-05T00:00:00\",\"2015-04-06T00:00:00\",\"2015-04-08T00:00:00\",\"2015-04-09T00:00:00\",\"2015-04-11T00:00:00\",\"2015-04-13T00:00:00\",\"2015-04-15T00:00:00\",\"2015-04-16T00:00:00\",\"2015-04-17T00:00:00\",\"2015-04-20T00:00:00\",\"2015-04-21T00:00:00\",\"2015-04-22T00:00:00\",\"2015-04-23T00:00:00\",\"2015-04-24T00:00:00\",\"2015-04-27T00:00:00\",\"2015-04-28T00:00:00\",\"2015-04-29T00:00:00\",\"2015-04-30T00:00:00\",\"2015-05-01T00:00:00\",\"2015-05-02T00:00:00\",\"2015-05-03T00:00:00\",\"2015-05-05T00:00:00\",\"2015-05-06T00:00:00\",\"2015-05-08T00:00:00\",\"2015-05-10T00:00:00\",\"2015-05-11T00:00:00\",\"2015-05-13T00:00:00\",\"2015-05-14T00:00:00\",\"2015-05-15T00:00:00\",\"2015-05-18T00:00:00\",\"2015-05-19T00:00:00\",\"2015-05-20T00:00:00\",\"2015-05-21T00:00:00\",\"2015-05-22T00:00:00\",\"2015-05-25T00:00:00\",\"2015-05-26T00:00:00\",\"2015-05-27T00:00:00\",\"2015-05-28T00:00:00\",\"2015-05-29T00:00:00\",\"2015-06-01T00:00:00\",\"2015-06-02T00:00:00\",\"2015-06-04T00:00:00\",\"2015-06-05T00:00:00\",\"2015-06-07T00:00:00\",\"2015-06-08T00:00:00\",\"2015-06-10T00:00:00\",\"2015-06-11T00:00:00\",\"2015-06-15T00:00:00\",\"2015-06-16T00:00:00\",\"2015-06-17T00:00:00\",\"2015-06-18T00:00:00\",\"2015-06-19T00:00:00\",\"2015-06-22T00:00:00\",\"2015-06-23T00:00:00\",\"2015-06-24T00:00:00\",\"2015-06-25T00:00:00\",\"2015-06-26T00:00:00\",\"2015-06-29T00:00:00\",\"2015-06-30T00:00:00\",\"2015-07-01T00:00:00\",\"2015-07-04T00:00:00\",\"2015-07-05T00:00:00\",\"2015-07-07T00:00:00\",\"2015-07-08T00:00:00\",\"2015-07-09T00:00:00\",\"2015-07-10T00:00:00\",\"2015-07-13T00:00:00\",\"2015-07-14T00:00:00\",\"2015-07-15T00:00:00\",\"2015-07-16T00:00:00\",\"2015-07-17T00:00:00\",\"2015-07-20T00:00:00\",\"2015-07-21T00:00:00\",\"2015-07-22T00:00:00\",\"2015-07-23T00:00:00\",\"2015-07-24T00:00:00\",\"2015-07-27T00:00:00\",\"2015-07-28T00:00:00\",\"2015-07-29T00:00:00\",\"2015-07-30T00:00:00\",\"2015-07-31T00:00:00\",\"2015-08-01T00:00:00\",\"2015-08-04T00:00:00\",\"2015-08-05T00:00:00\",\"2015-08-06T00:00:00\",\"2015-08-07T00:00:00\",\"2015-08-09T00:00:00\",\"2015-08-10T00:00:00\",\"2015-08-13T00:00:00\",\"2015-08-14T00:00:00\",\"2015-08-17T00:00:00\",\"2015-08-18T00:00:00\",\"2015-08-19T00:00:00\",\"2015-08-20T00:00:00\",\"2015-08-21T00:00:00\",\"2015-08-24T00:00:00\",\"2015-08-25T00:00:00\",\"2015-08-26T00:00:00\",\"2015-08-27T00:00:00\",\"2015-08-28T00:00:00\",\"2015-08-31T00:00:00\",\"2015-09-01T00:00:00\",\"2015-09-02T00:00:00\",\"2015-09-03T00:00:00\",\"2015-09-04T00:00:00\",\"2015-09-06T00:00:00\",\"2015-09-07T00:00:00\",\"2015-09-09T00:00:00\",\"2015-09-10T00:00:00\",\"2015-09-11T00:00:00\",\"2015-09-14T00:00:00\",\"2015-09-15T00:00:00\",\"2015-09-16T00:00:00\",\"2015-09-18T00:00:00\",\"2015-09-21T00:00:00\",\"2015-09-22T00:00:00\",\"2015-09-23T00:00:00\",\"2015-09-24T00:00:00\",\"2015-09-28T00:00:00\",\"2015-09-29T00:00:00\",\"2015-09-30T00:00:00\",\"2015-10-02T00:00:00\",\"2015-10-03T00:00:00\",\"2015-10-04T00:00:00\",\"2015-10-06T00:00:00\",\"2015-10-07T00:00:00\",\"2015-10-08T00:00:00\",\"2015-10-09T00:00:00\",\"2015-10-11T00:00:00\",\"2015-10-13T00:00:00\",\"2015-10-14T00:00:00\",\"2015-10-15T00:00:00\",\"2015-10-16T00:00:00\",\"2015-10-19T00:00:00\",\"2015-10-20T00:00:00\",\"2015-10-21T00:00:00\",\"2015-10-23T00:00:00\",\"2015-10-26T00:00:00\",\"2015-10-27T00:00:00\",\"2015-10-28T00:00:00\",\"2015-10-29T00:00:00\",\"2015-10-30T00:00:00\",\"2015-11-02T00:00:00\",\"2015-11-03T00:00:00\",\"2015-11-05T00:00:00\",\"2015-11-06T00:00:00\",\"2015-11-08T00:00:00\",\"2015-11-09T00:00:00\",\"2015-11-11T00:00:00\",\"2015-11-13T00:00:00\",\"2015-11-16T00:00:00\",\"2015-11-17T00:00:00\",\"2015-11-18T00:00:00\",\"2015-11-19T00:00:00\",\"2015-11-20T00:00:00\",\"2015-11-23T00:00:00\",\"2015-11-24T00:00:00\",\"2015-11-26T00:00:00\",\"2015-11-27T00:00:00\",\"2015-11-30T00:00:00\",\"2015-12-01T00:00:00\",\"2015-12-02T00:00:00\",\"2015-12-03T00:00:00\",\"2015-12-05T00:00:00\",\"2015-12-06T00:00:00\",\"2015-12-08T00:00:00\",\"2015-12-10T00:00:00\",\"2015-12-31T00:00:00\",\"2016-01-31T00:00:00\",\"2016-02-29T00:00:00\",\"2016-03-31T00:00:00\",\"2016-04-30T00:00:00\",\"2016-05-31T00:00:00\",\"2016-06-30T00:00:00\",\"2016-07-31T00:00:00\",\"2016-08-31T00:00:00\",\"2016-09-30T00:00:00\",\"2016-10-31T00:00:00\",\"2016-11-30T00:00:00\",\"2016-12-31T00:00:00\",\"2017-01-31T00:00:00\",\"2017-02-28T00:00:00\",\"2017-03-31T00:00:00\",\"2017-04-30T00:00:00\",\"2017-05-31T00:00:00\",\"2017-06-30T00:00:00\",\"2017-07-31T00:00:00\"],\"y\":[2015.6180161300001,2008.2878868048397,2003.4011339213996,2000.9577574796795,1996.0710045962392,1993.627628154519,1988.740875271079,1986.2974988293588,1983.8541217233449,1981.4107446173311,1978.9673675113174,1971.6372361932763,1969.1938590872626,1966.7504819812489,1964.307104875235,1961.8637278164451,1952.0902195812855,1949.6468425224955,1947.203465463706,1944.760088404916,1939.873334287336,1937.4299572285463,1934.9865801697565,1927.6546735143354,1925.2107046291947,1920.3227668589138,1915.4348290886333,1912.9908602034927,1910.5468913183524,1903.2149846629309,1898.3270469463089,1895.883078087998,1893.4391092296871,1886.107202654754,1883.6632337964431,1881.2192649381323,1878.7752960798211,1876.3313251466343,1873.8873542134477,1868.9994123470742,1866.5554414138874,1859.2235286143268,1856.7795576811402,1854.3355867479534,1851.8916158699633,1847.0036741139832,1842.115732358003,1834.7838197240324,1832.3398488460425,1829.8958779680524,1827.4519070900624,1825.0079362120723,1817.676023856212,1815.232053070925,1812.7880822856384,1810.3441115003516,1807.900140715065,1800.5682283592048,1798.1242575739177,1793.236315498705,1790.7923444610983,1785.9044023858855,1783.4604313482791,1778.5724892730661,1776.1285182354598,1771.240576160247,1766.3526341334343,1761.4646921066212,1759.020721093215,1756.5767500798086,1749.2448370395894,1746.800866026183,1744.3568950127767,1741.9129239297208,1739.4689528466647,1732.137039597497,1729.6930685144412,1727.249097431385,1724.8051263483292,1722.3611552652733,1719.9171841822174,1717.4732130982716,1712.5852709303797,1710.1412998464336,1705.2533576785418,1700.3654155106497,1697.9214444267038,1693.033502258812,1690.5895311955717,1688.1455601323314,1680.813646942611,1678.369675879371,1675.9257048161307,1673.4817337528907,1671.037762689651,1663.7058492281387,1661.2618780743016,1658.8179069204646,1656.373935766627,1653.92996461279,1646.5980511512782,1644.154079997441,1639.2661377323084,1636.822166599742,1631.9342243346096,1629.4902532020435,1624.6023109369112,1622.158339804345,1612.3824552740798,1609.9384841415138,1607.4945130192687,1605.0505418970235,1602.6065707747787,1595.2746574080431,1592.8306862857985,1590.3867151635534,1587.9427440413083,1585.4987729499376,1578.1668596758261,1575.7228885844556,1573.278917493085,1565.9470042189735,1563.503033127603,1558.6150909448615,1556.1711201538906,1553.7271493629196,1551.2831785719484,1543.9512661990352,1541.507295408064,1539.063324617093,1536.619353826122,1534.175383633488,1526.8434730555862,1524.3995028629522,1521.9555326703185,1519.5115624776845,1517.067592285051,1509.735681707149,1507.2917115145153,1504.8477430364621,1502.403774558409,1499.9598060803557,1497.5158376023023,1490.1839321681427,1487.7399636900898,1485.295995212036,1482.8520268753562,1477.964090201997,1475.5201218653172,1468.1882168552777,1465.744248518598,1458.4123435085585,1455.9683751718787,1453.5244080241432,1451.0804408764077,1448.6364737286722,1441.3045722854656,1438.86060513773,1436.4166379899946,1433.972670842259,1431.5287040042247,1424.1968034901208,1421.7528366520864,1419.3088698140518,1416.8649029760172,1414.4209361379828,1409.5330024619136,1407.089035623879,1402.2011033142885,1399.7571371594931,1397.313171004698,1389.9812725403121,1387.5373063855168,1385.0933402307217,1380.205407921131,1372.8735098069901,1370.429543768943,1367.9855777308962,1365.5416116928493,1355.7657475406613,1353.3217815026144,1350.8778154645674,1345.989883568617,1343.5459176206418,1341.1019516726665,1336.2140197767162,1333.7700538287409,1331.3260878807655,1328.8821219327906,1323.9941900368399,1319.1062581408896,1316.6622921929143,1314.2183262449391,1311.774360296964,1304.4424624530384,1301.998496505063,1299.554530557088,1294.6665986611374,1287.3347008172118,1284.8907348692364,1282.4467689212613,1280.0028029732862,1277.5588370253108,1270.2269391813852,1267.7829732334098,1262.8950413374596,1260.4510753894842,1255.563143493534,1253.1191775455586,1248.2312456496084,1243.3433137536579,1236.0114159097322,1233.5674499617571,1231.1234840137818,1228.6795180658064,1226.2355521178313,1218.9036542739057,1216.4596883259305,1211.57175642998,1209.127790482005,1201.7958926380793,1199.351926690104,1196.9079607421286,1194.4639947941537,1189.576062898203,1187.1320969502278,1182.2441650542773,1177.356233158327,1126.0329482508473,1050.2700038636156,979.3949913723343,903.6320469851026,830.3130685458459,754.5501241586142,681.2311457193578,605.4682013321259,529.7052569448941,456.38627850563773,380.6233341184057,307.30435567914924,231.54141129191746,155.7784669046859,87.34742036137972,11.584475974147928,-61.734502465108754,-137.49744685234054,-210.81642529159697,-286.57936967882875],\"type\":\"scatter\",\"xaxis\":\"x\",\"yaxis\":\"y\"},{\"line\":{\"color\":\"rgba(0, 114, 178, 0.2)\",\"width\":0},\"mode\":\"lines\",\"name\":\"trend_upper\",\"x\":[\"2015-01-01T00:00:00\",\"2015-01-04T00:00:00\",\"2015-01-06T00:00:00\",\"2015-01-07T00:00:00\",\"2015-01-09T00:00:00\",\"2015-01-10T00:00:00\",\"2015-01-12T00:00:00\",\"2015-01-13T00:00:00\",\"2015-01-14T00:00:00\",\"2015-01-15T00:00:00\",\"2015-01-16T00:00:00\",\"2015-01-19T00:00:00\",\"2015-01-20T00:00:00\",\"2015-01-21T00:00:00\",\"2015-01-22T00:00:00\",\"2015-01-23T00:00:00\",\"2015-01-27T00:00:00\",\"2015-01-28T00:00:00\",\"2015-01-29T00:00:00\",\"2015-01-30T00:00:00\",\"2015-02-01T00:00:00\",\"2015-02-02T00:00:00\",\"2015-02-03T00:00:00\",\"2015-02-06T00:00:00\",\"2015-02-07T00:00:00\",\"2015-02-09T00:00:00\",\"2015-02-11T00:00:00\",\"2015-02-12T00:00:00\",\"2015-02-13T00:00:00\",\"2015-02-16T00:00:00\",\"2015-02-18T00:00:00\",\"2015-02-19T00:00:00\",\"2015-02-20T00:00:00\",\"2015-02-23T00:00:00\",\"2015-02-24T00:00:00\",\"2015-02-25T00:00:00\",\"2015-02-26T00:00:00\",\"2015-02-27T00:00:00\",\"2015-02-28T00:00:00\",\"2015-03-02T00:00:00\",\"2015-03-03T00:00:00\",\"2015-03-06T00:00:00\",\"2015-03-07T00:00:00\",\"2015-03-08T00:00:00\",\"2015-03-09T00:00:00\",\"2015-03-11T00:00:00\",\"2015-03-13T00:00:00\",\"2015-03-16T00:00:00\",\"2015-03-17T00:00:00\",\"2015-03-18T00:00:00\",\"2015-03-19T00:00:00\",\"2015-03-20T00:00:00\",\"2015-03-23T00:00:00\",\"2015-03-24T00:00:00\",\"2015-03-25T00:00:00\",\"2015-03-26T00:00:00\",\"2015-03-27T00:00:00\",\"2015-03-30T00:00:00\",\"2015-03-31T00:00:00\",\"2015-04-02T00:00:00\",\"2015-04-03T00:00:00\",\"2015-04-05T00:00:00\",\"2015-04-06T00:00:00\",\"2015-04-08T00:00:00\",\"2015-04-09T00:00:00\",\"2015-04-11T00:00:00\",\"2015-04-13T00:00:00\",\"2015-04-15T00:00:00\",\"2015-04-16T00:00:00\",\"2015-04-17T00:00:00\",\"2015-04-20T00:00:00\",\"2015-04-21T00:00:00\",\"2015-04-22T00:00:00\",\"2015-04-23T00:00:00\",\"2015-04-24T00:00:00\",\"2015-04-27T00:00:00\",\"2015-04-28T00:00:00\",\"2015-04-29T00:00:00\",\"2015-04-30T00:00:00\",\"2015-05-01T00:00:00\",\"2015-05-02T00:00:00\",\"2015-05-03T00:00:00\",\"2015-05-05T00:00:00\",\"2015-05-06T00:00:00\",\"2015-05-08T00:00:00\",\"2015-05-10T00:00:00\",\"2015-05-11T00:00:00\",\"2015-05-13T00:00:00\",\"2015-05-14T00:00:00\",\"2015-05-15T00:00:00\",\"2015-05-18T00:00:00\",\"2015-05-19T00:00:00\",\"2015-05-20T00:00:00\",\"2015-05-21T00:00:00\",\"2015-05-22T00:00:00\",\"2015-05-25T00:00:00\",\"2015-05-26T00:00:00\",\"2015-05-27T00:00:00\",\"2015-05-28T00:00:00\",\"2015-05-29T00:00:00\",\"2015-06-01T00:00:00\",\"2015-06-02T00:00:00\",\"2015-06-04T00:00:00\",\"2015-06-05T00:00:00\",\"2015-06-07T00:00:00\",\"2015-06-08T00:00:00\",\"2015-06-10T00:00:00\",\"2015-06-11T00:00:00\",\"2015-06-15T00:00:00\",\"2015-06-16T00:00:00\",\"2015-06-17T00:00:00\",\"2015-06-18T00:00:00\",\"2015-06-19T00:00:00\",\"2015-06-22T00:00:00\",\"2015-06-23T00:00:00\",\"2015-06-24T00:00:00\",\"2015-06-25T00:00:00\",\"2015-06-26T00:00:00\",\"2015-06-29T00:00:00\",\"2015-06-30T00:00:00\",\"2015-07-01T00:00:00\",\"2015-07-04T00:00:00\",\"2015-07-05T00:00:00\",\"2015-07-07T00:00:00\",\"2015-07-08T00:00:00\",\"2015-07-09T00:00:00\",\"2015-07-10T00:00:00\",\"2015-07-13T00:00:00\",\"2015-07-14T00:00:00\",\"2015-07-15T00:00:00\",\"2015-07-16T00:00:00\",\"2015-07-17T00:00:00\",\"2015-07-20T00:00:00\",\"2015-07-21T00:00:00\",\"2015-07-22T00:00:00\",\"2015-07-23T00:00:00\",\"2015-07-24T00:00:00\",\"2015-07-27T00:00:00\",\"2015-07-28T00:00:00\",\"2015-07-29T00:00:00\",\"2015-07-30T00:00:00\",\"2015-07-31T00:00:00\",\"2015-08-01T00:00:00\",\"2015-08-04T00:00:00\",\"2015-08-05T00:00:00\",\"2015-08-06T00:00:00\",\"2015-08-07T00:00:00\",\"2015-08-09T00:00:00\",\"2015-08-10T00:00:00\",\"2015-08-13T00:00:00\",\"2015-08-14T00:00:00\",\"2015-08-17T00:00:00\",\"2015-08-18T00:00:00\",\"2015-08-19T00:00:00\",\"2015-08-20T00:00:00\",\"2015-08-21T00:00:00\",\"2015-08-24T00:00:00\",\"2015-08-25T00:00:00\",\"2015-08-26T00:00:00\",\"2015-08-27T00:00:00\",\"2015-08-28T00:00:00\",\"2015-08-31T00:00:00\",\"2015-09-01T00:00:00\",\"2015-09-02T00:00:00\",\"2015-09-03T00:00:00\",\"2015-09-04T00:00:00\",\"2015-09-06T00:00:00\",\"2015-09-07T00:00:00\",\"2015-09-09T00:00:00\",\"2015-09-10T00:00:00\",\"2015-09-11T00:00:00\",\"2015-09-14T00:00:00\",\"2015-09-15T00:00:00\",\"2015-09-16T00:00:00\",\"2015-09-18T00:00:00\",\"2015-09-21T00:00:00\",\"2015-09-22T00:00:00\",\"2015-09-23T00:00:00\",\"2015-09-24T00:00:00\",\"2015-09-28T00:00:00\",\"2015-09-29T00:00:00\",\"2015-09-30T00:00:00\",\"2015-10-02T00:00:00\",\"2015-10-03T00:00:00\",\"2015-10-04T00:00:00\",\"2015-10-06T00:00:00\",\"2015-10-07T00:00:00\",\"2015-10-08T00:00:00\",\"2015-10-09T00:00:00\",\"2015-10-11T00:00:00\",\"2015-10-13T00:00:00\",\"2015-10-14T00:00:00\",\"2015-10-15T00:00:00\",\"2015-10-16T00:00:00\",\"2015-10-19T00:00:00\",\"2015-10-20T00:00:00\",\"2015-10-21T00:00:00\",\"2015-10-23T00:00:00\",\"2015-10-26T00:00:00\",\"2015-10-27T00:00:00\",\"2015-10-28T00:00:00\",\"2015-10-29T00:00:00\",\"2015-10-30T00:00:00\",\"2015-11-02T00:00:00\",\"2015-11-03T00:00:00\",\"2015-11-05T00:00:00\",\"2015-11-06T00:00:00\",\"2015-11-08T00:00:00\",\"2015-11-09T00:00:00\",\"2015-11-11T00:00:00\",\"2015-11-13T00:00:00\",\"2015-11-16T00:00:00\",\"2015-11-17T00:00:00\",\"2015-11-18T00:00:00\",\"2015-11-19T00:00:00\",\"2015-11-20T00:00:00\",\"2015-11-23T00:00:00\",\"2015-11-24T00:00:00\",\"2015-11-26T00:00:00\",\"2015-11-27T00:00:00\",\"2015-11-30T00:00:00\",\"2015-12-01T00:00:00\",\"2015-12-02T00:00:00\",\"2015-12-03T00:00:00\",\"2015-12-05T00:00:00\",\"2015-12-06T00:00:00\",\"2015-12-08T00:00:00\",\"2015-12-10T00:00:00\",\"2015-12-31T00:00:00\",\"2016-01-31T00:00:00\",\"2016-02-29T00:00:00\",\"2016-03-31T00:00:00\",\"2016-04-30T00:00:00\",\"2016-05-31T00:00:00\",\"2016-06-30T00:00:00\",\"2016-07-31T00:00:00\",\"2016-08-31T00:00:00\",\"2016-09-30T00:00:00\",\"2016-10-31T00:00:00\",\"2016-11-30T00:00:00\",\"2016-12-31T00:00:00\",\"2017-01-31T00:00:00\",\"2017-02-28T00:00:00\",\"2017-03-31T00:00:00\",\"2017-04-30T00:00:00\",\"2017-05-31T00:00:00\",\"2017-06-30T00:00:00\",\"2017-07-31T00:00:00\"],\"y\":[2015.6180161300001,2008.2878868048397,2003.4011339213996,2000.9577574796795,1996.0710045962392,1993.627628154519,1988.740875271079,1986.2974988293588,1983.8541217233449,1981.4107446173311,1978.9673675113174,1971.6372361932763,1969.1938590872626,1966.7504819812489,1964.307104875235,1961.8637278164451,1952.0902195812855,1949.6468425224955,1947.203465463706,1944.760088404916,1939.873334287336,1937.4299572285463,1934.9865801697565,1927.6546735143354,1925.2107046291947,1920.3227668589138,1915.4348290886333,1912.9908602034927,1910.5468913183524,1903.2149846629309,1898.3270469463089,1895.883078087998,1893.4391092296871,1886.107202654754,1883.6632337964431,1881.2192649381323,1878.7752960798211,1876.3313251466343,1873.8873542134477,1868.9994123470742,1866.5554414138874,1859.2235286143268,1856.7795576811402,1854.3355867479534,1851.8916158699633,1847.0036741139832,1842.115732358003,1834.7838197240324,1832.3398488460425,1829.8958779680524,1827.4519070900624,1825.0079362120723,1817.676023856212,1815.232053070925,1812.7880822856384,1810.3441115003516,1807.900140715065,1800.5682283592048,1798.1242575739177,1793.236315498705,1790.7923444610983,1785.9044023858855,1783.4604313482791,1778.5724892730661,1776.1285182354598,1771.240576160247,1766.3526341334343,1761.4646921066212,1759.020721093215,1756.5767500798086,1749.2448370395894,1746.800866026183,1744.3568950127767,1741.9129239297208,1739.4689528466647,1732.137039597497,1729.6930685144412,1727.249097431385,1724.8051263483292,1722.3611552652733,1719.9171841822174,1717.4732130982716,1712.5852709303797,1710.1412998464336,1705.2533576785418,1700.3654155106497,1697.9214444267038,1693.033502258812,1690.5895311955717,1688.1455601323314,1680.813646942611,1678.369675879371,1675.9257048161307,1673.4817337528907,1671.037762689651,1663.7058492281387,1661.2618780743016,1658.8179069204646,1656.373935766627,1653.92996461279,1646.5980511512782,1644.154079997441,1639.2661377323084,1636.822166599742,1631.9342243346096,1629.4902532020435,1624.6023109369112,1622.158339804345,1612.3824552740798,1609.9384841415138,1607.4945130192687,1605.0505418970235,1602.6065707747787,1595.2746574080431,1592.8306862857985,1590.3867151635534,1587.9427440413083,1585.4987729499376,1578.1668596758261,1575.7228885844556,1573.278917493085,1565.9470042189735,1563.503033127603,1558.6150909448615,1556.1711201538906,1553.7271493629196,1551.2831785719484,1543.9512661990352,1541.507295408064,1539.063324617093,1536.619353826122,1534.175383633488,1526.8434730555862,1524.3995028629522,1521.9555326703185,1519.5115624776845,1517.067592285051,1509.735681707149,1507.2917115145153,1504.8477430364621,1502.403774558409,1499.9598060803557,1497.5158376023023,1490.1839321681427,1487.7399636900898,1485.295995212036,1482.8520268753562,1477.964090201997,1475.5201218653172,1468.1882168552777,1465.744248518598,1458.4123435085585,1455.9683751718787,1453.5244080241432,1451.0804408764077,1448.6364737286722,1441.3045722854656,1438.86060513773,1436.4166379899946,1433.972670842259,1431.5287040042247,1424.1968034901208,1421.7528366520864,1419.3088698140518,1416.8649029760172,1414.4209361379828,1409.5330024619136,1407.089035623879,1402.2011033142885,1399.7571371594931,1397.313171004698,1389.9812725403121,1387.5373063855168,1385.0933402307217,1380.205407921131,1372.8735098069901,1370.429543768943,1367.9855777308962,1365.5416116928493,1355.7657475406613,1353.3217815026144,1350.8778154645674,1345.989883568617,1343.5459176206418,1341.1019516726665,1336.2140197767162,1333.7700538287409,1331.3260878807655,1328.8821219327906,1323.9941900368399,1319.1062581408896,1316.6622921929143,1314.2183262449391,1311.774360296964,1304.4424624530384,1301.998496505063,1299.554530557088,1294.6665986611374,1287.3347008172118,1284.8907348692364,1282.4467689212613,1280.0028029732862,1277.5588370253108,1270.2269391813852,1267.7829732334098,1262.8950413374596,1260.4510753894842,1255.563143493534,1253.1191775455586,1248.2312456496084,1243.3433137536579,1236.0114159097322,1233.5674499617571,1231.1234840137818,1228.6795180658064,1226.2355521178313,1218.9036542739057,1216.4596883259305,1211.57175642998,1209.127790482005,1201.7958926380793,1199.351926690104,1196.9079607421286,1194.4639947941537,1189.576062898203,1187.1320969502278,1182.2441650542773,1177.356233158327,1126.0335730513993,1050.271928683447,979.3987370674612,903.637986740588,830.3213961151108,754.5608208596955,681.2448226989734,605.4851559648489,529.7250742115269,456.4094931397176,380.6500476654151,307.3352248908457,231.5758175103086,155.81698054736137,87.39086973185155,11.63306093668841,-61.680839783520234,-137.43925002300244,-210.75337298470484,-286.510401855239],\"type\":\"scatter\",\"xaxis\":\"x\",\"yaxis\":\"y\"},{\"fill\":\"tonexty\",\"fillcolor\":\"rgba(0, 114, 178, 0.2)\",\"line\":{\"color\":\"rgba(0, 114, 178, 0.2)\",\"width\":0},\"mode\":\"lines\",\"name\":\"trend_lower\",\"x\":[\"2015-01-01T00:00:00\",\"2015-01-04T00:00:00\",\"2015-01-06T00:00:00\",\"2015-01-07T00:00:00\",\"2015-01-09T00:00:00\",\"2015-01-10T00:00:00\",\"2015-01-12T00:00:00\",\"2015-01-13T00:00:00\",\"2015-01-14T00:00:00\",\"2015-01-15T00:00:00\",\"2015-01-16T00:00:00\",\"2015-01-19T00:00:00\",\"2015-01-20T00:00:00\",\"2015-01-21T00:00:00\",\"2015-01-22T00:00:00\",\"2015-01-23T00:00:00\",\"2015-01-27T00:00:00\",\"2015-01-28T00:00:00\",\"2015-01-29T00:00:00\",\"2015-01-30T00:00:00\",\"2015-02-01T00:00:00\",\"2015-02-02T00:00:00\",\"2015-02-03T00:00:00\",\"2015-02-06T00:00:00\",\"2015-02-07T00:00:00\",\"2015-02-09T00:00:00\",\"2015-02-11T00:00:00\",\"2015-02-12T00:00:00\",\"2015-02-13T00:00:00\",\"2015-02-16T00:00:00\",\"2015-02-18T00:00:00\",\"2015-02-19T00:00:00\",\"2015-02-20T00:00:00\",\"2015-02-23T00:00:00\",\"2015-02-24T00:00:00\",\"2015-02-25T00:00:00\",\"2015-02-26T00:00:00\",\"2015-02-27T00:00:00\",\"2015-02-28T00:00:00\",\"2015-03-02T00:00:00\",\"2015-03-03T00:00:00\",\"2015-03-06T00:00:00\",\"2015-03-07T00:00:00\",\"2015-03-08T00:00:00\",\"2015-03-09T00:00:00\",\"2015-03-11T00:00:00\",\"2015-03-13T00:00:00\",\"2015-03-16T00:00:00\",\"2015-03-17T00:00:00\",\"2015-03-18T00:00:00\",\"2015-03-19T00:00:00\",\"2015-03-20T00:00:00\",\"2015-03-23T00:00:00\",\"2015-03-24T00:00:00\",\"2015-03-25T00:00:00\",\"2015-03-26T00:00:00\",\"2015-03-27T00:00:00\",\"2015-03-30T00:00:00\",\"2015-03-31T00:00:00\",\"2015-04-02T00:00:00\",\"2015-04-03T00:00:00\",\"2015-04-05T00:00:00\",\"2015-04-06T00:00:00\",\"2015-04-08T00:00:00\",\"2015-04-09T00:00:00\",\"2015-04-11T00:00:00\",\"2015-04-13T00:00:00\",\"2015-04-15T00:00:00\",\"2015-04-16T00:00:00\",\"2015-04-17T00:00:00\",\"2015-04-20T00:00:00\",\"2015-04-21T00:00:00\",\"2015-04-22T00:00:00\",\"2015-04-23T00:00:00\",\"2015-04-24T00:00:00\",\"2015-04-27T00:00:00\",\"2015-04-28T00:00:00\",\"2015-04-29T00:00:00\",\"2015-04-30T00:00:00\",\"2015-05-01T00:00:00\",\"2015-05-02T00:00:00\",\"2015-05-03T00:00:00\",\"2015-05-05T00:00:00\",\"2015-05-06T00:00:00\",\"2015-05-08T00:00:00\",\"2015-05-10T00:00:00\",\"2015-05-11T00:00:00\",\"2015-05-13T00:00:00\",\"2015-05-14T00:00:00\",\"2015-05-15T00:00:00\",\"2015-05-18T00:00:00\",\"2015-05-19T00:00:00\",\"2015-05-20T00:00:00\",\"2015-05-21T00:00:00\",\"2015-05-22T00:00:00\",\"2015-05-25T00:00:00\",\"2015-05-26T00:00:00\",\"2015-05-27T00:00:00\",\"2015-05-28T00:00:00\",\"2015-05-29T00:00:00\",\"2015-06-01T00:00:00\",\"2015-06-02T00:00:00\",\"2015-06-04T00:00:00\",\"2015-06-05T00:00:00\",\"2015-06-07T00:00:00\",\"2015-06-08T00:00:00\",\"2015-06-10T00:00:00\",\"2015-06-11T00:00:00\",\"2015-06-15T00:00:00\",\"2015-06-16T00:00:00\",\"2015-06-17T00:00:00\",\"2015-06-18T00:00:00\",\"2015-06-19T00:00:00\",\"2015-06-22T00:00:00\",\"2015-06-23T00:00:00\",\"2015-06-24T00:00:00\",\"2015-06-25T00:00:00\",\"2015-06-26T00:00:00\",\"2015-06-29T00:00:00\",\"2015-06-30T00:00:00\",\"2015-07-01T00:00:00\",\"2015-07-04T00:00:00\",\"2015-07-05T00:00:00\",\"2015-07-07T00:00:00\",\"2015-07-08T00:00:00\",\"2015-07-09T00:00:00\",\"2015-07-10T00:00:00\",\"2015-07-13T00:00:00\",\"2015-07-14T00:00:00\",\"2015-07-15T00:00:00\",\"2015-07-16T00:00:00\",\"2015-07-17T00:00:00\",\"2015-07-20T00:00:00\",\"2015-07-21T00:00:00\",\"2015-07-22T00:00:00\",\"2015-07-23T00:00:00\",\"2015-07-24T00:00:00\",\"2015-07-27T00:00:00\",\"2015-07-28T00:00:00\",\"2015-07-29T00:00:00\",\"2015-07-30T00:00:00\",\"2015-07-31T00:00:00\",\"2015-08-01T00:00:00\",\"2015-08-04T00:00:00\",\"2015-08-05T00:00:00\",\"2015-08-06T00:00:00\",\"2015-08-07T00:00:00\",\"2015-08-09T00:00:00\",\"2015-08-10T00:00:00\",\"2015-08-13T00:00:00\",\"2015-08-14T00:00:00\",\"2015-08-17T00:00:00\",\"2015-08-18T00:00:00\",\"2015-08-19T00:00:00\",\"2015-08-20T00:00:00\",\"2015-08-21T00:00:00\",\"2015-08-24T00:00:00\",\"2015-08-25T00:00:00\",\"2015-08-26T00:00:00\",\"2015-08-27T00:00:00\",\"2015-08-28T00:00:00\",\"2015-08-31T00:00:00\",\"2015-09-01T00:00:00\",\"2015-09-02T00:00:00\",\"2015-09-03T00:00:00\",\"2015-09-04T00:00:00\",\"2015-09-06T00:00:00\",\"2015-09-07T00:00:00\",\"2015-09-09T00:00:00\",\"2015-09-10T00:00:00\",\"2015-09-11T00:00:00\",\"2015-09-14T00:00:00\",\"2015-09-15T00:00:00\",\"2015-09-16T00:00:00\",\"2015-09-18T00:00:00\",\"2015-09-21T00:00:00\",\"2015-09-22T00:00:00\",\"2015-09-23T00:00:00\",\"2015-09-24T00:00:00\",\"2015-09-28T00:00:00\",\"2015-09-29T00:00:00\",\"2015-09-30T00:00:00\",\"2015-10-02T00:00:00\",\"2015-10-03T00:00:00\",\"2015-10-04T00:00:00\",\"2015-10-06T00:00:00\",\"2015-10-07T00:00:00\",\"2015-10-08T00:00:00\",\"2015-10-09T00:00:00\",\"2015-10-11T00:00:00\",\"2015-10-13T00:00:00\",\"2015-10-14T00:00:00\",\"2015-10-15T00:00:00\",\"2015-10-16T00:00:00\",\"2015-10-19T00:00:00\",\"2015-10-20T00:00:00\",\"2015-10-21T00:00:00\",\"2015-10-23T00:00:00\",\"2015-10-26T00:00:00\",\"2015-10-27T00:00:00\",\"2015-10-28T00:00:00\",\"2015-10-29T00:00:00\",\"2015-10-30T00:00:00\",\"2015-11-02T00:00:00\",\"2015-11-03T00:00:00\",\"2015-11-05T00:00:00\",\"2015-11-06T00:00:00\",\"2015-11-08T00:00:00\",\"2015-11-09T00:00:00\",\"2015-11-11T00:00:00\",\"2015-11-13T00:00:00\",\"2015-11-16T00:00:00\",\"2015-11-17T00:00:00\",\"2015-11-18T00:00:00\",\"2015-11-19T00:00:00\",\"2015-11-20T00:00:00\",\"2015-11-23T00:00:00\",\"2015-11-24T00:00:00\",\"2015-11-26T00:00:00\",\"2015-11-27T00:00:00\",\"2015-11-30T00:00:00\",\"2015-12-01T00:00:00\",\"2015-12-02T00:00:00\",\"2015-12-03T00:00:00\",\"2015-12-05T00:00:00\",\"2015-12-06T00:00:00\",\"2015-12-08T00:00:00\",\"2015-12-10T00:00:00\",\"2015-12-31T00:00:00\",\"2016-01-31T00:00:00\",\"2016-02-29T00:00:00\",\"2016-03-31T00:00:00\",\"2016-04-30T00:00:00\",\"2016-05-31T00:00:00\",\"2016-06-30T00:00:00\",\"2016-07-31T00:00:00\",\"2016-08-31T00:00:00\",\"2016-09-30T00:00:00\",\"2016-10-31T00:00:00\",\"2016-11-30T00:00:00\",\"2016-12-31T00:00:00\",\"2017-01-31T00:00:00\",\"2017-02-28T00:00:00\",\"2017-03-31T00:00:00\",\"2017-04-30T00:00:00\",\"2017-05-31T00:00:00\",\"2017-06-30T00:00:00\",\"2017-07-31T00:00:00\"],\"y\":[2015.6180161300001,2008.2878868048397,2003.4011339213996,2000.9577574796795,1996.0710045962392,1993.627628154519,1988.740875271079,1986.2974988293588,1983.8541217233449,1981.4107446173311,1978.9673675113174,1971.6372361932763,1969.1938590872626,1966.7504819812489,1964.307104875235,1961.8637278164451,1952.0902195812855,1949.6468425224955,1947.203465463706,1944.760088404916,1939.873334287336,1937.4299572285463,1934.9865801697565,1927.6546735143354,1925.2107046291947,1920.3227668589138,1915.4348290886333,1912.9908602034927,1910.5468913183524,1903.2149846629309,1898.3270469463089,1895.883078087998,1893.4391092296871,1886.107202654754,1883.6632337964431,1881.2192649381323,1878.7752960798211,1876.3313251466343,1873.8873542134477,1868.9994123470742,1866.5554414138874,1859.2235286143268,1856.7795576811402,1854.3355867479534,1851.8916158699633,1847.0036741139832,1842.115732358003,1834.7838197240324,1832.3398488460425,1829.8958779680524,1827.4519070900624,1825.0079362120723,1817.676023856212,1815.232053070925,1812.7880822856384,1810.3441115003516,1807.900140715065,1800.5682283592048,1798.1242575739177,1793.236315498705,1790.7923444610983,1785.9044023858855,1783.4604313482791,1778.5724892730661,1776.1285182354598,1771.240576160247,1766.3526341334343,1761.4646921066212,1759.020721093215,1756.5767500798086,1749.2448370395894,1746.800866026183,1744.3568950127767,1741.9129239297208,1739.4689528466647,1732.137039597497,1729.6930685144412,1727.249097431385,1724.8051263483292,1722.3611552652733,1719.9171841822174,1717.4732130982716,1712.5852709303797,1710.1412998464336,1705.2533576785418,1700.3654155106497,1697.9214444267038,1693.033502258812,1690.5895311955717,1688.1455601323314,1680.813646942611,1678.369675879371,1675.9257048161307,1673.4817337528907,1671.037762689651,1663.7058492281387,1661.2618780743016,1658.8179069204646,1656.373935766627,1653.92996461279,1646.5980511512782,1644.154079997441,1639.2661377323084,1636.822166599742,1631.9342243346096,1629.4902532020435,1624.6023109369112,1622.158339804345,1612.3824552740798,1609.9384841415138,1607.4945130192687,1605.0505418970235,1602.6065707747787,1595.2746574080431,1592.8306862857985,1590.3867151635534,1587.9427440413083,1585.4987729499376,1578.1668596758261,1575.7228885844556,1573.278917493085,1565.9470042189735,1563.503033127603,1558.6150909448615,1556.1711201538906,1553.7271493629196,1551.2831785719484,1543.9512661990352,1541.507295408064,1539.063324617093,1536.619353826122,1534.175383633488,1526.8434730555862,1524.3995028629522,1521.9555326703185,1519.5115624776845,1517.067592285051,1509.735681707149,1507.2917115145153,1504.8477430364621,1502.403774558409,1499.9598060803557,1497.5158376023023,1490.1839321681427,1487.7399636900898,1485.295995212036,1482.8520268753562,1477.964090201997,1475.5201218653172,1468.1882168552777,1465.744248518598,1458.4123435085585,1455.9683751718787,1453.5244080241432,1451.0804408764077,1448.6364737286722,1441.3045722854656,1438.86060513773,1436.4166379899946,1433.972670842259,1431.5287040042247,1424.1968034901208,1421.7528366520864,1419.3088698140518,1416.8649029760172,1414.4209361379828,1409.5330024619136,1407.089035623879,1402.2011033142885,1399.7571371594931,1397.313171004698,1389.9812725403121,1387.5373063855168,1385.0933402307217,1380.205407921131,1372.8735098069901,1370.429543768943,1367.9855777308962,1365.5416116928493,1355.7657475406613,1353.3217815026144,1350.8778154645674,1345.989883568617,1343.5459176206418,1341.1019516726665,1336.2140197767162,1333.7700538287409,1331.3260878807655,1328.8821219327906,1323.9941900368399,1319.1062581408896,1316.6622921929143,1314.2183262449391,1311.774360296964,1304.4424624530384,1301.998496505063,1299.554530557088,1294.6665986611374,1287.3347008172118,1284.8907348692364,1282.4467689212613,1280.0028029732862,1277.5588370253108,1270.2269391813852,1267.7829732334098,1262.8950413374596,1260.4510753894842,1255.563143493534,1253.1191775455586,1248.2312456496084,1243.3433137536579,1236.0114159097322,1233.5674499617571,1231.1234840137818,1228.6795180658064,1226.2355521178313,1218.9036542739057,1216.4596883259305,1211.57175642998,1209.127790482005,1201.7958926380793,1199.351926690104,1196.9079607421286,1194.4639947941537,1189.576062898203,1187.1320969502278,1182.2441650542773,1177.356233158327,1126.0323595155812,1050.2681054560555,979.3911824780287,903.6264012678735,830.3047118331876,754.539285570603,681.217574803165,605.4518875578846,529.6855234375695,456.3633833075291,380.59741982375306,307.2755562407563,231.50978113821802,155.7434586481773,87.30853374536157,11.54209142565604,-61.78226161286067,-137.54885976300818,-210.87244844270649,-286.6402547578474],\"type\":\"scatter\",\"xaxis\":\"x\",\"yaxis\":\"y\"},{\"line\":{\"color\":\"#0072B2\",\"width\":2},\"mode\":\"lines\",\"name\":\"weekly\",\"x\":[\"2017-01-01T00:00:00\",\"2017-01-02T00:00:00\",\"2017-01-03T00:00:00\",\"2017-01-04T00:00:00\",\"2017-01-05T00:00:00\",\"2017-01-06T00:00:00\",\"2017-01-07T00:00:00\"],\"y\":[50.37382384307024,-109.1252002773359,70.94980638167765,-59.30546558710655,12.02828327900474,17.92215816813575,17.15659419205042],\"type\":\"scatter\",\"xaxis\":\"x2\",\"yaxis\":\"y2\"}],                        {\"template\":{\"data\":{\"histogram2dcontour\":[{\"type\":\"histogram2dcontour\",\"colorbar\":{\"outlinewidth\":0,\"ticks\":\"\"},\"colorscale\":[[0.0,\"#0d0887\"],[0.1111111111111111,\"#46039f\"],[0.2222222222222222,\"#7201a8\"],[0.3333333333333333,\"#9c179e\"],[0.4444444444444444,\"#bd3786\"],[0.5555555555555556,\"#d8576b\"],[0.6666666666666666,\"#ed7953\"],[0.7777777777777778,\"#fb9f3a\"],[0.8888888888888888,\"#fdca26\"],[1.0,\"#f0f921\"]]}],\"choropleth\":[{\"type\":\"choropleth\",\"colorbar\":{\"outlinewidth\":0,\"ticks\":\"\"}}],\"histogram2d\":[{\"type\":\"histogram2d\",\"colorbar\":{\"outlinewidth\":0,\"ticks\":\"\"},\"colorscale\":[[0.0,\"#0d0887\"],[0.1111111111111111,\"#46039f\"],[0.2222222222222222,\"#7201a8\"],[0.3333333333333333,\"#9c179e\"],[0.4444444444444444,\"#bd3786\"],[0.5555555555555556,\"#d8576b\"],[0.6666666666666666,\"#ed7953\"],[0.7777777777777778,\"#fb9f3a\"],[0.8888888888888888,\"#fdca26\"],[1.0,\"#f0f921\"]]}],\"heatmap\":[{\"type\":\"heatmap\",\"colorbar\":{\"outlinewidth\":0,\"ticks\":\"\"},\"colorscale\":[[0.0,\"#0d0887\"],[0.1111111111111111,\"#46039f\"],[0.2222222222222222,\"#7201a8\"],[0.3333333333333333,\"#9c179e\"],[0.4444444444444444,\"#bd3786\"],[0.5555555555555556,\"#d8576b\"],[0.6666666666666666,\"#ed7953\"],[0.7777777777777778,\"#fb9f3a\"],[0.8888888888888888,\"#fdca26\"],[1.0,\"#f0f921\"]]}],\"heatmapgl\":[{\"type\":\"heatmapgl\",\"colorbar\":{\"outlinewidth\":0,\"ticks\":\"\"},\"colorscale\":[[0.0,\"#0d0887\"],[0.1111111111111111,\"#46039f\"],[0.2222222222222222,\"#7201a8\"],[0.3333333333333333,\"#9c179e\"],[0.4444444444444444,\"#bd3786\"],[0.5555555555555556,\"#d8576b\"],[0.6666666666666666,\"#ed7953\"],[0.7777777777777778,\"#fb9f3a\"],[0.8888888888888888,\"#fdca26\"],[1.0,\"#f0f921\"]]}],\"contourcarpet\":[{\"type\":\"contourcarpet\",\"colorbar\":{\"outlinewidth\":0,\"ticks\":\"\"}}],\"contour\":[{\"type\":\"contour\",\"colorbar\":{\"outlinewidth\":0,\"ticks\":\"\"},\"colorscale\":[[0.0,\"#0d0887\"],[0.1111111111111111,\"#46039f\"],[0.2222222222222222,\"#7201a8\"],[0.3333333333333333,\"#9c179e\"],[0.4444444444444444,\"#bd3786\"],[0.5555555555555556,\"#d8576b\"],[0.6666666666666666,\"#ed7953\"],[0.7777777777777778,\"#fb9f3a\"],[0.8888888888888888,\"#fdca26\"],[1.0,\"#f0f921\"]]}],\"surface\":[{\"type\":\"surface\",\"colorbar\":{\"outlinewidth\":0,\"ticks\":\"\"},\"colorscale\":[[0.0,\"#0d0887\"],[0.1111111111111111,\"#46039f\"],[0.2222222222222222,\"#7201a8\"],[0.3333333333333333,\"#9c179e\"],[0.4444444444444444,\"#bd3786\"],[0.5555555555555556,\"#d8576b\"],[0.6666666666666666,\"#ed7953\"],[0.7777777777777778,\"#fb9f3a\"],[0.8888888888888888,\"#fdca26\"],[1.0,\"#f0f921\"]]}],\"mesh3d\":[{\"type\":\"mesh3d\",\"colorbar\":{\"outlinewidth\":0,\"ticks\":\"\"}}],\"scatter\":[{\"fillpattern\":{\"fillmode\":\"overlay\",\"size\":10,\"solidity\":0.2},\"type\":\"scatter\"}],\"parcoords\":[{\"type\":\"parcoords\",\"line\":{\"colorbar\":{\"outlinewidth\":0,\"ticks\":\"\"}}}],\"scatterpolargl\":[{\"type\":\"scatterpolargl\",\"marker\":{\"colorbar\":{\"outlinewidth\":0,\"ticks\":\"\"}}}],\"bar\":[{\"error_x\":{\"color\":\"#2a3f5f\"},\"error_y\":{\"color\":\"#2a3f5f\"},\"marker\":{\"line\":{\"color\":\"#E5ECF6\",\"width\":0.5},\"pattern\":{\"fillmode\":\"overlay\",\"size\":10,\"solidity\":0.2}},\"type\":\"bar\"}],\"scattergeo\":[{\"type\":\"scattergeo\",\"marker\":{\"colorbar\":{\"outlinewidth\":0,\"ticks\":\"\"}}}],\"scatterpolar\":[{\"type\":\"scatterpolar\",\"marker\":{\"colorbar\":{\"outlinewidth\":0,\"ticks\":\"\"}}}],\"histogram\":[{\"marker\":{\"pattern\":{\"fillmode\":\"overlay\",\"size\":10,\"solidity\":0.2}},\"type\":\"histogram\"}],\"scattergl\":[{\"type\":\"scattergl\",\"marker\":{\"colorbar\":{\"outlinewidth\":0,\"ticks\":\"\"}}}],\"scatter3d\":[{\"type\":\"scatter3d\",\"line\":{\"colorbar\":{\"outlinewidth\":0,\"ticks\":\"\"}},\"marker\":{\"colorbar\":{\"outlinewidth\":0,\"ticks\":\"\"}}}],\"scattermapbox\":[{\"type\":\"scattermapbox\",\"marker\":{\"colorbar\":{\"outlinewidth\":0,\"ticks\":\"\"}}}],\"scatterternary\":[{\"type\":\"scatterternary\",\"marker\":{\"colorbar\":{\"outlinewidth\":0,\"ticks\":\"\"}}}],\"scattercarpet\":[{\"type\":\"scattercarpet\",\"marker\":{\"colorbar\":{\"outlinewidth\":0,\"ticks\":\"\"}}}],\"carpet\":[{\"aaxis\":{\"endlinecolor\":\"#2a3f5f\",\"gridcolor\":\"white\",\"linecolor\":\"white\",\"minorgridcolor\":\"white\",\"startlinecolor\":\"#2a3f5f\"},\"baxis\":{\"endlinecolor\":\"#2a3f5f\",\"gridcolor\":\"white\",\"linecolor\":\"white\",\"minorgridcolor\":\"white\",\"startlinecolor\":\"#2a3f5f\"},\"type\":\"carpet\"}],\"table\":[{\"cells\":{\"fill\":{\"color\":\"#EBF0F8\"},\"line\":{\"color\":\"white\"}},\"header\":{\"fill\":{\"color\":\"#C8D4E3\"},\"line\":{\"color\":\"white\"}},\"type\":\"table\"}],\"barpolar\":[{\"marker\":{\"line\":{\"color\":\"#E5ECF6\",\"width\":0.5},\"pattern\":{\"fillmode\":\"overlay\",\"size\":10,\"solidity\":0.2}},\"type\":\"barpolar\"}],\"pie\":[{\"automargin\":true,\"type\":\"pie\"}]},\"layout\":{\"autotypenumbers\":\"strict\",\"colorway\":[\"#636efa\",\"#EF553B\",\"#00cc96\",\"#ab63fa\",\"#FFA15A\",\"#19d3f3\",\"#FF6692\",\"#B6E880\",\"#FF97FF\",\"#FECB52\"],\"font\":{\"color\":\"#2a3f5f\"},\"hovermode\":\"closest\",\"hoverlabel\":{\"align\":\"left\"},\"paper_bgcolor\":\"white\",\"plot_bgcolor\":\"#E5ECF6\",\"polar\":{\"bgcolor\":\"#E5ECF6\",\"angularaxis\":{\"gridcolor\":\"white\",\"linecolor\":\"white\",\"ticks\":\"\"},\"radialaxis\":{\"gridcolor\":\"white\",\"linecolor\":\"white\",\"ticks\":\"\"}},\"ternary\":{\"bgcolor\":\"#E5ECF6\",\"aaxis\":{\"gridcolor\":\"white\",\"linecolor\":\"white\",\"ticks\":\"\"},\"baxis\":{\"gridcolor\":\"white\",\"linecolor\":\"white\",\"ticks\":\"\"},\"caxis\":{\"gridcolor\":\"white\",\"linecolor\":\"white\",\"ticks\":\"\"}},\"coloraxis\":{\"colorbar\":{\"outlinewidth\":0,\"ticks\":\"\"}},\"colorscale\":{\"sequential\":[[0.0,\"#0d0887\"],[0.1111111111111111,\"#46039f\"],[0.2222222222222222,\"#7201a8\"],[0.3333333333333333,\"#9c179e\"],[0.4444444444444444,\"#bd3786\"],[0.5555555555555556,\"#d8576b\"],[0.6666666666666666,\"#ed7953\"],[0.7777777777777778,\"#fb9f3a\"],[0.8888888888888888,\"#fdca26\"],[1.0,\"#f0f921\"]],\"sequentialminus\":[[0.0,\"#0d0887\"],[0.1111111111111111,\"#46039f\"],[0.2222222222222222,\"#7201a8\"],[0.3333333333333333,\"#9c179e\"],[0.4444444444444444,\"#bd3786\"],[0.5555555555555556,\"#d8576b\"],[0.6666666666666666,\"#ed7953\"],[0.7777777777777778,\"#fb9f3a\"],[0.8888888888888888,\"#fdca26\"],[1.0,\"#f0f921\"]],\"diverging\":[[0,\"#8e0152\"],[0.1,\"#c51b7d\"],[0.2,\"#de77ae\"],[0.3,\"#f1b6da\"],[0.4,\"#fde0ef\"],[0.5,\"#f7f7f7\"],[0.6,\"#e6f5d0\"],[0.7,\"#b8e186\"],[0.8,\"#7fbc41\"],[0.9,\"#4d9221\"],[1,\"#276419\"]]},\"xaxis\":{\"gridcolor\":\"white\",\"linecolor\":\"white\",\"ticks\":\"\",\"title\":{\"standoff\":15},\"zerolinecolor\":\"white\",\"automargin\":true,\"zerolinewidth\":2},\"yaxis\":{\"gridcolor\":\"white\",\"linecolor\":\"white\",\"ticks\":\"\",\"title\":{\"standoff\":15},\"zerolinecolor\":\"white\",\"automargin\":true,\"zerolinewidth\":2},\"scene\":{\"xaxis\":{\"backgroundcolor\":\"#E5ECF6\",\"gridcolor\":\"white\",\"linecolor\":\"white\",\"showbackground\":true,\"ticks\":\"\",\"zerolinecolor\":\"white\",\"gridwidth\":2},\"yaxis\":{\"backgroundcolor\":\"#E5ECF6\",\"gridcolor\":\"white\",\"linecolor\":\"white\",\"showbackground\":true,\"ticks\":\"\",\"zerolinecolor\":\"white\",\"gridwidth\":2},\"zaxis\":{\"backgroundcolor\":\"#E5ECF6\",\"gridcolor\":\"white\",\"linecolor\":\"white\",\"showbackground\":true,\"ticks\":\"\",\"zerolinecolor\":\"white\",\"gridwidth\":2}},\"shapedefaults\":{\"line\":{\"color\":\"#2a3f5f\"}},\"annotationdefaults\":{\"arrowcolor\":\"#2a3f5f\",\"arrowhead\":0,\"arrowwidth\":1},\"geo\":{\"bgcolor\":\"white\",\"landcolor\":\"#E5ECF6\",\"subunitcolor\":\"white\",\"showland\":true,\"showlakes\":true,\"lakecolor\":\"white\"},\"title\":{\"x\":0.05},\"mapbox\":{\"style\":\"light\"}}},\"xaxis\":{\"anchor\":\"y\",\"domain\":[0.0,1.0],\"range\":[\"2014-11-14T21:36:00\",\"2017-09-16T02:24:00\"],\"type\":\"date\"},\"yaxis\":{\"anchor\":\"x\",\"domain\":[0.575,1.0],\"title\":{\"text\":\"trend\"},\"rangemode\":\"normal\",\"zerolinecolor\":\"#AAA\"},\"xaxis2\":{\"anchor\":\"y2\",\"domain\":[0.0,1.0],\"range\":[\"2016-12-31T16:48:00\",\"2017-01-07T07:12:00\"],\"tickformat\":\"%A\",\"type\":\"date\"},\"yaxis2\":{\"anchor\":\"x2\",\"domain\":[0.0,0.425],\"title\":{\"text\":\"weekly\"},\"zerolinecolor\":\"#AAA\"},\"height\":400,\"showlegend\":false,\"width\":900},                        {\"responsive\": true}                    ).then(function(){\n",
              "                            \n",
              "var gd = document.getElementById('2a1b44b3-a062-41ea-b581-d3ef6e4ee772');\n",
              "var x = new MutationObserver(function (mutations, observer) {{\n",
              "        var display = window.getComputedStyle(gd).display;\n",
              "        if (!display || display === 'none') {{\n",
              "            console.log([gd, 'removed!']);\n",
              "            Plotly.purge(gd);\n",
              "            observer.disconnect();\n",
              "        }}\n",
              "}});\n",
              "\n",
              "// Listen for the removal of the full notebook cells\n",
              "var notebookContainer = gd.closest('#notebook-container');\n",
              "if (notebookContainer) {{\n",
              "    x.observe(notebookContainer, {childList: true});\n",
              "}}\n",
              "\n",
              "// Listen for the clearing of the current output cell\n",
              "var outputEl = gd.closest('.output');\n",
              "if (outputEl) {{\n",
              "    x.observe(outputEl, {childList: true});\n",
              "}}\n",
              "\n",
              "                        })                };                            </script>        </div>\n",
              "</body>\n",
              "</html>"
            ]
          },
          "metadata": {}
        }
      ]
    },
    {
      "cell_type": "code",
      "source": [
        "forecast[-20:]['yhat']"
      ],
      "metadata": {
        "colab": {
          "base_uri": "https://localhost:8080/"
        },
        "id": "rRE8J8uSAuDn",
        "outputId": "a8826e32-d759-4c44-efeb-29ec60c97e4f"
      },
      "id": "rRE8J8uSAuDn",
      "execution_count": 79,
      "outputs": [
        {
          "output_type": "execute_result",
          "data": {
            "text/plain": [
              "228    1138.061232\n",
              "229    1100.643828\n",
              "230     870.269791\n",
              "231     915.660330\n",
              "232     847.469663\n",
              "233     825.499931\n",
              "234     693.259429\n",
              "235     655.842025\n",
              "236     470.399791\n",
              "237     474.308437\n",
              "238     271.498134\n",
              "239     247.998890\n",
              "240     248.698005\n",
              "241     226.728273\n",
              "242     158.297227\n",
              "243      29.506634\n",
              "244     -11.360679\n",
              "245    -196.802912\n",
              "246    -192.894267\n",
              "247    -395.704570\n",
              "Name: yhat, dtype: float64"
            ]
          },
          "metadata": {},
          "execution_count": 79
        }
      ]
    },
    {
      "cell_type": "code",
      "source": [
        "mean_absolute_error(data[-20:]['y'], forecast[-20:]['yhat'])"
      ],
      "metadata": {
        "colab": {
          "base_uri": "https://localhost:8080/"
        },
        "id": "ouE-q_rKAxO6",
        "outputId": "5fcfd29b-66ec-4a68-e290-97f53f135713"
      },
      "id": "ouE-q_rKAxO6",
      "execution_count": 80,
      "outputs": [
        {
          "output_type": "execute_result",
          "data": {
            "text/plain": [
              "671.1825463472501"
            ]
          },
          "metadata": {},
          "execution_count": 80
        }
      ]
    },
    {
      "cell_type": "code",
      "source": [
        "mean_absolute_percentage_error(data[-20:]['y'], forecast[-20:]['yhat'])"
      ],
      "metadata": {
        "colab": {
          "base_uri": "https://localhost:8080/"
        },
        "id": "BSMPgp60A1BF",
        "outputId": "cbdb2e87-8699-4a00-ea85-eef8ed2f72f2"
      },
      "id": "BSMPgp60A1BF",
      "execution_count": 81,
      "outputs": [
        {
          "output_type": "execute_result",
          "data": {
            "text/plain": [
              "0.6155502383143662"
            ]
          },
          "metadata": {},
          "execution_count": 81
        }
      ]
    },
    {
      "cell_type": "code",
      "source": [
        "mean_squared_error(data[-20:]['y'], forecast[-20:]['yhat'])**0.5"
      ],
      "metadata": {
        "colab": {
          "base_uri": "https://localhost:8080/"
        },
        "id": "zcJuGCcEA4DI",
        "outputId": "b02f0c6d-679b-4304-bf8e-8e7ea27a8d3c"
      },
      "id": "zcJuGCcEA4DI",
      "execution_count": 82,
      "outputs": [
        {
          "output_type": "execute_result",
          "data": {
            "text/plain": [
              "802.7390094074282"
            ]
          },
          "metadata": {},
          "execution_count": 82
        }
      ]
    },
    {
      "cell_type": "code",
      "source": [],
      "metadata": {
        "id": "0_vjNwITA-Gj"
      },
      "id": "0_vjNwITA-Gj",
      "execution_count": 82,
      "outputs": []
    }
  ],
  "metadata": {
    "kernelspec": {
      "display_name": "Python 3",
      "language": "python",
      "name": "python3"
    },
    "language_info": {
      "codemirror_mode": {
        "name": "ipython",
        "version": 3
      },
      "file_extension": ".py",
      "mimetype": "text/x-python",
      "name": "python",
      "nbconvert_exporter": "python",
      "pygments_lexer": "ipython3",
      "version": "3.7.10"
    },
    "papermill": {
      "default_parameters": {},
      "duration": 23.860049,
      "end_time": "2021-09-23T06:58:47.293128",
      "environment_variables": {},
      "exception": null,
      "input_path": "__notebook__.ipynb",
      "output_path": "__notebook__.ipynb",
      "parameters": {},
      "start_time": "2021-09-23T06:58:23.433079",
      "version": "2.3.3"
    },
    "colab": {
      "provenance": []
    }
  },
  "nbformat": 4,
  "nbformat_minor": 5
}